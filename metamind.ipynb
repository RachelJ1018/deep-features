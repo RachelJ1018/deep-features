{
 "cells": [
  {
   "cell_type": "code",
   "execution_count": 1,
   "metadata": {
    "autoscroll": "json-false",
    "collapsed": false,
    "ein.tags": [
     "worksheet-0"
    ]
   },
   "outputs": [],
   "source": [
    "%matplotlib inline\n",
    "%load_ext autoreload\n",
    "%autoreload 2\n",
    "import os\n",
    "import sys\n",
    "\n",
    "import csv\n",
    "import datetime\n",
    "import itertools\n",
    "import numpy as np\n",
    "import pandas as pd\n",
    "import random\n",
    "import re\n",
    "import sklearn\n",
    "import time\n",
    "from collections import defaultdict\n",
    "\n",
    "import matplotlib as mpl\n",
    "import matplotlib.pyplot as plt\n",
    "import seaborn as sns\n",
    "sns.set_style(\"whitegrid\")\n",
    "sns.set_context(rc={\n",
    "       \"figure.figsize\": (16, 10),\n",
    "       \"axes.titlesize\": 14})\n",
    "\n",
    "from IPython.display import Image, display\n",
    "from IPython.core.display import HTML\n",
    "HTML(\"<style>.container { width:100% !important; }</style>\")\n",
    "\n",
    "from os.path import expanduser\n",
    "sys.path.insert(1, '{}/datsci'.format(expanduser('~')))\n",
    "from datsci import eda\n",
    "from datsci import kaggle as kg"
   ]
  },
  {
   "cell_type": "code",
   "execution_count": 2,
   "metadata": {
    "autoscroll": "json-false",
    "collapsed": false,
    "ein.tags": [
     "worksheet-0"
    ]
   },
   "outputs": [
    {
     "name": "stdout",
     "output_type": "stream",
     "text": [
      "Hello, Joseph Kim\n"
     ]
    }
   ],
   "source": [
    "import metamind\n",
    "from metamind.api import set_api_key, general_image_classifier, ClassificationData, ClassificationModel\n",
    "\n",
    "set_api_key('QbZ0xVmnuGsuA40RA42HpYNI8BUjvUvKOvjCtV4OBaJFv6KJQ3')"
   ]
  },
  {
   "cell_type": "code",
   "execution_count": 3,
   "metadata": {
    "autoscroll": "json-false",
    "collapsed": false,
    "ein.tags": [
     "worksheet-0"
    ]
   },
   "outputs": [],
   "source": [
    "train_data_file = 'data/kfood_train.txt'\n",
    "test_data_file = 'data/kfood_test.txt'\n",
    "train_data = pd.read_csv(train_data_file)\n",
    "test_data = pd.read_csv(test_data_file)"
   ]
  },
  {
   "cell_type": "code",
   "execution_count": 4,
   "metadata": {
    "autoscroll": "json-false",
    "collapsed": false,
    "ein.tags": [
     "worksheet-0"
    ]
   },
   "outputs": [
    {
     "data": {
      "text/plain": [
       "(2431, 2)"
      ]
     },
     "execution_count": 4,
     "metadata": {},
     "output_type": "execute_result"
    }
   ],
   "source": [
    "train_data.shape"
   ]
  },
  {
   "cell_type": "code",
   "execution_count": 5,
   "metadata": {
    "autoscroll": "json-false",
    "collapsed": false,
    "ein.tags": [
     "worksheet-0"
    ]
   },
   "outputs": [
    {
     "data": {
      "text/plain": [
       "(1039, 2)"
      ]
     },
     "execution_count": 5,
     "metadata": {},
     "output_type": "execute_result"
    }
   ],
   "source": [
    "test_data.shape"
   ]
  },
  {
   "cell_type": "code",
   "execution_count": 6,
   "metadata": {
    "autoscroll": "json-false",
    "collapsed": false,
    "ein.tags": [
     "worksheet-0"
    ]
   },
   "outputs": [
    {
     "data": {
      "text/plain": [
       "    category                                  filepath\n",
       "0   dakgalbi      Images/kfood-dakgalbi/dakgalbi.7.jpg\n",
       "1  ddukbokee  Images/kfood-ddukbokee/ddukbokee.137.jpg\n",
       "2     kimbab        Images/kfood-kimbab/kimbab.134.jpg\n",
       "3   dakgalbi    Images/kfood-dakgalbi/dakgalbi.133.jpg\n",
       "4   dakgalbi     Images/kfood-dakgalbi/dakgalbi.94.jpg"
      ]
     },
     "execution_count": 6,
     "metadata": {},
     "output_type": "execute_result"
    }
   ],
   "source": [
    "train_data.head()"
   ]
  },
  {
   "cell_type": "code",
   "execution_count": 7,
   "metadata": {
    "autoscroll": "json-false",
    "collapsed": false,
    "ein.tags": [
     "worksheet-0"
    ]
   },
   "outputs": [
    {
     "data": {
      "text/plain": [
       "      category                                     filepath\n",
       "0      bulgogi          Images/kfood-bulgogi/bulgogi.68.jpg\n",
       "1      japchae          Images/kfood-japchae/japchae.90.jpg\n",
       "2    ddukbokee      Images/kfood-ddukbokee/ddukbokee.44.jpg\n",
       "3  sullungtang  Images/kfood-sullungtang/sullungtang.82.jpg\n",
       "4    ddukbokee      Images/kfood-ddukbokee/ddukbokee.76.jpg"
      ]
     },
     "execution_count": 7,
     "metadata": {},
     "output_type": "execute_result"
    }
   ],
   "source": [
    "test_data.head()"
   ]
  },
  {
   "cell_type": "code",
   "execution_count": 33,
   "metadata": {
    "autoscroll": "json-false",
    "collapsed": false,
    "ein.tags": [
     "worksheet-0"
    ]
   },
   "outputs": [
    {
     "name": "stdout",
     "output_type": "stream",
     "text": [
      "You are creating dataset 'kfood_data', with id: 318170\n"
     ]
    }
   ],
   "source": [
    "mm_data = ClassificationData(name='kfood_data', private=True, data_type='image')"
   ]
  },
  {
   "cell_type": "code",
   "execution_count": 34,
   "metadata": {
    "autoscroll": "json-false",
    "collapsed": false,
    "ein.tags": [
     "worksheet-0"
    ]
   },
   "outputs": [],
   "source": [
    "samples = map(tuple, train_data[['filepath', 'category']].values)"
   ]
  },
  {
   "cell_type": "code",
   "execution_count": 35,
   "metadata": {
    "autoscroll": "json-false",
    "collapsed": false,
    "ein.tags": [
     "worksheet-0"
    ]
   },
   "outputs": [
    {
     "data": {
      "text/plain": [
       "24"
      ]
     },
     "execution_count": 35,
     "metadata": {},
     "output_type": "execute_result"
    }
   ],
   "source": [
    "len(samples) // 100"
   ]
  },
  {
   "cell_type": "code",
   "execution_count": 36,
   "metadata": {
    "autoscroll": "json-false",
    "collapsed": false,
    "ein.tags": [
     "worksheet-0"
    ]
   },
   "outputs": [
    {
     "name": "stdout",
     "output_type": "stream",
     "text": [
      "0\n",
      "Starting data upload...\n",
      "Finished uploading 100 of 100 samples...\n",
      "1\n",
      "Starting data upload...\n",
      "Finished uploading 100 of 100 samples...\n",
      "2\n",
      "Starting data upload...\n",
      "Finished uploading 100 of 100 samples...\n",
      "3\n",
      "Starting data upload...\n",
      "Finished uploading 100 of 100 samples...\n",
      "4\n",
      "Starting data upload...\n",
      "Finished uploading 100 of 100 samples...\n",
      "5\n",
      "Starting data upload...\n",
      "Finished uploading 100 of 100 samples...\n",
      "6\n",
      "Starting data upload...\n",
      "Finished uploading 100 of 100 samples...\n",
      "7\n",
      "Starting data upload...\n",
      "Finished uploading 100 of 100 samples...\n",
      "8\n",
      "Starting data upload...\n",
      "Finished uploading 100 of 100 samples...\n",
      "9\n",
      "Starting data upload...\n",
      "Finished uploading 100 of 100 samples...\n",
      "10\n",
      "Starting data upload...\n",
      "Finished uploading 100 of 100 samples...\n",
      "11\n",
      "Starting data upload...\n",
      "Finished uploading 100 of 100 samples...\n",
      "12\n",
      "Starting data upload...\n",
      "Finished uploading 100 of 100 samples...\n",
      "13\n",
      "Starting data upload...\n",
      "Finished uploading 100 of 100 samples...\n",
      "14\n",
      "Starting data upload...\n",
      "Finished uploading 100 of 100 samples...\n",
      "15\n",
      "Starting data upload...\n",
      "Finished uploading 100 of 100 samples...\n",
      "16\n",
      "Starting data upload...\n",
      "Finished uploading 100 of 100 samples...\n",
      "17\n",
      "Starting data upload...\n",
      "Finished uploading 100 of 100 samples...\n",
      "18\n",
      "Starting data upload...\n",
      "Finished uploading 100 of 100 samples...\n",
      "19\n",
      "Starting data upload...\n",
      "Finished uploading 100 of 100 samples...\n",
      "20\n",
      "Starting data upload...\n",
      "Finished uploading 100 of 100 samples...\n",
      "21\n",
      "Starting data upload...\n",
      "Finished uploading 100 of 100 samples...\n",
      "22\n",
      "Starting data upload...\n",
      "Finished uploading 100 of 100 samples...\n",
      "23\n",
      "Starting data upload...\n",
      "Finished uploading 100 of 100 samples...\n",
      "24\n",
      "Starting data upload...\n",
      "Finished uploading 31 of 31 samples...\n"
     ]
    }
   ],
   "source": [
    "# Load 100 training samples per time\n",
    "for i in xrange(len(samples) // 100 + 1):\n",
    "    print i\n",
    "    \n",
    "    _samples = samples[i * 100: (i + 1) * 100]\n",
    "    mm_data.add_samples(_samples, input_type='files')\n",
    "    \n",
    "    # Wait about a minute (api limits)\n",
    "    time.sleep(65) "
   ]
  },
  {
   "cell_type": "code",
   "execution_count": 39,
   "metadata": {
    "autoscroll": "json-false",
    "collapsed": false,
    "ein.tags": [
     "worksheet-0"
    ]
   },
   "outputs": [],
   "source": [
    "kfood_clf = metamind.api.ClassificationModel(name=\"Korean Food Identifier\", private=True)"
   ]
  },
  {
   "cell_type": "code",
   "execution_count": 40,
   "metadata": {
    "autoscroll": "json-false",
    "collapsed": false,
    "ein.tags": [
     "worksheet-0"
    ]
   },
   "outputs": [
    {
     "name": "stdout",
     "output_type": "stream",
     "text": [
      "Your MetaMind image model is now training on the server!\n",
      "Estimated time left in training: 110m 8s\n",
      "Estimated time left in training: 100m 36s\n",
      "Estimated time left in training: 97m 32s\n",
      "Estimated time left in training: 95m 54s\n",
      "Estimated time left in training: 94m 53s\n",
      "Estimated time left in training: 94m 13s\n",
      "Estimated time left in training: 93m 46s\n",
      "Estimated time left in training: 93m 23s\n",
      "Estimated time left in training: 93m 4s\n",
      "Estimated time left in training: 92m 49s\n",
      "Estimated time left in training: 92m 34s\n",
      "Estimated time left in training: 92m 21s\n",
      "Estimated time left in training: 92m 10s\n",
      "Estimated time left in training: 91m 59s\n",
      "Estimated time left in training: 91m 50s\n",
      "Estimated time left in training: 91m 42s\n",
      "Estimated time left in training: 91m 34s\n",
      "Estimated time left in training: 91m 27s\n",
      "Estimated time left in training: 91m 23s\n",
      "Estimated time left in training: 91m 22s\n",
      "Estimated time left in training: 91m 17s\n",
      "Estimated time left in training: 91m 10s\n",
      "Estimated time left in training: 91m 5s\n",
      "Estimated time left in training: 90m 59s\n",
      "Estimated time left in training: 90m 54s\n",
      "Estimated time left in training: 90m 49s\n",
      "Estimated time left in training: 90m 45s\n",
      "Estimated time left in training: 90m 40s\n",
      "Estimated time left in training: 90m 41s\n",
      "Estimated time left in training: 90m 37s\n",
      "Estimated time left in training: 90m 32s\n",
      "Estimated time left in training: 90m 27s\n",
      "Estimated time left in training: 90m 23s\n",
      "Estimated time left in training: 90m 18s\n",
      "Estimated time left in training: 90m 14s\n",
      "Estimated time left in training: 90m 9s\n",
      "Estimated time left in training: 90m 5s\n",
      "Estimated time left in training: 90m 1s\n",
      "Estimated time left in training: 89m 59s\n",
      "Estimated time left in training: 89m 53s\n",
      "Estimated time left in training: 89m 46s\n",
      "Estimated time left in training: 89m 40s\n",
      "Estimated time left in training: 89m 34s\n",
      "Estimated time left in training: 89m 29s\n",
      "Estimated time left in training: 89m 23s\n",
      "Estimated time left in training: 89m 18s\n",
      "Estimated time left in training: 89m 13s\n",
      "Estimated time left in training: 89m 7s\n",
      "Estimated time left in training: 89m 2s\n",
      "Estimated time left in training: 88m 57s\n",
      "Estimated time left in training: 88m 52s\n",
      "Estimated time left in training: 88m 47s\n",
      "Estimated time left in training: 88m 43s\n",
      "Estimated time left in training: 88m 38s\n",
      "Estimated time left in training: 88m 33s\n",
      "Estimated time left in training: 88m 29s\n",
      "Estimated time left in training: 88m 25s\n",
      "Estimated time left in training: 88m 22s\n",
      "Estimated time left in training: 88m 18s\n",
      "Estimated time left in training: 88m 14s\n",
      "Estimated time left in training: 88m 13s\n",
      "Estimated time left in training: 88m 9s\n",
      "Estimated time left in training: 88m 5s\n",
      "Estimated time left in training: 88m 1s\n",
      "Estimated time left in training: 87m 57s\n",
      "Estimated time left in training: 87m 53s\n",
      "Estimated time left in training: 87m 49s\n",
      "Estimated time left in training: 87m 46s\n",
      "Estimated time left in training: 87m 42s\n",
      "Estimated time left in training: 87m 38s\n",
      "Estimated time left in training: 87m 34s\n",
      "Estimated time left in training: 87m 31s\n",
      "Estimated time left in training: 87m 27s\n",
      "Estimated time left in training: 87m 23s\n",
      "Estimated time left in training: 87m 19s\n",
      "Estimated time left in training: 87m 16s\n",
      "Estimated time left in training: 87m 13s\n",
      "Estimated time left in training: 87m 10s\n",
      "Estimated time left in training: 87m 7s\n",
      "Estimated time left in training: 87m 6s\n",
      "Estimated time left in training: 87m 2s\n",
      "Estimated time left in training: 86m 58s\n",
      "Estimated time left in training: 86m 54s\n",
      "Estimated time left in training: 86m 50s\n",
      "Estimated time left in training: 86m 46s\n",
      "Estimated time left in training: 86m 42s\n",
      "Estimated time left in training: 86m 38s\n",
      "Estimated time left in training: 86m 34s\n",
      "Estimated time left in training: 86m 31s\n",
      "Estimated time left in training: 86m 27s\n",
      "Estimated time left in training: 86m 23s\n",
      "Estimated time left in training: 86m 19s\n",
      "Estimated time left in training: 86m 15s\n",
      "Estimated time left in training: 86m 12s\n",
      "Estimated time left in training: 86m 9s\n",
      "Estimated time left in training: 86m 6s\n",
      "Estimated time left in training: 86m 3s\n",
      "Estimated time left in training: 85m 59s\n",
      "Estimated time left in training: 85m 56s\n",
      "Estimated time left in training: 85m 52s\n",
      "Estimated time left in training: 85m 49s\n",
      "Estimated time left in training: 85m 46s\n",
      "Estimated time left in training: 85m 42s\n",
      "Estimated time left in training: 85m 39s\n",
      "Estimated time left in training: 85m 35s\n",
      "Estimated time left in training: 85m 32s\n",
      "Estimated time left in training: 85m 28s\n",
      "Estimated time left in training: 85m 25s\n",
      "Estimated time left in training: 85m 21s\n",
      "Estimated time left in training: 85m 18s\n",
      "Estimated time left in training: 85m 15s\n",
      "Estimated time left in training: 85m 11s\n",
      "Estimated time left in training: 85m 8s\n",
      "Estimated time left in training: 85m 5s\n",
      "Estimated time left in training: 85m 2s\n",
      "Estimated time left in training: 85m 0s\n",
      "Estimated time left in training: 84m 57s\n",
      "Estimated time left in training: 84m 54s\n",
      "Estimated time left in training: 84m 50s\n",
      "Estimated time left in training: 84m 46s\n",
      "Estimated time left in training: 84m 42s\n",
      "Estimated time left in training: 84m 39s\n",
      "Estimated time left in training: 84m 35s\n",
      "Estimated time left in training: 84m 31s\n",
      "Estimated time left in training: 84m 28s\n",
      "Estimated time left in training: 84m 24s\n",
      "Estimated time left in training: 84m 21s\n",
      "Estimated time left in training: 84m 17s\n",
      "Estimated time left in training: 84m 14s\n",
      "Estimated time left in training: 84m 10s\n",
      "Estimated time left in training: 84m 7s\n",
      "Estimated time left in training: 84m 3s\n",
      "Estimated time left in training: 84m 0s\n",
      "Estimated time left in training: 83m 57s\n",
      "Estimated time left in training: 83m 53s\n",
      "Estimated time left in training: 83m 50s\n",
      "Estimated time left in training: 83m 47s\n",
      "Estimated time left in training: 83m 44s\n",
      "Estimated time left in training: 83m 40s\n",
      "Estimated time left in training: 83m 37s\n",
      "Estimated time left in training: 83m 34s\n",
      "Estimated time left in training: 83m 30s\n",
      "Estimated time left in training: 83m 27s\n",
      "Estimated time left in training: 83m 24s\n",
      "Estimated time left in training: 83m 21s\n",
      "Estimated time left in training: 83m 17s\n",
      "Estimated time left in training: 83m 14s\n",
      "Estimated time left in training: 83m 11s\n",
      "Estimated time left in training: 83m 7s\n",
      "Estimated time left in training: 83m 4s\n",
      "Estimated time left in training: 83m 1s\n",
      "Estimated time left in training: 82m 58s\n",
      "Estimated time left in training: 82m 55s\n",
      "Estimated time left in training: 82m 51s\n",
      "Estimated time left in training: 82m 48s\n",
      "Estimated time left in training: 82m 45s\n",
      "Estimated time left in training: 82m 42s\n",
      "Estimated time left in training: 82m 38s\n",
      "Estimated time left in training: 82m 35s\n",
      "Estimated time left in training: 82m 31s\n",
      "Estimated time left in training: 82m 28s\n",
      "Estimated time left in training: 82m 24s\n",
      "Estimated time left in training: 82m 21s\n",
      "Estimated time left in training: 82m 17s\n",
      "Estimated time left in training: 82m 14s\n",
      "Estimated time left in training: 82m 11s\n",
      "Estimated time left in training: 82m 7s\n",
      "Estimated time left in training: 82m 4s\n",
      "Estimated time left in training: 82m 0s\n",
      "Estimated time left in training: 81m 57s\n",
      "Estimated time left in training: 81m 54s\n",
      "Estimated time left in training: 81m 50s\n",
      "Estimated time left in training: 81m 47s\n",
      "Estimated time left in training: 81m 44s\n",
      "Estimated time left in training: 81m 41s\n",
      "Estimated time left in training: 81m 38s\n",
      "Estimated time left in training: 81m 34s\n",
      "Estimated time left in training: 81m 31s\n",
      "Estimated time left in training: 81m 28s\n",
      "Estimated time left in training: 81m 24s\n",
      "Estimated time left in training: 81m 21s\n",
      "Estimated time left in training: 81m 18s\n",
      "Estimated time left in training: 81m 15s\n",
      "Estimated time left in training: 81m 12s\n",
      "Estimated time left in training: 81m 9s\n",
      "Estimated time left in training: 81m 6s\n",
      "Estimated time left in training: 81m 2s\n",
      "Estimated time left in training: 80m 59s\n",
      "Estimated time left in training: 80m 56s\n",
      "Estimated time left in training: 80m 53s\n",
      "Estimated time left in training: 80m 49s\n",
      "Estimated time left in training: 80m 46s\n",
      "Estimated time left in training: 80m 43s\n",
      "Estimated time left in training: 80m 39s\n",
      "Estimated time left in training: 80m 37s\n",
      "Estimated time left in training: 80m 33s\n",
      "Estimated time left in training: 80m 30s\n",
      "Estimated time left in training: 80m 26s\n",
      "Estimated time left in training: 80m 23s\n",
      "Estimated time left in training: 80m 19s\n",
      "Estimated time left in training: 80m 16s\n",
      "Estimated time left in training: 80m 13s\n",
      "Estimated time left in training: 80m 9s\n",
      "Estimated time left in training: 80m 6s\n",
      "Estimated time left in training: 80m 3s\n",
      "Estimated time left in training: 80m 0s\n",
      "Estimated time left in training: 79m 57s\n",
      "Estimated time left in training: 79m 53s\n",
      "Estimated time left in training: 79m 50s\n",
      "Estimated time left in training: 79m 47s\n",
      "Estimated time left in training: 79m 44s\n",
      "Estimated time left in training: 79m 40s\n",
      "Estimated time left in training: 79m 37s\n",
      "Estimated time left in training: 79m 34s\n",
      "Estimated time left in training: 79m 31s\n",
      "Estimated time left in training: 79m 28s\n",
      "Estimated time left in training: 79m 24s\n",
      "Estimated time left in training: 79m 21s\n",
      "Estimated time left in training: 79m 18s\n",
      "Estimated time left in training: 79m 15s\n",
      "Estimated time left in training: 79m 12s\n",
      "Estimated time left in training: 79m 8s\n",
      "Estimated time left in training: 79m 5s\n",
      "Estimated time left in training: 79m 2s\n",
      "Estimated time left in training: 78m 58s\n",
      "Estimated time left in training: 78m 55s\n",
      "Estimated time left in training: 78m 52s\n",
      "Estimated time left in training: 78m 49s\n",
      "Estimated time left in training: 78m 46s\n",
      "Estimated time left in training: 78m 42s\n",
      "Estimated time left in training: 78m 39s\n",
      "Estimated time left in training: 78m 36s\n",
      "Estimated time left in training: 78m 32s\n",
      "Estimated time left in training: 78m 29s\n",
      "Estimated time left in training: 78m 26s\n",
      "Estimated time left in training: 78m 23s\n",
      "Estimated time left in training: 78m 19s\n",
      "Estimated time left in training: 78m 16s\n",
      "Estimated time left in training: 78m 12s\n",
      "Estimated time left in training: 78m 9s\n",
      "Estimated time left in training: 78m 6s\n",
      "Estimated time left in training: 78m 2s\n",
      "Estimated time left in training: 77m 59s\n",
      "Estimated time left in training: 77m 56s\n",
      "Estimated time left in training: 77m 52s\n",
      "Estimated time left in training: 77m 49s\n",
      "Estimated time left in training: 77m 46s\n",
      "Estimated time left in training: 77m 43s\n",
      "Estimated time left in training: 77m 39s\n",
      "Estimated time left in training: 77m 36s\n",
      "Estimated time left in training: 77m 33s\n",
      "Estimated time left in training: 77m 30s\n",
      "Estimated time left in training: 77m 27s\n",
      "Estimated time left in training: 77m 23s\n",
      "Estimated time left in training: 77m 20s\n",
      "Estimated time left in training: 77m 17s\n",
      "Estimated time left in training: 77m 14s\n",
      "Estimated time left in training: 77m 10s\n",
      "Estimated time left in training: 77m 7s\n",
      "Estimated time left in training: 77m 4s\n",
      "Estimated time left in training: 77m 0s\n"
     ]
    },
    {
     "ename": "ValueError",
     "evalue": "Unknown server error (error code: 504, url: https://api.metamind.io/api/v1.2/classifiers/41180/status)",
     "output_type": "error",
     "traceback": [
      "\u001b[0;31m---------------------------------------------------------------------------\u001b[0m",
      "\u001b[0;31mValueError\u001b[0m                                Traceback (most recent call last)",
      "\u001b[0;32m<ipython-input-40-c440ae6366e6>\u001b[0m in \u001b[0;36m<module>\u001b[0;34m()\u001b[0m\n\u001b[0;32m----> 1\u001b[0;31m \u001b[0mkfood_clf\u001b[0m\u001b[0;34m.\u001b[0m\u001b[0mfit\u001b[0m\u001b[0;34m(\u001b[0m\u001b[0mmm_data\u001b[0m\u001b[0;34m)\u001b[0m\u001b[0;34m\u001b[0m\u001b[0m\n\u001b[0m",
      "\u001b[0;32m/Users/hqmac028/.virtualenvs/mlnd/lib/python2.7/site-packages/metamind/api/classification_model.pyc\u001b[0m in \u001b[0;36mfit\u001b[0;34m(self, dataset, options, verbosity)\u001b[0m\n\u001b[1;32m    128\u001b[0m             \u001b[0mstats\u001b[0m \u001b[0;34m=\u001b[0m \u001b[0;34m{\u001b[0m\u001b[0;34m}\u001b[0m\u001b[0;34m\u001b[0m\u001b[0m\n\u001b[1;32m    129\u001b[0m             \u001b[0;32mwhile\u001b[0m\u001b[0;34m(\u001b[0m\u001b[0mTrue\u001b[0m\u001b[0;34m)\u001b[0m\u001b[0;34m:\u001b[0m\u001b[0;34m\u001b[0m\u001b[0m\n\u001b[0;32m--> 130\u001b[0;31m                 \u001b[0mstatus\u001b[0m \u001b[0;34m=\u001b[0m \u001b[0mself\u001b[0m\u001b[0;34m.\u001b[0m\u001b[0mstatus\u001b[0m\u001b[0;34m(\u001b[0m\u001b[0;34m)\u001b[0m\u001b[0;34m\u001b[0m\u001b[0m\n\u001b[0m\u001b[1;32m    131\u001b[0m                 \u001b[0mstats\u001b[0m \u001b[0;34m=\u001b[0m \u001b[0mself\u001b[0m\u001b[0;34m.\u001b[0m\u001b[0mstats\u001b[0m\u001b[0;34m(\u001b[0m\u001b[0;34m)\u001b[0m\u001b[0;34m\u001b[0m\u001b[0m\n\u001b[1;32m    132\u001b[0m \u001b[0;34m\u001b[0m\u001b[0m\n",
      "\u001b[0;32m/Users/hqmac028/.virtualenvs/mlnd/lib/python2.7/site-packages/metamind/api/classification_model.pyc\u001b[0m in \u001b[0;36mstatus\u001b[0;34m(self)\u001b[0m\n\u001b[1;32m    176\u001b[0m \u001b[0;34m\u001b[0m\u001b[0m\n\u001b[1;32m    177\u001b[0m         \u001b[0mresponse\u001b[0m\u001b[0;34m=\u001b[0m\u001b[0mget_session\u001b[0m\u001b[0;34m(\u001b[0m\u001b[0;34m)\u001b[0m\u001b[0;34m.\u001b[0m\u001b[0mget\u001b[0m\u001b[0;34m(\u001b[0m\u001b[0murl_status\u001b[0m\u001b[0;34m)\u001b[0m\u001b[0;34m\u001b[0m\u001b[0m\n\u001b[0;32m--> 178\u001b[0;31m         \u001b[0mresult\u001b[0m \u001b[0;34m=\u001b[0m \u001b[0mvalidate_result\u001b[0m\u001b[0;34m(\u001b[0m\u001b[0mresponse\u001b[0m\u001b[0;34m)\u001b[0m\u001b[0;34m\u001b[0m\u001b[0m\n\u001b[0m\u001b[1;32m    179\u001b[0m \u001b[0;34m\u001b[0m\u001b[0m\n\u001b[1;32m    180\u001b[0m         \u001b[0;32mreturn\u001b[0m \u001b[0mresult\u001b[0m\u001b[0;34m[\u001b[0m\u001b[0;34m\"status\"\u001b[0m\u001b[0;34m]\u001b[0m\u001b[0;34m\u001b[0m\u001b[0m\n",
      "\u001b[0;32m/Users/hqmac028/.virtualenvs/mlnd/lib/python2.7/site-packages/metamind/api/utils.pyc\u001b[0m in \u001b[0;36mvalidate_result\u001b[0;34m(response)\u001b[0m\n\u001b[1;32m    126\u001b[0m         \u001b[0mresult\u001b[0m\u001b[0;34m=\u001b[0m\u001b[0mresponse\u001b[0m\u001b[0;34m.\u001b[0m\u001b[0mjson\u001b[0m\u001b[0;34m(\u001b[0m\u001b[0;34m)\u001b[0m\u001b[0;34m\u001b[0m\u001b[0m\n\u001b[1;32m    127\u001b[0m     \u001b[0;32mexcept\u001b[0m \u001b[0mJSONDecodeError\u001b[0m\u001b[0;34m:\u001b[0m\u001b[0;34m\u001b[0m\u001b[0m\n\u001b[0;32m--> 128\u001b[0;31m       \u001b[0;32mraise\u001b[0m \u001b[0mValueError\u001b[0m\u001b[0;34m(\u001b[0m\u001b[0;34m\"Unknown server error (error code: %d, url: %s)\"\u001b[0m \u001b[0;34m%\u001b[0m \u001b[0;34m(\u001b[0m\u001b[0mresponse\u001b[0m\u001b[0;34m.\u001b[0m\u001b[0mstatus_code\u001b[0m\u001b[0;34m,\u001b[0m \u001b[0mresponse\u001b[0m\u001b[0;34m.\u001b[0m\u001b[0murl\u001b[0m\u001b[0;34m)\u001b[0m\u001b[0;34m)\u001b[0m\u001b[0;34m\u001b[0m\u001b[0m\n\u001b[0m\u001b[1;32m    129\u001b[0m \u001b[0;34m\u001b[0m\u001b[0m\n\u001b[1;32m    130\u001b[0m     \u001b[0;32mif\u001b[0m \u001b[0;34m\"message\"\u001b[0m \u001b[0;32min\u001b[0m \u001b[0mresult\u001b[0m\u001b[0;34m.\u001b[0m\u001b[0mkeys\u001b[0m\u001b[0;34m(\u001b[0m\u001b[0;34m)\u001b[0m\u001b[0;34m:\u001b[0m\u001b[0;34m\u001b[0m\u001b[0m\n",
      "\u001b[0;31mValueError\u001b[0m: Unknown server error (error code: 504, url: https://api.metamind.io/api/v1.2/classifiers/41180/status)"
     ]
    }
   ],
   "source": [
    "# Server finished fitting the data - server error is just connection issue\n",
    "kfood_clf.fit(mm_data)"
   ]
  },
  {
   "cell_type": "code",
   "execution_count": 12,
   "metadata": {
    "autoscroll": "json-false",
    "collapsed": false,
    "ein.tags": [
     "worksheet-0"
    ]
   },
   "outputs": [],
   "source": [
    "samples_test = list(test_data['filepath'].values)"
   ]
  },
  {
   "cell_type": "code",
   "execution_count": 13,
   "metadata": {
    "autoscroll": "json-false",
    "collapsed": false,
    "ein.tags": [
     "worksheet-0"
    ]
   },
   "outputs": [
    {
     "data": {
      "text/plain": [
       "['Images/kfood-bulgogi/bulgogi.68.jpg',\n",
       " 'Images/kfood-japchae/japchae.90.jpg',\n",
       " 'Images/kfood-ddukbokee/ddukbokee.44.jpg']"
      ]
     },
     "execution_count": 13,
     "metadata": {},
     "output_type": "execute_result"
    }
   ],
   "source": [
    "samples_test[:3]"
   ]
  },
  {
   "cell_type": "code",
   "execution_count": null,
   "metadata": {
    "autoscroll": "json-false",
    "collapsed": false,
    "ein.tags": [
     "worksheet-0"
    ]
   },
   "outputs": [],
   "source": [
    "kfood_clf = ClassificationModel(id=41180)"
   ]
  },
  {
   "cell_type": "code",
   "execution_count": 15,
   "metadata": {
    "autoscroll": "json-false",
    "collapsed": false,
    "ein.tags": [
     "worksheet-0"
    ]
   },
   "outputs": [],
   "source": [
    "y_hat = kfood_clf.predict(samples_test , input_type='files')"
   ]
  },
  {
   "cell_type": "code",
   "execution_count": 18,
   "metadata": {
    "autoscroll": "json-false",
    "collapsed": false,
    "ein.tags": [
     "worksheet-0"
    ]
   },
   "outputs": [
    {
     "data": {
      "text/plain": [
       "[{u'label': u'bulgogi',\n",
       "  u'probability': 0.553016185760498,\n",
       "  u'user_value': u'Images/kfood-bulgogi/bulgogi.68.jpg'},\n",
       " {u'label': u'japchae',\n",
       "  u'probability': 0.7185372114181519,\n",
       "  u'user_value': u'Images/kfood-japchae/japchae.90.jpg'},\n",
       " {u'label': u'ddukbokee',\n",
       "  u'probability': 0.32005736231803894,\n",
       "  u'user_value': u'Images/kfood-ddukbokee/ddukbokee.44.jpg'}]"
      ]
     },
     "execution_count": 18,
     "metadata": {},
     "output_type": "execute_result"
    }
   ],
   "source": [
    "y_hat[:3]"
   ]
  },
  {
   "cell_type": "code",
   "execution_count": 16,
   "metadata": {
    "autoscroll": "json-false",
    "collapsed": false,
    "ein.tags": [
     "worksheet-0"
    ]
   },
   "outputs": [
    {
     "data": {
      "text/plain": [
       "1039"
      ]
     },
     "execution_count": 16,
     "metadata": {},
     "output_type": "execute_result"
    }
   ],
   "source": [
    "len(y_hat)"
   ]
  },
  {
   "cell_type": "code",
   "execution_count": 17,
   "metadata": {
    "autoscroll": "json-false",
    "collapsed": false,
    "ein.tags": [
     "worksheet-0"
    ]
   },
   "outputs": [
    {
     "data": {
      "text/plain": [
       "1039"
      ]
     },
     "execution_count": 17,
     "metadata": {},
     "output_type": "execute_result"
    }
   ],
   "source": [
    "len(samples_test)"
   ]
  },
  {
   "cell_type": "code",
   "execution_count": 22,
   "metadata": {
    "autoscroll": "json-false",
    "collapsed": false,
    "ein.tags": [
     "worksheet-0"
    ]
   },
   "outputs": [],
   "source": [
    "df_yhat = pd.DataFrame(y_hat)"
   ]
  },
  {
   "cell_type": "code",
   "execution_count": 23,
   "metadata": {
    "autoscroll": "json-false",
    "collapsed": false,
    "ein.tags": [
     "worksheet-0"
    ]
   },
   "outputs": [],
   "source": [
    "df_yhat['y_true'] = test_data['category'].values"
   ]
  },
  {
   "cell_type": "code",
   "execution_count": 25,
   "metadata": {
    "autoscroll": "json-false",
    "collapsed": false,
    "ein.tags": [
     "worksheet-0"
    ]
   },
   "outputs": [
    {
     "data": {
      "text/plain": [
       "        label       y_true\n",
       "0     bulgogi      bulgogi\n",
       "1     japchae      japchae\n",
       "2   ddukbokee    ddukbokee\n",
       "3  samgyetang  sullungtang\n",
       "4   ddukbokee    ddukbokee"
      ]
     },
     "execution_count": 25,
     "metadata": {},
     "output_type": "execute_result"
    }
   ],
   "source": [
    "df_yhat[['label', 'y_true']].head()"
   ]
  },
  {
   "cell_type": "code",
   "execution_count": 26,
   "metadata": {
    "autoscroll": "json-false",
    "collapsed": false,
    "ein.tags": [
     "worksheet-0"
    ]
   },
   "outputs": [],
   "source": [
    "df_yhat.to_csv('data/metamind_test_results.txt', index=False)"
   ]
  },
  {
   "cell_type": "code",
   "execution_count": 27,
   "metadata": {
    "autoscroll": "json-false",
    "collapsed": false,
    "ein.tags": [
     "worksheet-0"
    ]
   },
   "outputs": [],
   "source": [
    "from sklearn.metrics import accuracy_score"
   ]
  },
  {
   "cell_type": "code",
   "execution_count": 28,
   "metadata": {
    "autoscroll": "json-false",
    "collapsed": false,
    "ein.tags": [
     "worksheet-0"
    ]
   },
   "outputs": [
    {
     "data": {
      "text/plain": [
       "0.77478344562078927"
      ]
     },
     "execution_count": 28,
     "metadata": {},
     "output_type": "execute_result"
    }
   ],
   "source": [
    "accuracy_score(df_yhat.y_true, df_yhat.label)"
   ]
  },
  {
   "cell_type": "code",
   "execution_count": null,
   "metadata": {
    "autoscroll": "json-false",
    "collapsed": false,
    "ein.tags": [
     "worksheet-0"
    ]
   },
   "outputs": [],
   "source": []
  }
 ],
 "metadata": {
  "kernelspec": {
   "display_name": "Python 2",
   "language": "python",
   "name": "python2"
  },
  "language_info": {
   "codemirror_mode": {
    "name": "ipython",
    "version": 2
   },
   "file_extension": ".py",
   "mimetype": "text/x-python",
   "name": "python",
   "nbconvert_exporter": "python",
   "pygments_lexer": "ipython2",
   "version": "2.7.11"
  }
 },
 "nbformat": 4,
 "nbformat_minor": 0
}
