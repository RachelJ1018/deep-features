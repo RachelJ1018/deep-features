{
 "cells": [
  {
   "cell_type": "code",
   "execution_count": 39,
   "metadata": {
    "autoscroll": "json-false",
    "collapsed": false,
    "ein.tags": [
     "worksheet-0"
    ]
   },
   "outputs": [
    {
     "name": "stdout",
     "output_type": "stream",
     "text": [
      "The autoreload extension is already loaded. To reload it, use:\n",
      "  %reload_ext autoreload\n"
     ]
    }
   ],
   "source": [
    "%matplotlib inline\n",
    "%load_ext autoreload\n",
    "%autoreload 2\n",
    "import os\n",
    "import sys\n",
    "\n",
    "import csv\n",
    "import datetime\n",
    "import itertools\n",
    "import numpy as np\n",
    "import pandas as pd\n",
    "import random\n",
    "import re\n",
    "from collections import defaultdict\n",
    "\n",
    "import matplotlib as mpl\n",
    "import matplotlib.pyplot as plt\n",
    "import seaborn as sns\n",
    "sns.set_style(\"whitegrid\")\n",
    "sns.set_context(rc={\n",
    "       \"figure.figsize\": (16, 10),\n",
    "       \"axes.titlesize\": 14})\n",
    "\n",
    "import sklearn\n",
    "\n",
    "from IPython.display import Image, display\n",
    "from IPython.core.display import HTML\n",
    "HTML(\"<style>.container { width:100% !important; }</style>\")\n",
    "\n",
    "from os.path import expanduser\n",
    "sys.path.insert(1, '{}/datsci'.format(expanduser('~')))\n",
    "from datsci import eda\n",
    "from datsci import kaggle as kg"
   ]
  },
  {
   "cell_type": "code",
   "execution_count": 40,
   "metadata": {
    "autoscroll": "json-false",
    "collapsed": false,
    "ein.tags": [
     "worksheet-0"
    ]
   },
   "outputs": [],
   "source": [
    "kfood_data_file = 'data/kfood.txt'\n",
    "kfood_data_file_raw = 'data/kfood.raw.txt'\n",
    "\n",
    "catpat = re.compile(r'/(\\w+)\\.\\d+\\.jpg$')\n",
    "\n",
    "def encode_category(df):\n",
    "    # Encode categories as numerical index\n",
    "    categories = sorted(set(df.category))\n",
    "    cat2idx = {c: i for i, c in enumerate(categories)}\n",
    "    df['category'] = df.category.apply(lambda c: cat2idx[c])\n",
    "    return categories\n",
    "\n",
    "def load_data():\n",
    "    if os.path.exists(kfood_data_file):\n",
    "\tdf = pd.read_csv(kfood_data_file)\n",
    "\treturn df, df.columns[1:-1], encode_category(df)\n",
    "    \n",
    "    if not os.path.exists(kfood_data_file_raw):\n",
    "\traise ValueError(\"data files don't exist\")\n",
    "    \n",
    "    df = pd.read_csv(kfood_data_file_raw, header=None)\n",
    "    feature_cols = list(df.columns[1:])\n",
    "    for i in xrange(len(feature_cols)):\n",
    "\tfeature_cols[i] = \"feature{}\".format(i)\n",
    "    df.columns = ['filepath'] + feature_cols\n",
    "    df['category'] = df.filepath.apply(lambda _fp: catpat.search(_fp).group(1))\n",
    "    \n",
    "    df.to_csv(kfood_data_file, index=False)\n",
    "    return df, feature_cols, encode_category(df)"
   ]
  },
  {
   "cell_type": "code",
   "execution_count": 41,
   "metadata": {
    "autoscroll": "json-false",
    "collapsed": false,
    "ein.tags": [
     "worksheet-0"
    ]
   },
   "outputs": [],
   "source": [
    "df, feature_cols, y_cats = load_data()"
   ]
  },
  {
   "cell_type": "code",
   "execution_count": 42,
   "metadata": {
    "autoscroll": "json-false",
    "collapsed": false,
    "ein.tags": [
     "worksheet-0"
    ]
   },
   "outputs": [
    {
     "data": {
      "text/plain": [
       "galbijjim        219\nkimbab           217\nbibimbab         214\nhotteok          210\nnangmyun         207\ndakgalbi         205\nsullungtang      193\njapchae          193\nbulgogi          183\nsamgyupsal       173\nbossam           173\ndakbokeumtang    171\njeyookbokkeum    165\nsamgyetang       158\nddukbokee        150\nlagalbi          148\njeon             134\nkimchi           127\nramen            118\nyookgyejang      112\nName: category, dtype: int64"
      ]
     },
     "execution_count": 42,
     "metadata": {},
     "output_type": "execute_result"
    }
   ],
   "source": [
    "cat_name = lambda c: y_cats[c]\n",
    "df.category.apply(cat_name).value_counts()"
   ]
  },
  {
   "cell_type": "code",
   "execution_count": 43,
   "metadata": {
    "autoscroll": "json-false",
    "collapsed": false,
    "ein.tags": [
     "worksheet-0"
    ]
   },
   "outputs": [
    {
     "data": {
      "text/plain": [
       "(3470, 2050)"
      ]
     },
     "execution_count": 43,
     "metadata": {},
     "output_type": "execute_result"
    }
   ],
   "source": [
    "df.shape"
   ]
  },
  {
   "cell_type": "code",
   "execution_count": 44,
   "metadata": {
    "autoscroll": "json-false",
    "collapsed": false,
    "ein.tags": [
     "worksheet-0"
    ]
   },
   "outputs": [
    {
     "data": {
      "text/plain": [
       "          feature0     feature1     feature2     feature3     feature4  \\\ncount  3470.000000  3470.000000  3470.000000  3470.000000  3470.000000   \nmean      0.292122     0.409072     0.527338     0.205257     0.341956   \nstd       0.210247     0.310620     0.348090     0.196429     0.309863   \nmin       0.002776     0.000000     0.009342     0.000000     0.000000   \n25%       0.135991     0.177316     0.271595     0.066020     0.121058   \n50%       0.244641     0.341317     0.450077     0.147333     0.259115   \n75%       0.396790     0.555601     0.708050     0.281080     0.469292   \nmax       1.751740     2.421970     2.682040     1.811220     3.519750   \n\n          feature5     feature6     feature7     feature8     feature9  \\\ncount  3470.000000  3470.000000  3470.000000  3470.000000  3470.000000   \nmean      0.310073     0.353334     0.147180     0.258403     0.349542   \nstd       0.210036     0.244919     0.178285     0.235923     0.232754   \nmin       0.000000     0.000308     0.000000     0.000000     0.000000   \n25%       0.153744     0.167188     0.030914     0.099226     0.177341   \n50%       0.264241     0.306355     0.088157     0.200229     0.303941   \n75%       0.423061     0.481400     0.195765     0.353510     0.470009   \nmax       1.545300     1.675310     1.987440     3.020950     1.754930   \n\n          ...       feature2039  feature2040  feature2041  feature2042  \\\ncount     ...       3470.000000  3470.000000  3470.000000  3470.000000   \nmean      ...          0.233291     0.458178     0.194507     0.187223   \nstd       ...          0.220348     0.317239     0.237958     0.198938   \nmin       ...          0.000000     0.000000     0.000000     0.000000   \n25%       ...          0.068545     0.222974     0.035571     0.043649   \n50%       ...          0.170341     0.395942     0.111097     0.124872   \n75%       ...          0.332915     0.625722     0.263321     0.263424   \nmax       ...          1.746170     2.017150     2.214680     1.512200   \n\n       feature2043  feature2044  feature2045  feature2046  feature2047  \\\ncount  3470.000000  3470.000000  3470.000000  3470.000000  3470.000000   \nmean      0.272237     0.580906     0.785038     0.943039     0.223918   \nstd       0.263337     0.417334     0.550332     0.555256     0.208564   \nmin       0.000000     0.000000     0.000000     0.000000     0.000000   \n25%       0.075874     0.256956     0.336011     0.507198     0.067607   \n50%       0.194520     0.500477     0.682529     0.866596     0.164583   \n75%       0.385894     0.826897     1.125905     1.315900     0.327013   \nmax       1.982610     2.477140     3.101890     3.074130     1.591410   \n\n          category  \ncount  3470.000000  \nmean      9.043228  \nstd       5.724166  \nmin       0.000000  \n25%       4.000000  \n50%       9.000000  \n75%      14.000000  \nmax      19.000000  \n\n[8 rows x 2049 columns]"
      ]
     },
     "execution_count": 44,
     "metadata": {},
     "output_type": "execute_result"
    }
   ],
   "source": [
    "df.describe()"
   ]
  },
  {
   "cell_type": "code",
   "execution_count": 45,
   "metadata": {
    "autoscroll": "json-false",
    "collapsed": false,
    "ein.tags": [
     "worksheet-0"
    ]
   },
   "outputs": [
    {
     "data": {
      "text/plain": [
       "<matplotlib.figure.Figure at 0x114c36210>"
      ]
     },
     "metadata": {},
     "output_type": "display_data"
    },
    {
     "data": {
      "text/plain": [
       "<matplotlib.axes._subplots.AxesSubplot at 0x122e02ad0>"
      ]
     },
     "execution_count": 45,
     "metadata": {},
     "output_type": "execute_result"
    }
   ],
   "source": [
    "df[feature_cols[:5]].describe().ix[1:,].plot(kind='bar', figsize=(10,3), title=\"First five features\".title())"
   ]
  },
  {
   "cell_type": "code",
   "execution_count": 46,
   "metadata": {
    "autoscroll": "json-false",
    "collapsed": false,
    "ein.tags": [
     "worksheet-0"
    ]
   },
   "outputs": [],
   "source": [
    "target_col = 'category'\n",
    "X_all = df[feature_cols]  # feature values for all students\n",
    "y_all = df[target_col]"
   ]
  },
  {
   "cell_type": "code",
   "execution_count": 47,
   "metadata": {
    "autoscroll": "json-false",
    "collapsed": false,
    "ein.tags": [
     "worksheet-0"
    ]
   },
   "outputs": [
    {
     "data": {
      "text/plain": [
       "(3470, 2048)"
      ]
     },
     "execution_count": 47,
     "metadata": {},
     "output_type": "execute_result"
    }
   ],
   "source": [
    "X_all.shape"
   ]
  },
  {
   "cell_type": "code",
   "execution_count": 48,
   "metadata": {
    "autoscroll": "json-false",
    "collapsed": false,
    "ein.tags": [
     "worksheet-0"
    ]
   },
   "outputs": [
    {
     "data": {
      "text/plain": [
       "(3470,)"
      ]
     },
     "execution_count": 48,
     "metadata": {},
     "output_type": "execute_result"
    }
   ],
   "source": [
    "y_all.shape"
   ]
  },
  {
   "cell_type": "code",
   "execution_count": 49,
   "metadata": {
    "autoscroll": "json-false",
    "collapsed": false,
    "ein.tags": [
     "worksheet-0"
    ]
   },
   "outputs": [
    {
     "data": {
      "text/plain": [
       "True"
      ]
     },
     "execution_count": 49,
     "metadata": {},
     "output_type": "execute_result"
    }
   ],
   "source": [
    "# Split up the train and test data\n",
    "from sklearn.cross_validation import train_test_split\n",
    "\n",
    "test_size = 0.3 # 30 percent\n",
    "X_train, X_test, y_train, y_test = train_test_split(\n",
    "    X_all, y_all, test_size=test_size, random_state=0, stratify=y_all)\n",
    "\n",
    "# Split up the filepaths for comparison (useful for datamind benchmark)\n",
    "X_train_filepath, X_test_filepath, y_train_filepath, y_test_filepath = train_test_split(\n",
    "    df['filepath'], df.category.apply(cat_name), test_size=test_size, random_state=0, stratify=y_all)\n",
    "train_data = pd.DataFrame({'filepath': X_train_filepath, 'category': y_train_filepath})\n",
    "test_data = pd.DataFrame({'filepath': X_test_filepath, 'category': y_test_filepath})\n",
    "train_data.to_csv('data/kfood_train.txt', index=False)\n",
    "test_data.to_csv('data/kfood_test.txt', index=False)\n",
    "\n",
    "# Test to see that the train_test_split splits the filepaths the same way as the feature data\n",
    "np.array_equal(pd.merge(pd.DataFrame(X_train_filepath, columns=['filepath']), df, how='left', on='filepath')[feature_cols].values, X_train)"
   ]
  },
  {
   "cell_type": "code",
   "execution_count": 50,
   "metadata": {
    "autoscroll": "json-false",
    "collapsed": false,
    "ein.tags": [
     "worksheet-0"
    ]
   },
   "outputs": [
    {
     "data": {
      "text/plain": [
       "((2431, 2048), (1039, 2048))"
      ]
     },
     "execution_count": 50,
     "metadata": {},
     "output_type": "execute_result"
    }
   ],
   "source": [
    "X_train.shape, X_test.shape"
   ]
  },
  {
   "cell_type": "code",
   "execution_count": 51,
   "metadata": {
    "autoscroll": "json-false",
    "collapsed": false,
    "ein.tags": [
     "worksheet-0"
    ]
   },
   "outputs": [
    {
     "data": {
      "text/plain": [
       "((2431,), (1039,))"
      ]
     },
     "execution_count": 51,
     "metadata": {},
     "output_type": "execute_result"
    }
   ],
   "source": [
    "y_train.shape, y_test.shape"
   ]
  },
  {
   "cell_type": "code",
   "execution_count": 52,
   "metadata": {
    "autoscroll": "json-false",
    "collapsed": false,
    "ein.tags": [
     "worksheet-0"
    ]
   },
   "outputs": [
    {
     "data": {
      "text/plain": [
       "0.42739613327848625"
      ]
     },
     "execution_count": 52,
     "metadata": {},
     "output_type": "execute_result"
    }
   ],
   "source": [
    "1039./2431"
   ]
  },
  {
   "cell_type": "code",
   "execution_count": 53,
   "metadata": {
    "autoscroll": "json-false",
    "collapsed": false,
    "ein.tags": [
     "worksheet-0"
    ]
   },
   "outputs": [
    {
     "data": {
      "text/plain": [
       "               train  test  test_perc\nbibimbab         150    64   0.299065\nbossam           121    52   0.300578\nbulgogi          128    55   0.300546\ndakbokeumtang    120    51   0.298246\ndakgalbi         144    61   0.297561\nddukbokee        105    45   0.300000\ngalbijjim        153    66   0.301370\nhotteok          147    63   0.300000\njapchae          135    58   0.300518\njeon              94    40   0.298507\njeyookbokkeum    116    49   0.296970\nkimbab           152    65   0.299539\nkimchi            89    38   0.299213\nlagalbi          104    44   0.297297\nnangmyun         145    62   0.299517\nramen             83    35   0.296610\nsamgyetang       111    47   0.297468\nsamgyupsal       121    52   0.300578\nsullungtang      135    58   0.300518\nyookgyejang       78    34   0.303571"
      ]
     },
     "execution_count": 53,
     "metadata": {},
     "output_type": "execute_result"
    }
   ],
   "source": [
    "split_counts_df = pd.concat([y_train.apply(cat_name).value_counts(), y_test.apply(cat_name).value_counts()], axis=1)\n",
    "split_counts_df.columns = ['train', 'test']\n",
    "split_counts_df['test_perc'] = split_counts_df.apply(lambda row: float(row.test) / row.sum(), axis=1)\n",
    "split_counts_df"
   ]
  },
  {
   "cell_type": "markdown",
   "metadata": {
    "ein.tags": [
     "worksheet-0"
    ]
   },
   "source": [
    "Classifiers to try in Sklearn:\n",
    "\n",
    "- SVC\n",
    "- KNeighborsClassifier\n",
    "- RandomForestClassifier\n",
    "- LogisticRegression\n",
    "- GradientBoostingClassifier\n",
    "- AdaBoostClassifier"
   ]
  },
  {
   "cell_type": "code",
   "execution_count": 14,
   "metadata": {
    "autoscroll": "json-false",
    "collapsed": false,
    "ein.tags": [
     "worksheet-0"
    ]
   },
   "outputs": [],
   "source": [
    "import time\n",
    "from sklearn.metrics import f1_score\n",
    "\n",
    "def train_predict(clf, X_train, y_train, X_test, y_test, description):\n",
    "    results = {'description': description}\n",
    "    \n",
    "    # Train\n",
    "    start = time.time()\n",
    "    clf.fit(X_train, y_train)\n",
    "    end = time.time()\n",
    "    results['time_train'] = end - start\n",
    "\n",
    "    # Predict train\n",
    "    start = time.time()\n",
    "    y_hat = clf.predict(X_train)\n",
    "    end = time.time()\n",
    "    results['f1_score_train'] = f1_score(y_train.values, y_hat, average='micro')\n",
    "    results['time_predict_train'] = end - start\n",
    "\n",
    "    # Predict test\n",
    "    start = time.time()\n",
    "    y_hat = clf.predict(X_test)\n",
    "    end = time.time()\n",
    "    results['f1_score_test'] = f1_score(y_test.values, y_hat, average='micro')\n",
    "    results['time_predict_test'] = end - start\n",
    "\n",
    "    return results\n",
    "\n",
    "\n",
    "results = []\n",
    "\n",
    "# SVC\n",
    "from sklearn.svm import SVC\n",
    "\n",
    "clf = SVC(C=1.0, kernel='linear', gamma='auto')\n",
    "results.append(train_predict(clf, X_train, y_train, X_test, y_test, \"SVC linear kernel, one-vs-one\"))\n",
    "\n",
    "clf = SVC(C=1.0, kernel='poly', degree=2, gamma='auto')\n",
    "results.append(train_predict(clf, X_train, y_train, X_test, y_test, \"SVC polynomial deg 2 kernel, one-vs-one\"))\n",
    "\n",
    "clf = SVC(C=1.0, kernel='poly', degree=3, gamma='auto')\n",
    "results.append(train_predict(clf, X_train, y_train, X_test, y_test, \"SVC polynomial deg 3 kernel, one-vs-one\"))\n",
    "\n",
    "clf = SVC(C=1.0, kernel='rbf', gamma='auto')\n",
    "results.append(train_predict(clf, X_train, y_train, X_test, y_test, \"SVC rbf kernel, one-vs-one\"))\n",
    "\n",
    "clf = sklearn.multiclass.OneVsRestClassifier(SVC(C=1.0, kernel='linear', gamma='auto'), n_jobs=2)\n",
    "results.append(train_predict(clf, X_train, y_train, X_test, y_test, \"SVC linear kernel, one-vs-rest\"))\n",
    "\n",
    "clf = sklearn.multiclass.OneVsRestClassifier(SVC(C=1.0, kernel='poly', degree=2, gamma='auto'), n_jobs=2)\n",
    "results.append(train_predict(clf, X_train, y_train, X_test, y_test, \"SVC linear poly deg 2 kernel, one-vs-rest\"))\n",
    "\n",
    "clf = sklearn.multiclass.OneVsRestClassifier(SVC(C=1.0, kernel='poly', degree=3, gamma='auto'), n_jobs=2)\n",
    "results.append(train_predict(clf, X_train, y_train, X_test, y_test, \"SVC linear poly deg 3 kernel, one-vs-rest\"))\n",
    "\n",
    "clf = sklearn.multiclass.OneVsRestClassifier(SVC(C=1.0, kernel='rbf', gamma='auto'), n_jobs=2)\n",
    "results.append(train_predict(clf, X_train, y_train, X_test, y_test, \"SVC rbf kernel, one-vs-rest\"))\n",
    "\n",
    "# K-Neighbors Classifier\n",
    "from sklearn.neighbors import KNeighborsClassifier as KNC\n",
    "clf = KNC(n_neighbors=3, weights='uniform')\n",
    "results.append(train_predict(clf, X_train, y_train, X_test, y_test, \"KNeighbors, 3 neighbors\"))\n",
    "\n",
    "# RandomForestClassifier\n",
    "from sklearn.ensemble import RandomForestClassifier as RFC\n",
    "clf = RFC(n_estimators=10, max_depth=None, min_samples_split=2, n_jobs=2)\n",
    "results.append(train_predict(clf, X_train, y_train, X_test, y_test, \"RandomForest, 10 estimators\"))\n",
    "\n",
    "# LogisticRegression\n",
    "from sklearn.linear_model import LogisticRegression\n",
    "clf = LogisticRegression(penalty='l2', random_state=0, multi_class='ovr', n_jobs=4)\n",
    "results.append(train_predict(clf, X_train, y_train, X_test, y_test, \"LogisticRegression ovr\"))\n",
    "\n",
    "clf = LogisticRegression(penalty='l2', random_state=0, multi_class='multinomial', solver='lbfgs', n_jobs=1)\n",
    "results.append(train_predict(clf, X_train, y_train, X_test, y_test, \"LogisticRegression multinomial\"))\n",
    "\n",
    "# Tried boosting, but not such great results, so exclude from further analysis\n",
    "# # GradientBoostingClassifier\n",
    "# from sklearn.ensemble import GradientBoostingClassifier as GBC\n",
    "# clf = GBC(loss='deviance', learning_rate=0.1, n_estimators=100, max_depth=None, min_samples_split=2)\n",
    "# results.append(train_predict(clf, X_train, y_train, X_test, y_test, \"GradientBoostingClassifier\"))\n",
    "\n",
    "# # AdaBoostClassifier\n",
    "# from sklearn.ensemble import AdaBoostClassifier as ABC\n",
    "# clf = ABC(SVC(C=1.0, kernel='linear', gamma='auto'), n_estimators=100, learning_rate=1.0, algorithm='SAMME')\n",
    "#results.append(train_predict(clf, X_train, y_train, X_test, y_test, \"AdaBoostClassifier w SVC linear kernel\"))"
   ]
  },
  {
   "cell_type": "raw",
   "metadata": {
    "ein.tags": [
     "worksheet-0"
    ]
   },
   "source": [
    "Results using f1_score with average='micro':\n",
    "\n",
    "                              description   f1_score_test  f1_score_train  time_predict_test  time_predict_train    time_train\n",
    "            SVC linear kernel, one-vs-one        0.794995        1.000000           3.811647            8.710620      6.530875\n",
    "  SVC polynomial deg 2 kernel, one-vs-one        0.271415        0.266557           4.560238           10.932422     19.331461\n",
    "  SVC polynomial deg 3 kernel, one-vs-one        0.064485        0.063348           4.647615           10.951944     19.621503\n",
    "               SVC rbf kernel, one-vs-one        0.704524        0.763472           4.424742           10.265058     12.673358\n",
    "           SVC linear kernel, one-vs-rest        0.769971        1.000000           9.859875           23.225768     14.141236\n",
    "SVC linear poly deg 2 kernel, one-vs-rest        0.721848        0.839572          12.610308           29.113087     16.113646\n",
    "SVC linear poly deg 3 kernel, one-vs-rest        0.726660        0.868367          12.953984           30.955226     17.060905\n",
    "              SVC rbf kernel, one-vs-rest        0.730510        0.830111          11.662916           27.549705     15.683099\n",
    "                  KNeighbors, 3 neighbors        0.619827        0.815714           7.049512           16.117123      0.267269\n",
    "              RandomForest, 10 estimators        0.457170        0.995475           0.015634            0.022134      0.934990\n",
    "               GradientBoostingClassifier        0.448508        1.000000           0.111043            0.270002   2495.067427\n",
    "   AdaBoostClassifier w SVC linear kernel        0.678537        0.781160         463.121845         1087.314692   2854.012287\n",
    "                   LogisticRegression ovr        0.793070        1.000000           0.009143            0.015798     16.777627\n",
    "           LogisticRegression multinomial        0.803657        1.000000           0.004691            0.009141      1.540244"
   ]
  },
  {
   "cell_type": "code",
   "execution_count": 17,
   "metadata": {
    "autoscroll": "json-false",
    "collapsed": false,
    "ein.tags": [
     "worksheet-0"
    ]
   },
   "outputs": [],
   "source": [
    "# Re-run using just simple accuracy scores, in order to compare with retrain code in tensorflow/examples/image_retraining\n",
    "\n",
    "import time\n",
    "from sklearn.metrics import accuracy_score\n",
    "\n",
    "def train_predict2(clf, X_train, y_train, X_test, y_test, description):\n",
    "    results = {'description': description}\n",
    "    \n",
    "    # Train\n",
    "    start = time.time()\n",
    "    clf.fit(X_train, y_train)\n",
    "    end = time.time()\n",
    "    results['time_train'] = end - start\n",
    "\n",
    "    # Predict train\n",
    "    start = time.time()\n",
    "    y_hat = clf.predict(X_train)\n",
    "    end = time.time()\n",
    "    results['accuracy_train'] = accuracy_score(y_train.values, y_hat)\n",
    "    results['time_predict_train'] = end - start\n",
    "\n",
    "    # Predict test\n",
    "    start = time.time()\n",
    "    y_hat = clf.predict(X_test)\n",
    "    end = time.time()\n",
    "    results['accuracy_test'] = accuracy_score(y_test.values, y_hat)\n",
    "    results['time_predict_test'] = end - start\n",
    "\n",
    "    return results\n",
    "\n",
    "\n",
    "results = []\n",
    "\n",
    "from sklearn.svm import SVC\n",
    "\n",
    "clf = SVC(C=1.0, kernel='linear', gamma='auto')\n",
    "results.append(train_predict2(clf, X_train, y_train, X_test, y_test, \"SVC linear kernel, one-vs-one\"))\n",
    "\n",
    "clf = SVC(C=1.0, kernel='poly', degree=2, gamma='auto')\n",
    "results.append(train_predict2(clf, X_train, y_train, X_test, y_test, \"SVC polynomial deg 2 kernel, one-vs-one\"))\n",
    "\n",
    "clf = SVC(C=1.0, kernel='poly', degree=3, gamma='auto')\n",
    "results.append(train_predict2(clf, X_train, y_train, X_test, y_test, \"SVC polynomial deg 3 kernel, one-vs-one\"))\n",
    "\n",
    "clf = SVC(C=1.0, kernel='rbf', gamma='auto')\n",
    "results.append(train_predict2(clf, X_train, y_train, X_test, y_test, \"SVC rbf kernel, one-vs-one\"))\n",
    "\n",
    "clf = sklearn.multiclass.OneVsRestClassifier(SVC(C=1.0, kernel='linear', gamma='auto'), n_jobs=2)\n",
    "results.append(train_predict2(clf, X_train, y_train, X_test, y_test, \"SVC linear kernel, one-vs-rest\"))\n",
    "\n",
    "clf = sklearn.multiclass.OneVsRestClassifier(SVC(C=1.0, kernel='poly', degree=2, gamma='auto'), n_jobs=2)\n",
    "results.append(train_predict2(clf, X_train, y_train, X_test, y_test, \"SVC linear poly deg 2 kernel, one-vs-rest\"))\n",
    "\n",
    "clf = sklearn.multiclass.OneVsRestClassifier(SVC(C=1.0, kernel='poly', degree=3, gamma='auto'), n_jobs=2)\n",
    "results.append(train_predict2(clf, X_train, y_train, X_test, y_test, \"SVC linear poly deg 3 kernel, one-vs-rest\"))\n",
    "\n",
    "clf = sklearn.multiclass.OneVsRestClassifier(SVC(C=1.0, kernel='rbf', gamma='auto'), n_jobs=2)\n",
    "results.append(train_predict2(clf, X_train, y_train, X_test, y_test, \"SVC rbf kernel, one-vs-rest\"))\n",
    "\n",
    "# K-Neighbors Classifier\n",
    "from sklearn.neighbors import KNeighborsClassifier as KNC\n",
    "clf = KNC(n_neighbors=3, weights='uniform')\n",
    "results.append(train_predict2(clf, X_train, y_train, X_test, y_test, \"KNeighbors, 3 neighbors\"))\n",
    "\n",
    "# RandomForestClassifier\n",
    "from sklearn.ensemble import RandomForestClassifier as RFC\n",
    "clf = RFC(n_estimators=10, max_depth=None, min_samples_split=2, n_jobs=2)\n",
    "results.append(train_predict2(clf, X_train, y_train, X_test, y_test, \"RandomForest, 10 estimators\"))\n",
    "\n",
    "# LogisticRegression\n",
    "from sklearn.linear_model import LogisticRegression\n",
    "clf = LogisticRegression(penalty='l2', random_state=0, multi_class='ovr', n_jobs=4)\n",
    "results.append(train_predict2(clf, X_train, y_train, X_test, y_test, \"LogisticRegression ovr\"))\n",
    "\n",
    "clf = LogisticRegression(penalty='l2', random_state=0, multi_class='multinomial', solver='newton-cg', n_jobs=1)\n",
    "results.append(train_predict2(clf, X_train, y_train, X_test, y_test, \"LogisticRegression multinomial\"))"
   ]
  },
  {
   "cell_type": "code",
   "execution_count": 18,
   "metadata": {
    "autoscroll": "json-false",
    "collapsed": false,
    "ein.tags": [
     "worksheet-0"
    ]
   },
   "outputs": [
    {
     "name": "stdout",
     "output_type": "stream",
     "text": [
      "   accuracy_test  accuracy_train                     description  \\\n",
      "0       0.803657               1  LogisticRegression multinomial   \n",
      "\n",
      "   time_predict_test  time_predict_train  time_train  \n",
      "0           0.008209            0.010171   10.576213  \n"
     ]
    }
   ],
   "source": [
    "print pd.DataFrame(results)"
   ]
  },
  {
   "cell_type": "raw",
   "metadata": {
    "ein.tags": [
     "worksheet-0"
    ]
   },
   "source": [
    "    accuracy_test  accuracy_train                                description  time_predict_test  time_predict_train  time_train\n",
    "0        0.794995        1.000000              SVC linear kernel, one-vs-one           3.966444            9.055261    6.557868 \n",
    "1        0.271415        0.266557    SVC polynomial deg 2 kernel, one-vs-one           4.838109           11.241315   20.264152 \n",
    "2        0.064485        0.063348    SVC polynomial deg 3 kernel, one-vs-one           4.709020           11.161063   20.114124 \n",
    "3        0.704524        0.763472                 SVC rbf kernel, one-vs-one           4.518843           10.798448   12.761727 \n",
    "4        0.769971        1.000000             SVC linear kernel, one-vs-rest          10.246530           24.071269   14.418401 \n",
    "5        0.721848        0.839572  SVC linear poly deg 2 kernel, one-vs-rest          12.586333           29.298426   16.180739 \n",
    "6        0.726660        0.868367  SVC linear poly deg 3 kernel, one-vs-rest          12.762013           30.456582   17.197990 \n",
    "7        0.730510        0.830111                SVC rbf kernel, one-vs-rest          11.545363           27.218193   15.499681 \n",
    "8        0.619827        0.815714                    KNeighbors, 3 neighbors           6.958227           16.025329    0.264954 \n",
    "9        0.457170        0.996709                RandomForest, 10 estimators           0.140045            0.158466    0.558396 \n",
    "10       0.793070        1.000000                     LogisticRegression ovr           0.005958            0.010534   18.181948\n",
    "11       0.803657        1.000000             LogisticRegression multinomial           0.008209            0.010171   10.576213"
   ]
  },
  {
   "cell_type": "markdown",
   "metadata": {
    "ein.tags": [
     "worksheet-0"
    ]
   },
   "source": [
    "## Fine-tune SVC linear kernel and Logistic Regression ovr and multinomial models using logloss/cross entropy error"
   ]
  },
  {
   "cell_type": "code",
   "execution_count": 61,
   "metadata": {
    "autoscroll": "json-false",
    "collapsed": false,
    "ein.tags": [
     "worksheet-0"
    ]
   },
   "outputs": [
    {
     "name": "stdout",
     "output_type": "stream",
     "text": [
      "Each iteration time(secs): 266.620\n",
      "0.796920115496 {'kernel': 'rbf', 'C': 17.5}\n"
     ]
    },
    {
     "name": "stdout",
     "output_type": "stream",
     "text": [
      "Each iteration time(secs): 262.910\n",
      "iteration 2\n"
     ]
    },
    {
     "name": "stdout",
     "output_type": "stream",
     "text": [
      "Each iteration time(secs): 257.520\n",
      "iteration 1\n"
     ]
    },
    {
     "name": "stdout",
     "output_type": "stream",
     "text": [
      "iteration 0\n"
     ]
    }
   ],
   "source": [
    "import time\n",
    "from sklearn.grid_search import GridSearchCV as GSCV\n",
    "from sklearn.metrics import accuracy_score\n",
    "from sklearn.svm import SVC\n",
    "\n",
    "# SVC linear kernel\n",
    "clf_svc = SVC(gamma='auto', probability=True)\n",
    "\n",
    "best_score = None\n",
    "best_params = None\n",
    "for i in xrange(3):\n",
    "    if i < 3 or i % 10 == 0:\n",
    "\tprint \"iteration {}\".format(i)\n",
    "\tstart = time.time()\n",
    "    gs_clf = GSCV(\n",
    "\tclf_svc,\n",
    "\t{'kernel':['rbf'], 'C':[16, 16.5, 17, 17.5, 18]},\n",
    "\tscoring='log_loss',\n",
    "\tcv=5,\n",
    "\tn_jobs=4)\n",
    "    gs_clf.fit(X_train, y_train)\n",
    "    _score = accuracy_score(y_test, gs_clf.predict(X_test))\n",
    "    if best_score is None or best_score < _score:\n",
    "\tbest_score = _score\n",
    "\tbest_params = {\n",
    "\t    'C': gs_clf.best_estimator_.C,\n",
    "\t    'kernel': gs_clf.best_estimator_.kernel}\n",
    "    if i < 3:\n",
    "\tend = time.time()    \n",
    "\tprint \"Each iteration time(secs): {:.3f}\".format(end - start)\n",
    "\t\n",
    "print best_score, best_params"
   ]
  },
  {
   "cell_type": "raw",
   "metadata": {
    "ein.tags": [
     "worksheet-0"
    ]
   },
   "source": [
    "{'kernel':['linear', 'rbf'], 'C':[10.0, 1.0, .1, .01]},\n",
    "Each iteration time(secs): 524.065\n",
    "Each iteration time(secs): 522.901\n",
    "iteration 2\n",
    "Each iteration time(secs): 525.689\n",
    "iteration 1\n",
    "iteration 0\n",
    "0.789220404235 {'kernel': 'rbf', 'C': 10.0}\n",
    "\n",
    "{'kernel':['rbf'], 'C':[5.0, 10.0, 15.0]},\n",
    "iteration 0\n",
    "Each iteration time(secs): 175.648\n",
    "iteration 1\n",
    "Each iteration time(secs): 176.097\n",
    "iteration 2\n",
    "Each iteration time(secs): 174.976\n",
    "0.793070259865 {'kernel': 'rbf', 'C': 15.0}\n",
    "\n",
    "{'kernel':['rbf'], 'C':[20, 30, 40]},\n",
    "iteration 0\n",
    "Each iteration time(secs): 168.852\n",
    "iteration 1\n",
    "Each iteration time(secs): 168.142\n",
    "iteration 2\n",
    "Each iteration time(secs): 168.903\n",
    "0.799807507218 {'kernel': 'rbf', 'C': 20}\n",
    "\n",
    "{'kernel':['rbf'], 'C':[17, 19, 21, 23]},\n",
    "print best_score, best_params\n",
    "iteration 0\n",
    "Each iteration time(secs): 209.840\n",
    "iteration 1\n",
    "Each iteration time(secs): 204.861\n",
    "iteration 2\n",
    "Each iteration time(secs): 204.436\n",
    "0.795957651588 {'kernel': 'rbf', 'C': 17}\n",
    "\n",
    "{'kernel':['rbf'], 'C':[16, 16.5, 17, 17.5, 18]},\n",
    "iteration 0\n",
    "Each iteration time(secs): 257.520\n",
    "iteration 1\n",
    "Each iteration time(secs): 262.910\n",
    "iteration 2\n",
    "Each iteration time(secs): 266.620\n",
    "0.796920115496 {'kernel': 'rbf', 'C': 17.5}"
   ]
  },
  {
   "cell_type": "code",
   "execution_count": 64,
   "metadata": {
    "autoscroll": "json-false",
    "collapsed": false,
    "ein.tags": [
     "worksheet-0"
    ]
   },
   "outputs": [],
   "source": [
    "# Retrain SVC with all training data, and get accuracy on test data\n",
    "\n",
    "clf_svc = SVC(kernel='rbf', C=17.5, gamma='auto', probability=True)\n",
    "clf_svc.fit(X_train, y_train)\n",
    "y_hat_svc = clf_svc.predict(X_test)\n",
    "clf_svc_accuracy = accuracy_score(y_test.values, y_hat_svc)"
   ]
  },
  {
   "cell_type": "code",
   "execution_count": 77,
   "metadata": {
    "autoscroll": "json-false",
    "collapsed": false,
    "ein.tags": [
     "worksheet-0"
    ]
   },
   "outputs": [],
   "source": [
    "clf_svc_results = pd.DataFrame({'y_hat': pd.Series(y_hat_svc).apply(cat_name).values, 'y_true': y_test.apply(cat_name).values})"
   ]
  },
  {
   "cell_type": "code",
   "execution_count": 78,
   "metadata": {
    "autoscroll": "json-false",
    "collapsed": false,
    "ein.tags": [
     "worksheet-0"
    ]
   },
   "outputs": [
    {
     "data": {
      "text/plain": [
       "         y_hat       y_true\n0      bulgogi      bulgogi\n1      japchae      japchae\n2    ddukbokee    ddukbokee\n3  sullungtang  sullungtang\n4    ddukbokee    ddukbokee"
      ]
     },
     "execution_count": 78,
     "metadata": {},
     "output_type": "execute_result"
    }
   ],
   "source": [
    "clf_svc_results.head()"
   ]
  },
  {
   "cell_type": "code",
   "execution_count": 81,
   "metadata": {
    "autoscroll": "json-false",
    "collapsed": false,
    "ein.tags": [
     "worksheet-0"
    ]
   },
   "outputs": [
    {
     "data": {
      "text/plain": [
       "0.79692011549566888"
      ]
     },
     "execution_count": 81,
     "metadata": {},
     "output_type": "execute_result"
    }
   ],
   "source": [
    "clf_svc_results.apply(lambda row: row.y_hat == row.y_true, axis=1).sum() / float(clf_svc_results.shape[0])"
   ]
  },
  {
   "cell_type": "code",
   "execution_count": 65,
   "metadata": {
    "autoscroll": "json-false",
    "collapsed": false,
    "ein.tags": [
     "worksheet-0"
    ]
   },
   "outputs": [
    {
     "data": {
      "text/plain": [
       "0.79692011549566888"
      ]
     },
     "execution_count": 65,
     "metadata": {},
     "output_type": "execute_result"
    }
   ],
   "source": [
    "clf_svc_accuracy"
   ]
  },
  {
   "cell_type": "code",
   "execution_count": 82,
   "metadata": {
    "autoscroll": "json-false",
    "collapsed": false,
    "ein.tags": [
     "worksheet-0"
    ]
   },
   "outputs": [],
   "source": [
    "clf_svc_results.to_csv('data/sklearn_svc_test_results.txt', index=False)"
   ]
  },
  {
   "cell_type": "code",
   "execution_count": 62,
   "metadata": {
    "autoscroll": "json-false",
    "collapsed": false,
    "ein.tags": [
     "worksheet-0"
    ]
   },
   "outputs": [
    {
     "name": "stdout",
     "output_type": "stream",
     "text": [
      "\n",
      "0.797882579403 {'C': 0.27, 'tol': 1e-08}\n"
     ]
    },
    {
     "name": "stdout",
     "output_type": "stream",
     "text": [
      "\n",
      "iteration 2\n",
      "Each iteration time(secs): 881.821"
     ]
    },
    {
     "name": "stdout",
     "output_type": "stream",
     "text": [
      "\n",
      "iteration 1\n",
      "Each iteration time(secs): 883.683"
     ]
    },
    {
     "name": "stdout",
     "output_type": "stream",
     "text": [
      "iteration 0\n",
      "Each iteration time(secs): 898.157"
     ]
    }
   ],
   "source": [
    "import time\n",
    "from sklearn.grid_search import GridSearchCV as GSCV\n",
    "from sklearn.metrics import accuracy_score\n",
    "from sklearn.linear_model import LogisticRegression\n",
    "\n",
    "# Logistic Regression ovr\n",
    "\n",
    "clf_lr = LogisticRegression(\n",
    "    penalty='l2', random_state=0, multi_class='ovr', n_jobs=4)\n",
    "\n",
    "best_score = None\n",
    "best_params = None\n",
    "for i in xrange(3):\n",
    "    if i < 3 or i % 10 == 0:\n",
    "\tprint \"iteration {}\".format(i)\n",
    "\tstart = time.time()\n",
    "    gs_clf = GSCV(\n",
    "\tclf_lr,\n",
    "\t{'tol': [1e-8, 1e-9, 1e-10], 'C': [.27, .3, .33]},\n",
    "\tscoring='log_loss',\n",
    "\tcv=5,\n",
    "\tn_jobs=1)\n",
    "    gs_clf.fit(X_train, y_train)\n",
    "    _score = accuracy_score(y_test, gs_clf.predict(X_test))\n",
    "    if best_score is None or best_score < _score:\n",
    "\tbest_score = _score\n",
    "\tbest_params = {\n",
    "\t    'C': gs_clf.best_estimator_.C,\n",
    "\t    'tol': gs_clf.best_estimator_.tol}\n",
    "    if i < 3:\n",
    "\tend = time.time()    \n",
    "\tprint \"Each iteration time(secs): {:.3f}\".format(end - start)\n",
    "\t\n",
    "print best_score, best_params"
   ]
  },
  {
   "cell_type": "raw",
   "metadata": {
    "ein.tags": [
     "worksheet-0"
    ]
   },
   "source": [
    "{'tol': [0.0001, 0.001, 0.00001], 'C': [10.0, 1.0, .1, .01]},\n",
    "iteration 0\n",
    "Each iteration time(secs): 693.701\n",
    "iteration 1\n",
    "Each iteration time(secs): 694.704\n",
    "iteration 2\n",
    "Each iteration time(secs): 687.939\n",
    "0.804619826756 {'C': 0.1, 'tol': 1e-05}\n",
    "\n",
    "{'tol': [0.000001, 0.00001, 0.00005], 'C': [.3, .1, .07]},\n",
    "iteration 0\n",
    "Each iteration time(secs): 546.397\n",
    "iteration 1\n",
    "Each iteration time(secs): 548.634\n",
    "iteration 2\n",
    "Each iteration time(secs): 557.571\n",
    "0.796920115496 {'C': 0.3, 'tol': 1e-06}\n",
    "\n",
    "{'tol': [0.000001, 0.0000001, 0.00000001], 'C': [.3, .4, .5]},\n",
    "iteration 0\n",
    "Each iteration time(secs): 840.295\n",
    "iteration 1\n",
    "Each iteration time(secs): 849.685\n",
    "iteration 2\n",
    "Each iteration time(secs): 812.325\n",
    "0.796920115496 {'C': 0.3, 'tol': 1e-08}\n",
    "\n",
    "{'tol': [1e-8, 1e-9, 1e-10], 'C': [.27, .3, .33]},\n",
    "iteration 0\n",
    "Each iteration time(secs): 898.157\n",
    "iteration 1\n",
    "Each iteration time(secs): 883.683\n",
    "iteration 2\n",
    "Each iteration time(secs): 881.821\n",
    "0.797882579403 {'C': 0.27, 'tol': 1e-08}"
   ]
  },
  {
   "cell_type": "code",
   "execution_count": 83,
   "metadata": {
    "autoscroll": "json-false",
    "collapsed": false,
    "ein.tags": [
     "worksheet-0"
    ]
   },
   "outputs": [],
   "source": [
    "# Retrain LogisticRegression ovr with all training data and get accuracy on test data\n",
    "\n",
    "clf_lr = LogisticRegression(C=0.27, tol=1e-08,\n",
    "    penalty='l2', random_state=0, multi_class='ovr', n_jobs=8)\n",
    "clf_lr.fit(X_train, y_train)\n",
    "y_hat_lr = clf_lr.predict(X_test)\n",
    "clf_lr_accuracy = accuracy_score(y_test.values, y_hat_lr)"
   ]
  },
  {
   "cell_type": "code",
   "execution_count": 95,
   "metadata": {
    "autoscroll": "json-false",
    "collapsed": false,
    "ein.tags": [
     "worksheet-0"
    ]
   },
   "outputs": [
    {
     "data": {
      "text/plain": [
       "0.79788257940327234"
      ]
     },
     "execution_count": 95,
     "metadata": {},
     "output_type": "execute_result"
    }
   ],
   "source": [
    "clf_lr_accuracy"
   ]
  },
  {
   "cell_type": "code",
   "execution_count": 85,
   "metadata": {
    "autoscroll": "json-false",
    "collapsed": false,
    "ein.tags": [
     "worksheet-0"
    ]
   },
   "outputs": [],
   "source": [
    "clf_lr_results = pd.DataFrame({'y_hat': pd.Series(y_hat_lr).apply(cat_name).values, 'y_true': y_test.apply(cat_name).values})"
   ]
  },
  {
   "cell_type": "code",
   "execution_count": 89,
   "metadata": {
    "autoscroll": "json-false",
    "collapsed": false,
    "ein.tags": [
     "worksheet-0"
    ]
   },
   "outputs": [],
   "source": [
    "clf_lr_results.to_csv('data/sklearn_lr_test_results.txt', index=False)"
   ]
  },
  {
   "cell_type": "markdown",
   "metadata": {
    "ein.tags": [
     "worksheet-0"
    ]
   },
   "source": [
    "weird bug: \n",
    "running GridCV w LogisticRegression with n_jobs > 1 for LogisticRegression while n_jobs > 1 for GridCV causes cpu hang\n",
    "Not sure if it's only for this version, or only for python 2.7.x\n",
    "https://github.com/scikit-learn/scikit-learn/issues/3605\n",
    "ovr: Keep LogisticRegression n_jobs > 1, but GridCV n_jobs = 1\n",
    "multinomial: both n_jobs=1\n"
   ]
  },
  {
   "cell_type": "code",
   "execution_count": 63,
   "metadata": {
    "autoscroll": "json-false",
    "collapsed": false,
    "ein.tags": [
     "worksheet-0"
    ]
   },
   "outputs": [
    {
     "name": "stdout",
     "output_type": "stream",
     "text": [
      "\n",
      "0.806544754572 {'C': 0.2, 'max_iter': 300, 'tol': 0.0001}\n"
     ]
    },
    {
     "name": "stdout",
     "output_type": "stream",
     "text": [
      "\n",
      "iteration 2\n",
      "Each iteration time(secs): 158.727"
     ]
    },
    {
     "name": "stdout",
     "output_type": "stream",
     "text": [
      "\n",
      "iteration 1\n",
      "Each iteration time(secs): 158.391"
     ]
    },
    {
     "name": "stdout",
     "output_type": "stream",
     "text": [
      "iteration 0\n",
      "Each iteration time(secs): 158.433"
     ]
    }
   ],
   "source": [
    "import time\n",
    "from sklearn.grid_search import GridSearchCV as GSCV\n",
    "from sklearn.metrics import accuracy_score\n",
    "from sklearn.linear_model import LogisticRegression\n",
    "\n",
    "# Logistic Regression multinomial\n",
    "\n",
    "clf_lr2 = LogisticRegression(\n",
    "    penalty='l2', random_state=0, multi_class='multinomial', solver='lbfgs', n_jobs=1)\n",
    "    \n",
    "best_score = None\n",
    "best_params = None\n",
    "for i in xrange(3):\n",
    "    if i < 3 or i % 10 == 0:\n",
    "\tprint \"iteration {}\".format(i)\n",
    "\tstart = time.time()\n",
    "    gs_clf = GSCV(\n",
    "\tclf_lr2,\n",
    "\t{'tol': [0.0001], 'C': [.17, .2, .23], 'max_iter': [270, 300, 350]},\n",
    "\tscoring='log_loss',\n",
    "\tcv=5,\n",
    "\tn_jobs=1)\n",
    "    gs_clf.fit(X_train, y_train)\n",
    "    _score = accuracy_score(y_test, gs_clf.predict(X_test))\n",
    "    if best_score is None or best_score < _score:\n",
    "\tbest_score = _score\n",
    "\tbest_params = {\n",
    "\t    'C': gs_clf.best_estimator_.C,\n",
    "\t    'max_iter': gs_clf.best_estimator_.max_iter,\n",
    "\t    'tol': gs_clf.best_estimator_.tol}\n",
    "    if i < 3:\n",
    "\tend = time.time()    \n",
    "\tprint \"Each iteration time(secs): {:.3f}\".format(end - start)\n",
    "\t\n",
    "print best_score, best_params"
   ]
  },
  {
   "cell_type": "raw",
   "metadata": {
    "ein.tags": [
     "worksheet-0"
    ]
   },
   "source": [
    "{'tol': [0.0001, 0.001, 0.00001], 'C': [10.0, 1.0, .1, .01], 'max_iter': [100, 50, 150]}\n",
    "iteration 0\n",
    "Each iteration time(secs): 253.191\n",
    "iteration 1\n",
    "Each iteration time(secs): 249.160\n",
    "iteration 2\n",
    "Each iteration time(secs): 248.184\n",
    "0.799807507218 {'C': 0.1, 'max_iter': 150, 'tol': 0.0001}\n",
    "\n",
    "{'tol': [0.0001, 0.0003, 0.00008], 'C': [.07, .1, .2], 'max_iter': [125, 150, 200]},\n",
    "iteration 0\n",
    "Each iteration time(secs): 252.166\n",
    "iteration 1\n",
    "Each iteration time(secs): 250.710\n",
    "iteration 2\n",
    "Each iteration time(secs): 250.147\n",
    "0.809432146295 {'C': 0.2, 'max_iter': 200, 'tol': 0.0001}\n",
    "\n",
    "{'tol': [0.0001, 0.00015, 0.00009], 'C': [.15, .2, .3], 'max_iter': [250, 300, 400]},\n",
    "iteration 0\n",
    "Each iteration time(secs): 487.091\n",
    "iteration 1\n",
    "Each iteration time(secs): 488.607\n",
    "iteration 2\n",
    "Each iteration time(secs): 486.965\n",
    "0.806544754572 {'C': 0.2, 'max_iter': 300, 'tol': 0.0001}\n",
    "\n",
    "{'tol': [0.0001], 'C': [.17, .2, .23], 'max_iter': [270, 300, 350]},\n",
    "iteration 0\n",
    "Each iteration time(secs): 158.433\n",
    "iteration 1\n",
    "Each iteration time(secs): 158.391\n",
    "iteration 2\n",
    "Each iteration time(secs): 158.727\n",
    "0.806544754572 {'C': 0.2, 'max_iter': 300, 'tol': 0.0001}"
   ]
  },
  {
   "cell_type": "code",
   "execution_count": 90,
   "metadata": {
    "autoscroll": "json-false",
    "collapsed": false,
    "ein.tags": [
     "worksheet-0"
    ]
   },
   "outputs": [],
   "source": [
    "# Retrain LogisticRegression multinomial with all training data and get accuracy on test\n",
    "\n",
    "clf_lr2 = LogisticRegression(C=0.2, max_iter=300, tol=0.0001,\n",
    "    penalty='l2', random_state=0, multi_class='multinomial', solver='lbfgs', n_jobs=1)\n",
    "clf_lr2.fit(X_train, y_train)\n",
    "y_hat_lr2 = clf_lr2.predict(X_test)\n",
    "clf_lr2_accuracy = accuracy_score(y_test.values, y_hat_lr2)"
   ]
  },
  {
   "cell_type": "code",
   "execution_count": 91,
   "metadata": {
    "autoscroll": "json-false",
    "collapsed": false,
    "ein.tags": [
     "worksheet-0"
    ]
   },
   "outputs": [
    {
     "data": {
      "text/plain": [
       "0.8065447545717036"
      ]
     },
     "execution_count": 91,
     "metadata": {},
     "output_type": "execute_result"
    }
   ],
   "source": [
    "clf_lr2_accuracy"
   ]
  },
  {
   "cell_type": "code",
   "execution_count": 92,
   "metadata": {
    "autoscroll": "json-false",
    "collapsed": false,
    "ein.tags": [
     "worksheet-0"
    ]
   },
   "outputs": [],
   "source": [
    "clf_lr2_results = pd.DataFrame({'y_hat': pd.Series(y_hat_lr2).apply(cat_name).values, 'y_true': y_test.apply(cat_name).values})"
   ]
  },
  {
   "cell_type": "code",
   "execution_count": 93,
   "metadata": {
    "autoscroll": "json-false",
    "collapsed": false,
    "ein.tags": [
     "worksheet-0"
    ]
   },
   "outputs": [
    {
     "data": {
      "text/plain": [
       "0.8065447545717036"
      ]
     },
     "execution_count": 93,
     "metadata": {},
     "output_type": "execute_result"
    }
   ],
   "source": [
    "clf_lr2_results.apply(lambda row: row.y_hat == row.y_true, axis=1).sum() / float(clf_lr2_results.shape[0])"
   ]
  },
  {
   "cell_type": "code",
   "execution_count": 94,
   "metadata": {
    "autoscroll": "json-false",
    "collapsed": false,
    "ein.tags": [
     "worksheet-0"
    ]
   },
   "outputs": [],
   "source": [
    "clf_lr2_results.to_csv('data/sklearn_lr2_test_results.txt', index=False)"
   ]
  },
  {
   "cell_type": "markdown",
   "metadata": {
    "ein.tags": [
     "worksheet-0"
    ]
   },
   "source": [
    "Run with tensorflow retrain final layer from within `tensorflow/examples/image_retraining` -> `tensorflow_retrain`\n",
    "\n",
    "```\n",
    "time python retrain.py --image_dir kfood --output_graph ./kfood_graph.pb --output_labels ./kfood_output_labels.txt --how_many_training_steps 5000 --learning_rate 0.01 --testing_percentage 20 --validation_percentage 20 --train_batch_size 200 --flip_left_right --random_crop 0 --random_scale 0 --random_brightness 0\n",
    "```"
   ]
  },
  {
   "cell_type": "raw",
   "metadata": {
    "ein.tags": [
     "worksheet-0"
    ]
   },
   "source": [
    "Summary of results for tensorflow retraining last layer\n",
    "train_accuracy and valid_accuracy correspond only to the batch in the last training step\n",
    "* Running on gpu install of tensorflow - doesn't make much difference\n",
    "\n",
    "training_steps learning_rate train_batch_size flip_left_right random_crop random_scale random_brightness train_accuracy valid_accuracy test_accuracy runtime\n",
    "4000           0.01          100              no              0           0            0                 92.0           73.0           76.8          NA\n",
    "8000           0.01          100              no              0           0            0                 98.0           81.0           79.2          NA\n",
    "12000          0.01          100              no              0           0            0                 100.0          74.0           81.8          NA\n",
    "16000          0.01          100              no              0           0            0                 99.0           77.0           74.8          18m10.696s\n",
    "4000           0.1           100              no              0           0            0                 100.0          75.0           78.4          4m59.003s *\n",
    "8000           0.1           100              no              0           0            0                 100.0          80.0           78.4          9m34.358s *\n",
    "8000           0.05          100              no              0           0            0                 100.0          82.0           79.8          9m48.046s *\n",
    "12000          0.05          100              no              0           0            0                 100.0          80.0           75.6          14m56.545s *\n",
    "4000           0.01          200              no              0           0            0                 95.0           80.0           81.0          8m18.477s\n",
    "4500           0.01          200              no              0           0            0                 91.5           79.0           81.6          9m24.027s\n",
    "5000           0.01          200              no              0           0            0                 95.0           79.0           82.4          10m20.320s\n",
    "5500           0.01          200              no              0           0            0                 96.5           80.0           80.6          11m19.920s\n",
    "6000           0.01          200              no              0           0            0                 95.5           76.0           80.2          11m59.707s\n",
    "8000           0.01          200              no              0           0            0                 95.0           85.0           79.4          16m23.208s\n",
    "12000          0.01          200              no              0           0            0                 99.0           75.0           77.8          208m48.420s\n",
    "4000           0.01          300              no              0           0            0                 94.3           77.0           81.2          12m21.572s\n",
    "8000           0.01          300              no              0           0            0                 98.0           86.0           78.2          31m41.840s\n",
    "5000           0.02          200              no              0           0            0                 98.5           77.0           81.0          10m35.363s\n",
    "5000           0.008         200              no              0           0            0                 94.0           79.0           79.2          10m26.045s\n",
    "5000           0.01          225              no              0           0            0                 94.7           81.0           78.8          11m19.542s\n",
    "5000           0.01          180              no              0           0            0                 95.0           73.0           82.4          9m14.935s\n",
    "5000           0.01          190              no              0           0            0                 96.3           81.0           80.8          9m56.740s\n",
    "5000           0.01          200              yes             0           0            0                 \n"
   ]
  },
  {
   "cell_type": "code",
   "execution_count": null,
   "metadata": {
    "autoscroll": "json-false",
    "collapsed": false,
    "ein.tags": [
     "worksheet-0"
    ]
   },
   "outputs": [],
   "source": []
  },
  {
   "cell_type": "code",
   "execution_count": null,
   "metadata": {
    "autoscroll": "json-false",
    "collapsed": false,
    "ein.tags": [
     "worksheet-0"
    ]
   },
   "outputs": [],
   "source": []
  },
  {
   "cell_type": "code",
   "execution_count": null,
   "metadata": {
    "autoscroll": "json-false",
    "collapsed": false,
    "ein.tags": [
     "worksheet-0"
    ]
   },
   "outputs": [],
   "source": []
  }
 ],
 "metadata": {
  "kernelspec": {
   "display_name": "Python 2",
   "language": "python",
   "name": "python2"
  },
  "language_info": {
   "codemirror_mode": {
    "name": "ipython",
    "version": 2
   },
   "file_extension": ".py",
   "mimetype": "text/x-python",
   "name": "python",
   "nbconvert_exporter": "python",
   "pygments_lexer": "ipython2",
   "version": "2.7.10"
  },
  "name": "kfood.ipynb"
 },
 "nbformat": 4,
 "nbformat_minor": 0
}
