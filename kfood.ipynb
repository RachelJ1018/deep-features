{
 "cells": [
  {
   "cell_type": "code",
   "execution_count": 27,
   "metadata": {
    "autoscroll": "json-false",
    "collapsed": false,
    "ein.tags": [
     "worksheet-0"
    ]
   },
   "outputs": [
    {
     "name": "stdout",
     "output_type": "stream",
     "text": [
      "The autoreload extension is already loaded. To reload it, use:\n",
      "  %reload_ext autoreload\n"
     ]
    }
   ],
   "source": [
    "%matplotlib inline\n",
    "%load_ext autoreload\n",
    "%autoreload 2\n",
    "import os\n",
    "import sys\n",
    "\n",
    "import csv\n",
    "import datetime\n",
    "import itertools\n",
    "import numpy as np\n",
    "import pandas as pd\n",
    "import random\n",
    "import re\n",
    "from collections import defaultdict\n",
    "\n",
    "import matplotlib as mpl\n",
    "import matplotlib.pyplot as plt\n",
    "import seaborn as sns\n",
    "sns.set_style(\"whitegrid\")\n",
    "sns.set_context(rc={\n",
    "       \"figure.figsize\": (16, 10),\n",
    "       \"axes.titlesize\": 14})\n",
    "\n",
    "import sklearn\n",
    "\n",
    "from IPython.display import Image, display\n",
    "from IPython.core.display import HTML\n",
    "HTML(\"<style>.container { width:100% !important; }</style>\")\n",
    "\n",
    "from os.path import expanduser\n",
    "sys.path.insert(1, '{}/datsci'.format(expanduser('~')))\n",
    "from datsci import eda\n",
    "from datsci import kaggle as kg"
   ]
  },
  {
   "cell_type": "code",
   "execution_count": 29,
   "metadata": {
    "collapsed": false
   },
   "outputs": [
    {
     "data": {
      "text/html": [
       "<style>.container { width:100% !important; }</style>"
      ],
      "text/plain": [
       "<IPython.core.display.HTML object>"
      ]
     },
     "execution_count": 29,
     "metadata": {},
     "output_type": "execute_result"
    }
   ],
   "source": [
    "from IPython.core.display import HTML\n",
    "HTML(\"<style>.container { width:100% !important; }</style>\")"
   ]
  },
  {
   "cell_type": "code",
   "execution_count": 2,
   "metadata": {
    "autoscroll": "json-false",
    "collapsed": false,
    "ein.tags": [
     "worksheet-0"
    ]
   },
   "outputs": [],
   "source": [
    "kfood_data_file = 'data/kfood.txt'\n",
    "kfood_data_file_raw = 'data/kfood.raw.txt'\n",
    "\n",
    "catpat = re.compile(r'/(\\w+)\\.\\d+\\.jpg$')\n",
    "\n",
    "def encode_category(df):\n",
    "    # Encode categories as numerical index\n",
    "    categories = sorted(set(df.category))\n",
    "    cat2idx = {c: i for i, c in enumerate(categories)}\n",
    "    df['category'] = df.category.apply(lambda c: cat2idx[c])\n",
    "    return categories\n",
    "\n",
    "def load_data():\n",
    "    if os.path.exists(kfood_data_file):\n",
    "\tdf = pd.read_csv(kfood_data_file)\n",
    "\treturn df, df.columns[1:-1], encode_category(df)\n",
    "    \n",
    "    if not os.path.exists(kfood_data_file_raw):\n",
    "\traise ValueError(\"data files don't exist\")\n",
    "    \n",
    "    df = pd.read_csv(kfood_data_file_raw, header=None)\n",
    "    feature_cols = list(df.columns[1:])\n",
    "    for i in xrange(len(feature_cols)):\n",
    "\tfeature_cols[i] = \"feature{}\".format(i)\n",
    "    df.columns = ['filepath'] + feature_cols\n",
    "    df['category'] = df.filepath.apply(lambda _fp: catpat.search(_fp).group(1))\n",
    "    \n",
    "    df.to_csv(kfood_data_file, index=False)\n",
    "    return df, feature_cols, encode_category(df)"
   ]
  },
  {
   "cell_type": "code",
   "execution_count": 3,
   "metadata": {
    "autoscroll": "json-false",
    "collapsed": false,
    "ein.tags": [
     "worksheet-0"
    ]
   },
   "outputs": [],
   "source": [
    "df, feature_cols, y_cats = load_data()"
   ]
  },
  {
   "cell_type": "code",
   "execution_count": 8,
   "metadata": {
    "collapsed": false
   },
   "outputs": [
    {
     "data": {
      "text/plain": [
       "173.5"
      ]
     },
     "execution_count": 8,
     "metadata": {},
     "output_type": "execute_result"
    }
   ],
   "source": [
    "df.category.apply(cat_name).value_counts().mean()"
   ]
  },
  {
   "cell_type": "code",
   "execution_count": 4,
   "metadata": {
    "autoscroll": "json-false",
    "collapsed": false,
    "ein.tags": [
     "worksheet-0"
    ]
   },
   "outputs": [
    {
     "data": {
      "text/plain": [
       "galbijjim        219\n",
       "kimbab           217\n",
       "bibimbab         214\n",
       "hotteok          210\n",
       "nangmyun         207\n",
       "dakgalbi         205\n",
       "sullungtang      193\n",
       "japchae          193\n",
       "bulgogi          183\n",
       "samgyupsal       173\n",
       "bossam           173\n",
       "dakbokeumtang    171\n",
       "jeyookbokkeum    165\n",
       "samgyetang       158\n",
       "ddukbokee        150\n",
       "lagalbi          148\n",
       "jeon             134\n",
       "kimchi           127\n",
       "ramen            118\n",
       "yookgyejang      112\n",
       "Name: category, dtype: int64"
      ]
     },
     "execution_count": 4,
     "metadata": {},
     "output_type": "execute_result"
    }
   ],
   "source": [
    "cat_name = lambda c: y_cats[c]\n",
    "df.category.apply(cat_name).value_counts()"
   ]
  },
  {
   "cell_type": "code",
   "execution_count": 7,
   "metadata": {
    "autoscroll": "json-false",
    "collapsed": false,
    "ein.tags": [
     "worksheet-0"
    ]
   },
   "outputs": [
    {
     "data": {
      "text/plain": [
       "<matplotlib.axes._subplots.AxesSubplot at 0x111e97cd0>"
      ]
     },
     "execution_count": 7,
     "metadata": {},
     "output_type": "execute_result"
    },
    {
     "data": {
      "image/png": "[encoded data removed]",
      "text/plain": [
       "<matplotlib.figure.Figure at 0x111c8b810>"
      ]
     },
     "metadata": {},
     "output_type": "display_data"
    }
   ],
   "source": [
    "df.category.apply(cat_name).value_counts().plot(kind='bar', title=\"Distribution of Counts for Each Label\", figsize=(12,4))"
   ]
  },
  {
   "cell_type": "markdown",
   "metadata": {
    "ein.tags": [
     "worksheet-0"
    ]
   },
   "source": [
    "| Name           |  Number of samples\n",
    "| ---\t\t | ---\n",
    "| galbijjim      |  219\n",
    "| kimbab         |  217\n",
    "| bibimbab       |  214\n",
    "| hotteok        |  210\n",
    "| nangmyun       |  207\n",
    "| dakgalbi       |  205\n",
    "| sullungtang    |  193\n",
    "| japchae        |  193\n",
    "| bulgogi        |  183\n",
    "| samgyupsal     |  173\n",
    "| bossam         |  173\n",
    "| dakbokeumtang  |  171\n",
    "| jeyookbokkeum  |  165\n",
    "| samgyetang     |  158\n",
    "| ddukbokee      |  150\n",
    "| lagalbi        |  148\n",
    "| jeon           |  134\n",
    "| kimchi         |  127\n",
    "| ramen          |  118\n",
    "| yookgyejang    |  112"
   ]
  },
  {
   "cell_type": "code",
   "execution_count": 43,
   "metadata": {
    "autoscroll": "json-false",
    "collapsed": false,
    "ein.tags": [
     "worksheet-0"
    ]
   },
   "outputs": [
    {
     "data": {
      "text/plain": [
       "(3470, 2050)"
      ]
     },
     "execution_count": 43,
     "metadata": {},
     "output_type": "execute_result"
    }
   ],
   "source": [
    "df.shape"
   ]
  },
  {
   "cell_type": "code",
   "execution_count": 10,
   "metadata": {
    "autoscroll": "json-false",
    "collapsed": false,
    "ein.tags": [
     "worksheet-0"
    ]
   },
   "outputs": [
    {
     "data": {
      "text/html": [
       "<div>\n",
       "<table border=\"1\" class=\"dataframe\">\n",
       "  <thead>\n",
       "    <tr style=\"text-align: right;\">\n",
       "      <th></th>\n",
       "      <th>feature0</th>\n",
       "      <th>feature1</th>\n",
       "      <th>feature2</th>\n",
       "      <th>feature3</th>\n",
       "      <th>feature4</th>\n",
       "    </tr>\n",
       "  </thead>\n",
       "  <tbody>\n",
       "    <tr>\n",
       "      <th>count</th>\n",
       "      <td>3470.000000</td>\n",
       "      <td>3470.000000</td>\n",
       "      <td>3470.000000</td>\n",
       "      <td>3470.000000</td>\n",
       "      <td>3470.000000</td>\n",
       "    </tr>\n",
       "    <tr>\n",
       "      <th>mean</th>\n",
       "      <td>0.292122</td>\n",
       "      <td>0.409072</td>\n",
       "      <td>0.527338</td>\n",
       "      <td>0.205257</td>\n",
       "      <td>0.341956</td>\n",
       "    </tr>\n",
       "    <tr>\n",
       "      <th>std</th>\n",
       "      <td>0.210247</td>\n",
       "      <td>0.310620</td>\n",
       "      <td>0.348090</td>\n",
       "      <td>0.196429</td>\n",
       "      <td>0.309863</td>\n",
       "    </tr>\n",
       "    <tr>\n",
       "      <th>min</th>\n",
       "      <td>0.002776</td>\n",
       "      <td>0.000000</td>\n",
       "      <td>0.009342</td>\n",
       "      <td>0.000000</td>\n",
       "      <td>0.000000</td>\n",
       "    </tr>\n",
       "    <tr>\n",
       "      <th>25%</th>\n",
       "      <td>0.135991</td>\n",
       "      <td>0.177316</td>\n",
       "      <td>0.271595</td>\n",
       "      <td>0.066020</td>\n",
       "      <td>0.121058</td>\n",
       "    </tr>\n",
       "    <tr>\n",
       "      <th>50%</th>\n",
       "      <td>0.244641</td>\n",
       "      <td>0.341317</td>\n",
       "      <td>0.450077</td>\n",
       "      <td>0.147333</td>\n",
       "      <td>0.259115</td>\n",
       "    </tr>\n",
       "    <tr>\n",
       "      <th>75%</th>\n",
       "      <td>0.396790</td>\n",
       "      <td>0.555601</td>\n",
       "      <td>0.708050</td>\n",
       "      <td>0.281080</td>\n",
       "      <td>0.469292</td>\n",
       "    </tr>\n",
       "    <tr>\n",
       "      <th>max</th>\n",
       "      <td>1.751740</td>\n",
       "      <td>2.421970</td>\n",
       "      <td>2.682040</td>\n",
       "      <td>1.811220</td>\n",
       "      <td>3.519750</td>\n",
       "    </tr>\n",
       "  </tbody>\n",
       "</table>\n",
       "</div>"
      ],
      "text/plain": [
       "          feature0     feature1     feature2     feature3     feature4\n",
       "count  3470.000000  3470.000000  3470.000000  3470.000000  3470.000000\n",
       "mean      0.292122     0.409072     0.527338     0.205257     0.341956\n",
       "std       0.210247     0.310620     0.348090     0.196429     0.309863\n",
       "min       0.002776     0.000000     0.009342     0.000000     0.000000\n",
       "25%       0.135991     0.177316     0.271595     0.066020     0.121058\n",
       "50%       0.244641     0.341317     0.450077     0.147333     0.259115\n",
       "75%       0.396790     0.555601     0.708050     0.281080     0.469292\n",
       "max       1.751740     2.421970     2.682040     1.811220     3.519750"
      ]
     },
     "execution_count": 10,
     "metadata": {},
     "output_type": "execute_result"
    }
   ],
   "source": [
    "df.describe()[['feature0', 'feature1', 'feature2', 'feature3', 'feature4',]]"
   ]
  },
  {
   "cell_type": "code",
   "execution_count": 14,
   "metadata": {
    "autoscroll": "json-false",
    "collapsed": false,
    "ein.tags": [
     "worksheet-0"
    ]
   },
   "outputs": [
    {
     "data": {
      "text/plain": [
       "<matplotlib.axes._subplots.AxesSubplot at 0x1194ead10>"
      ]
     },
     "execution_count": 14,
     "metadata": {},
     "output_type": "execute_result"
    },
    {
     "data": {
      "image/png": "[encoded data removed]",
      "text/plain": [
       "<matplotlib.figure.Figure at 0x11929a390>"
      ]
     },
     "metadata": {},
     "output_type": "display_data"
    }
   ],
   "source": [
    "df[feature_cols[:5]].describe().ix[1:,].plot(kind='bar', figsize=(16, 4), title=\"First five features\".title())"
   ]
  },
  {
   "cell_type": "code",
   "execution_count": 15,
   "metadata": {
    "autoscroll": "json-false",
    "collapsed": false,
    "ein.tags": [
     "worksheet-0"
    ]
   },
   "outputs": [],
   "source": [
    "target_col = 'category'\n",
    "X_all = df[feature_cols]  # feature values for all students\n",
    "y_all = df[target_col]"
   ]
  },
  {
   "cell_type": "code",
   "execution_count": 16,
   "metadata": {
    "autoscroll": "json-false",
    "collapsed": false,
    "ein.tags": [
     "worksheet-0"
    ]
   },
   "outputs": [
    {
     "data": {
      "text/plain": [
       "(3470, 2048)"
      ]
     },
     "execution_count": 16,
     "metadata": {},
     "output_type": "execute_result"
    }
   ],
   "source": [
    "X_all.shape"
   ]
  },
  {
   "cell_type": "code",
   "execution_count": 48,
   "metadata": {
    "autoscroll": "json-false",
    "collapsed": false,
    "ein.tags": [
     "worksheet-0"
    ]
   },
   "outputs": [
    {
     "data": {
      "text/plain": [
       "(3470,)"
      ]
     },
     "execution_count": 48,
     "metadata": {},
     "output_type": "execute_result"
    }
   ],
   "source": [
    "y_all.shape"
   ]
  },
  {
   "cell_type": "code",
   "execution_count": 18,
   "metadata": {
    "autoscroll": "json-false",
    "collapsed": false,
    "ein.tags": [
     "worksheet-0"
    ]
   },
   "outputs": [
    {
     "data": {
      "text/plain": [
       "True"
      ]
     },
     "execution_count": 18,
     "metadata": {},
     "output_type": "execute_result"
    }
   ],
   "source": [
    "# Split up the train and test data\n",
    "from sklearn.cross_validation import train_test_split\n",
    "\n",
    "test_size = 0.3 # 30 percent\n",
    "X_train, X_test, y_train, y_test = train_test_split(\n",
    "    X_all, y_all, test_size=test_size, random_state=0, stratify=y_all)\n",
    "\n",
    "# Split up the filepaths for comparison (useful for datamind benchmark)\n",
    "X_train_filepath, X_test_filepath, y_train_filepath, y_test_filepath = train_test_split(\n",
    "    df['filepath'], df.category.apply(cat_name), test_size=test_size, random_state=0, stratify=y_all)\n",
    "train_data = pd.DataFrame({'filepath': X_train_filepath, 'category': y_train_filepath})\n",
    "test_data = pd.DataFrame({'filepath': X_test_filepath, 'category': y_test_filepath})\n",
    "train_data.to_csv('data/kfood_train.txt', index=False)\n",
    "test_data.to_csv('data/kfood_test.txt', index=False)\n",
    "\n",
    "# Test to see that the train_test_split splits the filepaths the same way as the feature data\n",
    "np.array_equal(pd.merge(pd.DataFrame(X_train_filepath, columns=['filepath']), df, how='left', on='filepath')[feature_cols].values, X_train)"
   ]
  },
  {
   "cell_type": "code",
   "execution_count": 19,
   "metadata": {
    "autoscroll": "json-false",
    "collapsed": false,
    "ein.tags": [
     "worksheet-0"
    ]
   },
   "outputs": [
    {
     "data": {
      "text/plain": [
       "((2431, 2048), (1039, 2048))"
      ]
     },
     "execution_count": 19,
     "metadata": {},
     "output_type": "execute_result"
    }
   ],
   "source": [
    "X_train.shape, X_test.shape"
   ]
  },
  {
   "cell_type": "code",
   "execution_count": 20,
   "metadata": {
    "autoscroll": "json-false",
    "collapsed": false,
    "ein.tags": [
     "worksheet-0"
    ]
   },
   "outputs": [
    {
     "data": {
      "text/plain": [
       "((2431,), (1039,))"
      ]
     },
     "execution_count": 20,
     "metadata": {},
     "output_type": "execute_result"
    }
   ],
   "source": [
    "y_train.shape, y_test.shape"
   ]
  },
  {
   "cell_type": "code",
   "execution_count": 21,
   "metadata": {
    "autoscroll": "json-false",
    "collapsed": false,
    "ein.tags": [
     "worksheet-0"
    ]
   },
   "outputs": [
    {
     "data": {
      "text/plain": [
       "0.42739613327848625"
      ]
     },
     "execution_count": 21,
     "metadata": {},
     "output_type": "execute_result"
    }
   ],
   "source": [
    "1039./2431"
   ]
  },
  {
   "cell_type": "code",
   "execution_count": 25,
   "metadata": {
    "collapsed": true
   },
   "outputs": [],
   "source": [
    "from datsci.eda import pprint"
   ]
  },
  {
   "cell_type": "code",
   "execution_count": 22,
   "metadata": {
    "autoscroll": "json-false",
    "collapsed": false,
    "ein.tags": [
     "worksheet-0"
    ]
   },
   "outputs": [
    {
     "data": {
      "text/html": [
       "<div>\n",
       "<table border=\"1\" class=\"dataframe\">\n",
       "  <thead>\n",
       "    <tr style=\"text-align: right;\">\n",
       "      <th></th>\n",
       "      <th>train</th>\n",
       "      <th>test</th>\n",
       "      <th>test_perc</th>\n",
       "    </tr>\n",
       "  </thead>\n",
       "  <tbody>\n",
       "    <tr>\n",
       "      <th>bibimbab</th>\n",
       "      <td>150</td>\n",
       "      <td>64</td>\n",
       "      <td>0.299065</td>\n",
       "    </tr>\n",
       "    <tr>\n",
       "      <th>bossam</th>\n",
       "      <td>121</td>\n",
       "      <td>52</td>\n",
       "      <td>0.300578</td>\n",
       "    </tr>\n",
       "    <tr>\n",
       "      <th>bulgogi</th>\n",
       "      <td>128</td>\n",
       "      <td>55</td>\n",
       "      <td>0.300546</td>\n",
       "    </tr>\n",
       "    <tr>\n",
       "      <th>dakbokeumtang</th>\n",
       "      <td>120</td>\n",
       "      <td>51</td>\n",
       "      <td>0.298246</td>\n",
       "    </tr>\n",
       "    <tr>\n",
       "      <th>dakgalbi</th>\n",
       "      <td>144</td>\n",
       "      <td>61</td>\n",
       "      <td>0.297561</td>\n",
       "    </tr>\n",
       "    <tr>\n",
       "      <th>ddukbokee</th>\n",
       "      <td>105</td>\n",
       "      <td>45</td>\n",
       "      <td>0.300000</td>\n",
       "    </tr>\n",
       "    <tr>\n",
       "      <th>galbijjim</th>\n",
       "      <td>153</td>\n",
       "      <td>66</td>\n",
       "      <td>0.301370</td>\n",
       "    </tr>\n",
       "    <tr>\n",
       "      <th>hotteok</th>\n",
       "      <td>147</td>\n",
       "      <td>63</td>\n",
       "      <td>0.300000</td>\n",
       "    </tr>\n",
       "    <tr>\n",
       "      <th>japchae</th>\n",
       "      <td>135</td>\n",
       "      <td>58</td>\n",
       "      <td>0.300518</td>\n",
       "    </tr>\n",
       "    <tr>\n",
       "      <th>jeon</th>\n",
       "      <td>94</td>\n",
       "      <td>40</td>\n",
       "      <td>0.298507</td>\n",
       "    </tr>\n",
       "    <tr>\n",
       "      <th>jeyookbokkeum</th>\n",
       "      <td>116</td>\n",
       "      <td>49</td>\n",
       "      <td>0.296970</td>\n",
       "    </tr>\n",
       "    <tr>\n",
       "      <th>kimbab</th>\n",
       "      <td>152</td>\n",
       "      <td>65</td>\n",
       "      <td>0.299539</td>\n",
       "    </tr>\n",
       "    <tr>\n",
       "      <th>kimchi</th>\n",
       "      <td>89</td>\n",
       "      <td>38</td>\n",
       "      <td>0.299213</td>\n",
       "    </tr>\n",
       "    <tr>\n",
       "      <th>lagalbi</th>\n",
       "      <td>104</td>\n",
       "      <td>44</td>\n",
       "      <td>0.297297</td>\n",
       "    </tr>\n",
       "    <tr>\n",
       "      <th>nangmyun</th>\n",
       "      <td>145</td>\n",
       "      <td>62</td>\n",
       "      <td>0.299517</td>\n",
       "    </tr>\n",
       "    <tr>\n",
       "      <th>ramen</th>\n",
       "      <td>83</td>\n",
       "      <td>35</td>\n",
       "      <td>0.296610</td>\n",
       "    </tr>\n",
       "    <tr>\n",
       "      <th>samgyetang</th>\n",
       "      <td>111</td>\n",
       "      <td>47</td>\n",
       "      <td>0.297468</td>\n",
       "    </tr>\n",
       "    <tr>\n",
       "      <th>samgyupsal</th>\n",
       "      <td>121</td>\n",
       "      <td>52</td>\n",
       "      <td>0.300578</td>\n",
       "    </tr>\n",
       "    <tr>\n",
       "      <th>sullungtang</th>\n",
       "      <td>135</td>\n",
       "      <td>58</td>\n",
       "      <td>0.300518</td>\n",
       "    </tr>\n",
       "    <tr>\n",
       "      <th>yookgyejang</th>\n",
       "      <td>78</td>\n",
       "      <td>34</td>\n",
       "      <td>0.303571</td>\n",
       "    </tr>\n",
       "  </tbody>\n",
       "</table>\n",
       "</div>"
      ],
      "text/plain": [
       "               train  test  test_perc\n",
       "bibimbab         150    64   0.299065\n",
       "bossam           121    52   0.300578\n",
       "bulgogi          128    55   0.300546\n",
       "dakbokeumtang    120    51   0.298246\n",
       "dakgalbi         144    61   0.297561\n",
       "ddukbokee        105    45   0.300000\n",
       "galbijjim        153    66   0.301370\n",
       "hotteok          147    63   0.300000\n",
       "japchae          135    58   0.300518\n",
       "jeon              94    40   0.298507\n",
       "jeyookbokkeum    116    49   0.296970\n",
       "kimbab           152    65   0.299539\n",
       "kimchi            89    38   0.299213\n",
       "lagalbi          104    44   0.297297\n",
       "nangmyun         145    62   0.299517\n",
       "ramen             83    35   0.296610\n",
       "samgyetang       111    47   0.297468\n",
       "samgyupsal       121    52   0.300578\n",
       "sullungtang      135    58   0.300518\n",
       "yookgyejang       78    34   0.303571"
      ]
     },
     "execution_count": 22,
     "metadata": {},
     "output_type": "execute_result"
    }
   ],
   "source": [
    "split_counts_df = pd.concat([y_train.apply(cat_name).value_counts(), y_test.apply(cat_name).value_counts()], axis=1)\n",
    "split_counts_df.columns = ['train', 'test']\n",
    "split_counts_df['test_perc'] = split_counts_df.apply(lambda row: float(row.test) / row.sum(), axis=1)\n",
    "split_counts_df"
   ]
  },
  {
   "cell_type": "code",
   "execution_count": 26,
   "metadata": {
    "collapsed": false
   },
   "outputs": [
    {
     "name": "stdout",
     "output_type": "stream",
     "text": [
      "+---------------+-------+------+----------------+\n",
      "|               | train | test |   test_perc    |\n",
      "+---------------+-------+------+----------------+\n",
      "|    bibimbab   |  150  |  64  | 0.299065420561 |\n",
      "|     bossam    |  121  |  52  | 0.300578034682 |\n",
      "|    bulgogi    |  128  |  55  | 0.300546448087 |\n",
      "| dakbokeumtang |  120  |  51  | 0.298245614035 |\n",
      "|    dakgalbi   |  144  |  61  | 0.29756097561  |\n",
      "|   ddukbokee   |  105  |  45  |      0.3       |\n",
      "|   galbijjim   |  153  |  66  | 0.301369863014 |\n",
      "|    hotteok    |  147  |  63  |      0.3       |\n",
      "|    japchae    |  135  |  58  | 0.300518134715 |\n",
      "|      jeon     |   94  |  40  | 0.298507462687 |\n",
      "| jeyookbokkeum |  116  |  49  | 0.29696969697  |\n",
      "|     kimbab    |  152  |  65  | 0.299539170507 |\n",
      "|     kimchi    |   89  |  38  | 0.299212598425 |\n",
      "|    lagalbi    |  104  |  44  | 0.297297297297 |\n",
      "|    nangmyun   |  145  |  62  | 0.299516908213 |\n",
      "|     ramen     |   83  |  35  | 0.296610169492 |\n",
      "|   samgyetang  |  111  |  47  | 0.29746835443  |\n",
      "|   samgyupsal  |  121  |  52  | 0.300578034682 |\n",
      "|  sullungtang  |  135  |  58  | 0.300518134715 |\n",
      "|  yookgyejang  |   78  |  34  | 0.303571428571 |\n",
      "+---------------+-------+------+----------------+\n"
     ]
    }
   ],
   "source": [
    "pprint(split_counts_df)"
   ]
  },
  {
   "cell_type": "markdown",
   "metadata": {
    "ein.tags": [
     "worksheet-0"
    ]
   },
   "source": [
    "Classifiers to try in Sklearn:\n",
    "\n",
    "- SVC\n",
    "- KNeighborsClassifier\n",
    "- RandomForestClassifier\n",
    "- LogisticRegression\n",
    "- GradientBoostingClassifier\n",
    "- AdaBoostClassifier"
   ]
  },
  {
   "cell_type": "code",
   "execution_count": 14,
   "metadata": {
    "autoscroll": "json-false",
    "collapsed": false,
    "ein.tags": [
     "worksheet-0"
    ]
   },
   "outputs": [],
   "source": [
    "import time\n",
    "from sklearn.metrics import f1_score\n",
    "\n",
    "def train_predict(clf, X_train, y_train, X_test, y_test, description):\n",
    "    results = {'description': description}\n",
    "    \n",
    "    # Train\n",
    "    start = time.time()\n",
    "    clf.fit(X_train, y_train)\n",
    "    end = time.time()\n",
    "    results['time_train'] = end - start\n",
    "\n",
    "    # Predict train\n",
    "    start = time.time()\n",
    "    y_hat = clf.predict(X_train)\n",
    "    end = time.time()\n",
    "    results['f1_score_train'] = f1_score(y_train.values, y_hat, average='micro')\n",
    "    results['time_predict_train'] = end - start\n",
    "\n",
    "    # Predict test\n",
    "    start = time.time()\n",
    "    y_hat = clf.predict(X_test)\n",
    "    end = time.time()\n",
    "    results['f1_score_test'] = f1_score(y_test.values, y_hat, average='micro')\n",
    "    results['time_predict_test'] = end - start\n",
    "\n",
    "    return results\n",
    "\n",
    "\n",
    "results = []\n",
    "\n",
    "# SVC\n",
    "from sklearn.svm import SVC\n",
    "\n",
    "clf = SVC(C=1.0, kernel='linear', gamma='auto')\n",
    "results.append(train_predict(clf, X_train, y_train, X_test, y_test, \"SVC linear kernel, one-vs-one\"))\n",
    "\n",
    "clf = SVC(C=1.0, kernel='poly', degree=2, gamma='auto')\n",
    "results.append(train_predict(clf, X_train, y_train, X_test, y_test, \"SVC polynomial deg 2 kernel, one-vs-one\"))\n",
    "\n",
    "clf = SVC(C=1.0, kernel='poly', degree=3, gamma='auto')\n",
    "results.append(train_predict(clf, X_train, y_train, X_test, y_test, \"SVC polynomial deg 3 kernel, one-vs-one\"))\n",
    "\n",
    "clf = SVC(C=1.0, kernel='rbf', gamma='auto')\n",
    "results.append(train_predict(clf, X_train, y_train, X_test, y_test, \"SVC rbf kernel, one-vs-one\"))\n",
    "\n",
    "clf = sklearn.multiclass.OneVsRestClassifier(SVC(C=1.0, kernel='linear', gamma='auto'), n_jobs=2)\n",
    "results.append(train_predict(clf, X_train, y_train, X_test, y_test, \"SVC linear kernel, one-vs-rest\"))\n",
    "\n",
    "clf = sklearn.multiclass.OneVsRestClassifier(SVC(C=1.0, kernel='poly', degree=2, gamma='auto'), n_jobs=2)\n",
    "results.append(train_predict(clf, X_train, y_train, X_test, y_test, \"SVC linear poly deg 2 kernel, one-vs-rest\"))\n",
    "\n",
    "clf = sklearn.multiclass.OneVsRestClassifier(SVC(C=1.0, kernel='poly', degree=3, gamma='auto'), n_jobs=2)\n",
    "results.append(train_predict(clf, X_train, y_train, X_test, y_test, \"SVC linear poly deg 3 kernel, one-vs-rest\"))\n",
    "\n",
    "clf = sklearn.multiclass.OneVsRestClassifier(SVC(C=1.0, kernel='rbf', gamma='auto'), n_jobs=2)\n",
    "results.append(train_predict(clf, X_train, y_train, X_test, y_test, \"SVC rbf kernel, one-vs-rest\"))\n",
    "\n",
    "# K-Neighbors Classifier\n",
    "from sklearn.neighbors import KNeighborsClassifier as KNC\n",
    "clf = KNC(n_neighbors=3, weights='uniform')\n",
    "results.append(train_predict(clf, X_train, y_train, X_test, y_test, \"KNeighbors, 3 neighbors\"))\n",
    "\n",
    "# RandomForestClassifier\n",
    "from sklearn.ensemble import RandomForestClassifier as RFC\n",
    "clf = RFC(n_estimators=10, max_depth=None, min_samples_split=2, n_jobs=2)\n",
    "results.append(train_predict(clf, X_train, y_train, X_test, y_test, \"RandomForest, 10 estimators\"))\n",
    "\n",
    "# LogisticRegression\n",
    "from sklearn.linear_model import LogisticRegression\n",
    "clf = LogisticRegression(penalty='l2', random_state=0, multi_class='ovr', n_jobs=4)\n",
    "results.append(train_predict(clf, X_train, y_train, X_test, y_test, \"LogisticRegression ovr\"))\n",
    "\n",
    "clf = LogisticRegression(penalty='l2', random_state=0, multi_class='multinomial', solver='lbfgs', n_jobs=1)\n",
    "results.append(train_predict(clf, X_train, y_train, X_test, y_test, \"LogisticRegression multinomial\"))\n",
    "\n",
    "# Tried boosting, but not such great results, so exclude from further analysis\n",
    "# # GradientBoostingClassifier\n",
    "# from sklearn.ensemble import GradientBoostingClassifier as GBC\n",
    "# clf = GBC(loss='deviance', learning_rate=0.1, n_estimators=100, max_depth=None, min_samples_split=2)\n",
    "# results.append(train_predict(clf, X_train, y_train, X_test, y_test, \"GradientBoostingClassifier\"))\n",
    "\n",
    "# # AdaBoostClassifier\n",
    "# from sklearn.ensemble import AdaBoostClassifier as ABC\n",
    "# clf = ABC(SVC(C=1.0, kernel='linear', gamma='auto'), n_estimators=100, learning_rate=1.0, algorithm='SAMME')\n",
    "#results.append(train_predict(clf, X_train, y_train, X_test, y_test, \"AdaBoostClassifier w SVC linear kernel\"))"
   ]
  },
  {
   "cell_type": "raw",
   "metadata": {
    "ein.tags": [
     "worksheet-0"
    ]
   },
   "source": [
    "Results using f1_score with average='micro':\n",
    "\n",
    "                              description   f1_score_test  f1_score_train  time_predict_test  time_predict_train    time_train\n",
    "            SVC linear kernel, one-vs-one        0.794995        1.000000           3.811647            8.710620      6.530875\n",
    "  SVC polynomial deg 2 kernel, one-vs-one        0.271415        0.266557           4.560238           10.932422     19.331461\n",
    "  SVC polynomial deg 3 kernel, one-vs-one        0.064485        0.063348           4.647615           10.951944     19.621503\n",
    "               SVC rbf kernel, one-vs-one        0.704524        0.763472           4.424742           10.265058     12.673358\n",
    "           SVC linear kernel, one-vs-rest        0.769971        1.000000           9.859875           23.225768     14.141236\n",
    "SVC linear poly deg 2 kernel, one-vs-rest        0.721848        0.839572          12.610308           29.113087     16.113646\n",
    "SVC linear poly deg 3 kernel, one-vs-rest        0.726660        0.868367          12.953984           30.955226     17.060905\n",
    "              SVC rbf kernel, one-vs-rest        0.730510        0.830111          11.662916           27.549705     15.683099\n",
    "                  KNeighbors, 3 neighbors        0.619827        0.815714           7.049512           16.117123      0.267269\n",
    "              RandomForest, 10 estimators        0.457170        0.995475           0.015634            0.022134      0.934990\n",
    "               GradientBoostingClassifier        0.448508        1.000000           0.111043            0.270002   2495.067427\n",
    "   AdaBoostClassifier w SVC linear kernel        0.678537        0.781160         463.121845         1087.314692   2854.012287\n",
    "                   LogisticRegression ovr        0.793070        1.000000           0.009143            0.015798     16.777627\n",
    "           LogisticRegression multinomial        0.803657        1.000000           0.004691            0.009141      1.540244"
   ]
  },
  {
   "cell_type": "code",
   "execution_count": 17,
   "metadata": {
    "autoscroll": "json-false",
    "collapsed": false,
    "ein.tags": [
     "worksheet-0"
    ]
   },
   "outputs": [],
   "source": [
    "# Re-run using just simple accuracy scores, in order to compare with retrain code in tensorflow/examples/image_retraining\n",
    "\n",
    "import time\n",
    "from sklearn.metrics import accuracy_score\n",
    "\n",
    "def train_predict2(clf, X_train, y_train, X_test, y_test, description):\n",
    "    results = {'description': description}\n",
    "    \n",
    "    # Train\n",
    "    start = time.time()\n",
    "    clf.fit(X_train, y_train)\n",
    "    end = time.time()\n",
    "    results['time_train'] = end - start\n",
    "\n",
    "    # Predict train\n",
    "    start = time.time()\n",
    "    y_hat = clf.predict(X_train)\n",
    "    end = time.time()\n",
    "    results['accuracy_train'] = accuracy_score(y_train.values, y_hat)\n",
    "    results['time_predict_train'] = end - start\n",
    "\n",
    "    # Predict test\n",
    "    start = time.time()\n",
    "    y_hat = clf.predict(X_test)\n",
    "    end = time.time()\n",
    "    results['accuracy_test'] = accuracy_score(y_test.values, y_hat)\n",
    "    results['time_predict_test'] = end - start\n",
    "\n",
    "    return results\n",
    "\n",
    "\n",
    "results = []\n",
    "\n",
    "from sklearn.svm import SVC\n",
    "\n",
    "clf = SVC(C=1.0, kernel='linear', gamma='auto')\n",
    "results.append(train_predict2(clf, X_train, y_train, X_test, y_test, \"SVC linear kernel, one-vs-one\"))\n",
    "\n",
    "clf = SVC(C=1.0, kernel='poly', degree=2, gamma='auto')\n",
    "results.append(train_predict2(clf, X_train, y_train, X_test, y_test, \"SVC polynomial deg 2 kernel, one-vs-one\"))\n",
    "\n",
    "clf = SVC(C=1.0, kernel='poly', degree=3, gamma='auto')\n",
    "results.append(train_predict2(clf, X_train, y_train, X_test, y_test, \"SVC polynomial deg 3 kernel, one-vs-one\"))\n",
    "\n",
    "clf = SVC(C=1.0, kernel='rbf', gamma='auto')\n",
    "results.append(train_predict2(clf, X_train, y_train, X_test, y_test, \"SVC rbf kernel, one-vs-one\"))\n",
    "\n",
    "clf = sklearn.multiclass.OneVsRestClassifier(SVC(C=1.0, kernel='linear', gamma='auto'), n_jobs=2)\n",
    "results.append(train_predict2(clf, X_train, y_train, X_test, y_test, \"SVC linear kernel, one-vs-rest\"))\n",
    "\n",
    "clf = sklearn.multiclass.OneVsRestClassifier(SVC(C=1.0, kernel='poly', degree=2, gamma='auto'), n_jobs=2)\n",
    "results.append(train_predict2(clf, X_train, y_train, X_test, y_test, \"SVC linear poly deg 2 kernel, one-vs-rest\"))\n",
    "\n",
    "clf = sklearn.multiclass.OneVsRestClassifier(SVC(C=1.0, kernel='poly', degree=3, gamma='auto'), n_jobs=2)\n",
    "results.append(train_predict2(clf, X_train, y_train, X_test, y_test, \"SVC linear poly deg 3 kernel, one-vs-rest\"))\n",
    "\n",
    "clf = sklearn.multiclass.OneVsRestClassifier(SVC(C=1.0, kernel='rbf', gamma='auto'), n_jobs=2)\n",
    "results.append(train_predict2(clf, X_train, y_train, X_test, y_test, \"SVC rbf kernel, one-vs-rest\"))\n",
    "\n",
    "# K-Neighbors Classifier\n",
    "from sklearn.neighbors import KNeighborsClassifier as KNC\n",
    "clf = KNC(n_neighbors=3, weights='uniform')\n",
    "results.append(train_predict2(clf, X_train, y_train, X_test, y_test, \"KNeighbors, 3 neighbors\"))\n",
    "\n",
    "# RandomForestClassifier\n",
    "from sklearn.ensemble import RandomForestClassifier as RFC\n",
    "clf = RFC(n_estimators=10, max_depth=None, min_samples_split=2, n_jobs=2)\n",
    "results.append(train_predict2(clf, X_train, y_train, X_test, y_test, \"RandomForest, 10 estimators\"))\n",
    "\n",
    "# LogisticRegression\n",
    "from sklearn.linear_model import LogisticRegression\n",
    "clf = LogisticRegression(penalty='l2', random_state=0, multi_class='ovr', n_jobs=4)\n",
    "results.append(train_predict2(clf, X_train, y_train, X_test, y_test, \"LogisticRegression ovr\"))\n",
    "\n",
    "clf = LogisticRegression(penalty='l2', random_state=0, multi_class='multinomial', solver='newton-cg', n_jobs=1)\n",
    "results.append(train_predict2(clf, X_train, y_train, X_test, y_test, \"LogisticRegression multinomial\"))"
   ]
  },
  {
   "cell_type": "code",
   "execution_count": 18,
   "metadata": {
    "autoscroll": "json-false",
    "collapsed": false,
    "ein.tags": [
     "worksheet-0"
    ]
   },
   "outputs": [
    {
     "name": "stdout",
     "output_type": "stream",
     "text": [
      "   accuracy_test  accuracy_train                     description  \\\n",
      "0       0.803657               1  LogisticRegression multinomial   \n",
      "\n",
      "   time_predict_test  time_predict_train  time_train  \n",
      "0           0.008209            0.010171   10.576213  \n"
     ]
    }
   ],
   "source": [
    "print pd.DataFrame(results)"
   ]
  },
  {
   "cell_type": "raw",
   "metadata": {
    "ein.tags": [
     "worksheet-0"
    ]
   },
   "source": [
    "    accuracy_test  accuracy_train                                description  time_predict_test  time_predict_train  time_train\n",
    "0        0.794995        1.000000              SVC linear kernel, one-vs-one           3.966444            9.055261    6.557868 \n",
    "1        0.271415        0.266557    SVC polynomial deg 2 kernel, one-vs-one           4.838109           11.241315   20.264152 \n",
    "2        0.064485        0.063348    SVC polynomial deg 3 kernel, one-vs-one           4.709020           11.161063   20.114124 \n",
    "3        0.704524        0.763472                 SVC rbf kernel, one-vs-one           4.518843           10.798448   12.761727 \n",
    "4        0.769971        1.000000             SVC linear kernel, one-vs-rest          10.246530           24.071269   14.418401 \n",
    "5        0.721848        0.839572  SVC linear poly deg 2 kernel, one-vs-rest          12.586333           29.298426   16.180739 \n",
    "6        0.726660        0.868367  SVC linear poly deg 3 kernel, one-vs-rest          12.762013           30.456582   17.197990 \n",
    "7        0.730510        0.830111                SVC rbf kernel, one-vs-rest          11.545363           27.218193   15.499681 \n",
    "8        0.619827        0.815714                    KNeighbors, 3 neighbors           6.958227           16.025329    0.264954 \n",
    "9        0.457170        0.996709                RandomForest, 10 estimators           0.140045            0.158466    0.558396 \n",
    "10       0.793070        1.000000                     LogisticRegression ovr           0.005958            0.010534   18.181948\n",
    "11       0.803657        1.000000             LogisticRegression multinomial           0.008209            0.010171   10.576213"
   ]
  },
  {
   "cell_type": "markdown",
   "metadata": {
    "ein.tags": [
     "worksheet-0"
    ]
   },
   "source": [
    "## Fine-tune SVC linear kernel and Logistic Regression ovr and multinomial models using logloss/cross entropy error"
   ]
  },
  {
   "cell_type": "code",
   "execution_count": 61,
   "metadata": {
    "autoscroll": "json-false",
    "collapsed": false,
    "ein.tags": [
     "worksheet-0"
    ]
   },
   "outputs": [
    {
     "name": "stdout",
     "output_type": "stream",
     "text": [
      "Each iteration time(secs): 266.620\n",
      "0.796920115496 {'kernel': 'rbf', 'C': 17.5}\n",
      "Each iteration time(secs): 262.910\n",
      "iteration 2\n",
      "Each iteration time(secs): 257.520\n",
      "iteration 1\n",
      "iteration 0\n"
     ]
    }
   ],
   "source": [
    "import time\n",
    "from sklearn.grid_search import GridSearchCV as GSCV\n",
    "from sklearn.metrics import accuracy_score\n",
    "from sklearn.svm import SVC\n",
    "\n",
    "# SVC linear kernel\n",
    "clf_svc = SVC(gamma='auto', probability=True)\n",
    "\n",
    "best_score = None\n",
    "best_params = None\n",
    "for i in xrange(3):\n",
    "    if i < 3 or i % 10 == 0:\n",
    "\tprint \"iteration {}\".format(i)\n",
    "\tstart = time.time()\n",
    "    gs_clf = GSCV(\n",
    "\tclf_svc,\n",
    "\t{'kernel':['rbf'], 'C':[16, 16.5, 17, 17.5, 18]},\n",
    "\tscoring='log_loss',\n",
    "\tcv=5,\n",
    "\tn_jobs=4)\n",
    "    gs_clf.fit(X_train, y_train)\n",
    "    _score = accuracy_score(y_test, gs_clf.predict(X_test))\n",
    "    if best_score is None or best_score < _score:\n",
    "\tbest_score = _score\n",
    "\tbest_params = {\n",
    "\t    'C': gs_clf.best_estimator_.C,\n",
    "\t    'kernel': gs_clf.best_estimator_.kernel}\n",
    "    if i < 3:\n",
    "\tend = time.time()    \n",
    "\tprint \"Each iteration time(secs): {:.3f}\".format(end - start)\n",
    "\t\n",
    "print best_score, best_params"
   ]
  },
  {
   "cell_type": "raw",
   "metadata": {
    "ein.tags": [
     "worksheet-0"
    ]
   },
   "source": [
    "{'kernel':['linear', 'rbf'], 'C':[10.0, 1.0, .1, .01]},\n",
    "Each iteration time(secs): 524.065\n",
    "Each iteration time(secs): 522.901\n",
    "iteration 2\n",
    "Each iteration time(secs): 525.689\n",
    "iteration 1\n",
    "iteration 0\n",
    "0.789220404235 {'kernel': 'rbf', 'C': 10.0}\n",
    "\n",
    "{'kernel':['rbf'], 'C':[5.0, 10.0, 15.0]},\n",
    "iteration 0\n",
    "Each iteration time(secs): 175.648\n",
    "iteration 1\n",
    "Each iteration time(secs): 176.097\n",
    "iteration 2\n",
    "Each iteration time(secs): 174.976\n",
    "0.793070259865 {'kernel': 'rbf', 'C': 15.0}\n",
    "\n",
    "{'kernel':['rbf'], 'C':[20, 30, 40]},\n",
    "iteration 0\n",
    "Each iteration time(secs): 168.852\n",
    "iteration 1\n",
    "Each iteration time(secs): 168.142\n",
    "iteration 2\n",
    "Each iteration time(secs): 168.903\n",
    "0.799807507218 {'kernel': 'rbf', 'C': 20}\n",
    "\n",
    "{'kernel':['rbf'], 'C':[17, 19, 21, 23]},\n",
    "print best_score, best_params\n",
    "iteration 0\n",
    "Each iteration time(secs): 209.840\n",
    "iteration 1\n",
    "Each iteration time(secs): 204.861\n",
    "iteration 2\n",
    "Each iteration time(secs): 204.436\n",
    "0.795957651588 {'kernel': 'rbf', 'C': 17}\n",
    "\n",
    "{'kernel':['rbf'], 'C':[16, 16.5, 17, 17.5, 18]},\n",
    "iteration 0\n",
    "Each iteration time(secs): 257.520\n",
    "iteration 1\n",
    "Each iteration time(secs): 262.910\n",
    "iteration 2\n",
    "Each iteration time(secs): 266.620\n",
    "0.796920115496 {'kernel': 'rbf', 'C': 17.5}"
   ]
  },
  {
   "cell_type": "code",
   "execution_count": 64,
   "metadata": {
    "autoscroll": "json-false",
    "collapsed": false,
    "ein.tags": [
     "worksheet-0"
    ]
   },
   "outputs": [],
   "source": [
    "# Retrain SVC with all training data, and get accuracy on test data\n",
    "\n",
    "clf_svc = SVC(kernel='rbf', C=17.5, gamma='auto', probability=True)\n",
    "clf_svc.fit(X_train, y_train)\n",
    "y_hat_svc = clf_svc.predict(X_test)\n",
    "clf_svc_accuracy = accuracy_score(y_test.values, y_hat_svc)"
   ]
  },
  {
   "cell_type": "code",
   "execution_count": 77,
   "metadata": {
    "autoscroll": "json-false",
    "collapsed": false,
    "ein.tags": [
     "worksheet-0"
    ]
   },
   "outputs": [],
   "source": [
    "clf_svc_results = pd.DataFrame({'y_hat': pd.Series(y_hat_svc).apply(cat_name).values, 'y_true': y_test.apply(cat_name).values})"
   ]
  },
  {
   "cell_type": "code",
   "execution_count": 78,
   "metadata": {
    "autoscroll": "json-false",
    "collapsed": false,
    "ein.tags": [
     "worksheet-0"
    ]
   },
   "outputs": [
    {
     "data": {
      "text/plain": [
       "         y_hat       y_true\n",
       "0      bulgogi      bulgogi\n",
       "1      japchae      japchae\n",
       "2    ddukbokee    ddukbokee\n",
       "3  sullungtang  sullungtang\n",
       "4    ddukbokee    ddukbokee"
      ]
     },
     "execution_count": 78,
     "metadata": {},
     "output_type": "execute_result"
    }
   ],
   "source": [
    "clf_svc_results.head()"
   ]
  },
  {
   "cell_type": "code",
   "execution_count": 81,
   "metadata": {
    "autoscroll": "json-false",
    "collapsed": false,
    "ein.tags": [
     "worksheet-0"
    ]
   },
   "outputs": [
    {
     "data": {
      "text/plain": [
       "0.79692011549566888"
      ]
     },
     "execution_count": 81,
     "metadata": {},
     "output_type": "execute_result"
    }
   ],
   "source": [
    "clf_svc_results.apply(lambda row: row.y_hat == row.y_true, axis=1).sum() / float(clf_svc_results.shape[0])"
   ]
  },
  {
   "cell_type": "code",
   "execution_count": 65,
   "metadata": {
    "autoscroll": "json-false",
    "collapsed": false,
    "ein.tags": [
     "worksheet-0"
    ]
   },
   "outputs": [
    {
     "data": {
      "text/plain": [
       "0.79692011549566888"
      ]
     },
     "execution_count": 65,
     "metadata": {},
     "output_type": "execute_result"
    }
   ],
   "source": [
    "clf_svc_accuracy"
   ]
  },
  {
   "cell_type": "code",
   "execution_count": 82,
   "metadata": {
    "autoscroll": "json-false",
    "collapsed": false,
    "ein.tags": [
     "worksheet-0"
    ]
   },
   "outputs": [],
   "source": [
    "clf_svc_results.to_csv('data/sklearn_svc_test_results.txt', index=False)"
   ]
  },
  {
   "cell_type": "code",
   "execution_count": 62,
   "metadata": {
    "autoscroll": "json-false",
    "collapsed": false,
    "ein.tags": [
     "worksheet-0"
    ]
   },
   "outputs": [
    {
     "name": "stdout",
     "output_type": "stream",
     "text": [
      "\n",
      "0.797882579403 {'C': 0.27, 'tol': 1e-08}\n",
      "\n",
      "iteration 2\n",
      "Each iteration time(secs): 881.821\n",
      "iteration 1\n",
      "Each iteration time(secs): 883.683iteration 0\n",
      "Each iteration time(secs): 898.157"
     ]
    }
   ],
   "source": [
    "import time\n",
    "from sklearn.grid_search import GridSearchCV as GSCV\n",
    "from sklearn.metrics import accuracy_score\n",
    "from sklearn.linear_model import LogisticRegression\n",
    "\n",
    "# Logistic Regression ovr\n",
    "\n",
    "clf_lr = LogisticRegression(\n",
    "    penalty='l2', random_state=0, multi_class='ovr', n_jobs=4)\n",
    "\n",
    "best_score = None\n",
    "best_params = None\n",
    "for i in xrange(3):\n",
    "    if i < 3 or i % 10 == 0:\n",
    "\tprint \"iteration {}\".format(i)\n",
    "\tstart = time.time()\n",
    "    gs_clf = GSCV(\n",
    "\tclf_lr,\n",
    "\t{'tol': [1e-8, 1e-9, 1e-10], 'C': [.27, .3, .33]},\n",
    "\tscoring='log_loss',\n",
    "\tcv=5,\n",
    "\tn_jobs=1)\n",
    "    gs_clf.fit(X_train, y_train)\n",
    "    _score = accuracy_score(y_test, gs_clf.predict(X_test))\n",
    "    if best_score is None or best_score < _score:\n",
    "\tbest_score = _score\n",
    "\tbest_params = {\n",
    "\t    'C': gs_clf.best_estimator_.C,\n",
    "\t    'tol': gs_clf.best_estimator_.tol}\n",
    "    if i < 3:\n",
    "\tend = time.time()    \n",
    "\tprint \"Each iteration time(secs): {:.3f}\".format(end - start)\n",
    "\t\n",
    "print best_score, best_params"
   ]
  },
  {
   "cell_type": "raw",
   "metadata": {
    "ein.tags": [
     "worksheet-0"
    ]
   },
   "source": [
    "{'tol': [0.0001, 0.001, 0.00001], 'C': [10.0, 1.0, .1, .01]},\n",
    "iteration 0\n",
    "Each iteration time(secs): 693.701\n",
    "iteration 1\n",
    "Each iteration time(secs): 694.704\n",
    "iteration 2\n",
    "Each iteration time(secs): 687.939\n",
    "0.804619826756 {'C': 0.1, 'tol': 1e-05}\n",
    "\n",
    "{'tol': [0.000001, 0.00001, 0.00005], 'C': [.3, .1, .07]},\n",
    "iteration 0\n",
    "Each iteration time(secs): 546.397\n",
    "iteration 1\n",
    "Each iteration time(secs): 548.634\n",
    "iteration 2\n",
    "Each iteration time(secs): 557.571\n",
    "0.796920115496 {'C': 0.3, 'tol': 1e-06}\n",
    "\n",
    "{'tol': [0.000001, 0.0000001, 0.00000001], 'C': [.3, .4, .5]},\n",
    "iteration 0\n",
    "Each iteration time(secs): 840.295\n",
    "iteration 1\n",
    "Each iteration time(secs): 849.685\n",
    "iteration 2\n",
    "Each iteration time(secs): 812.325\n",
    "0.796920115496 {'C': 0.3, 'tol': 1e-08}\n",
    "\n",
    "{'tol': [1e-8, 1e-9, 1e-10], 'C': [.27, .3, .33]},\n",
    "iteration 0\n",
    "Each iteration time(secs): 898.157\n",
    "iteration 1\n",
    "Each iteration time(secs): 883.683\n",
    "iteration 2\n",
    "Each iteration time(secs): 881.821\n",
    "0.797882579403 {'C': 0.27, 'tol': 1e-08}"
   ]
  },
  {
   "cell_type": "code",
   "execution_count": 83,
   "metadata": {
    "autoscroll": "json-false",
    "collapsed": false,
    "ein.tags": [
     "worksheet-0"
    ]
   },
   "outputs": [],
   "source": [
    "# Retrain LogisticRegression ovr with all training data and get accuracy on test data\n",
    "\n",
    "clf_lr = LogisticRegression(C=0.27, tol=1e-08,\n",
    "    penalty='l2', random_state=0, multi_class='ovr', n_jobs=8)\n",
    "clf_lr.fit(X_train, y_train)\n",
    "y_hat_lr = clf_lr.predict(X_test)\n",
    "clf_lr_accuracy = accuracy_score(y_test.values, y_hat_lr)"
   ]
  },
  {
   "cell_type": "code",
   "execution_count": 95,
   "metadata": {
    "autoscroll": "json-false",
    "collapsed": false,
    "ein.tags": [
     "worksheet-0"
    ]
   },
   "outputs": [
    {
     "data": {
      "text/plain": [
       "0.79788257940327234"
      ]
     },
     "execution_count": 95,
     "metadata": {},
     "output_type": "execute_result"
    }
   ],
   "source": [
    "clf_lr_accuracy"
   ]
  },
  {
   "cell_type": "code",
   "execution_count": 85,
   "metadata": {
    "autoscroll": "json-false",
    "collapsed": false,
    "ein.tags": [
     "worksheet-0"
    ]
   },
   "outputs": [],
   "source": [
    "clf_lr_results = pd.DataFrame({'y_hat': pd.Series(y_hat_lr).apply(cat_name).values, 'y_true': y_test.apply(cat_name).values})"
   ]
  },
  {
   "cell_type": "code",
   "execution_count": 89,
   "metadata": {
    "autoscroll": "json-false",
    "collapsed": false,
    "ein.tags": [
     "worksheet-0"
    ]
   },
   "outputs": [],
   "source": [
    "clf_lr_results.to_csv('data/sklearn_lr_test_results.txt', index=False)"
   ]
  },
  {
   "cell_type": "markdown",
   "metadata": {
    "ein.tags": [
     "worksheet-0"
    ]
   },
   "source": [
    "weird bug: \n",
    "running GridCV w LogisticRegression with n_jobs > 1 for LogisticRegression while n_jobs > 1 for GridCV causes cpu hang\n",
    "Not sure if it's only for this version, or only for python 2.7.x\n",
    "https://github.com/scikit-learn/scikit-learn/issues/3605\n",
    "ovr: Keep LogisticRegression n_jobs > 1, but GridCV n_jobs = 1\n",
    "multinomial: both n_jobs=1\n"
   ]
  },
  {
   "cell_type": "code",
   "execution_count": 63,
   "metadata": {
    "autoscroll": "json-false",
    "collapsed": false,
    "ein.tags": [
     "worksheet-0"
    ]
   },
   "outputs": [
    {
     "name": "stdout",
     "output_type": "stream",
     "text": [
      "\n",
      "0.806544754572 {'C': 0.2, 'max_iter': 300, 'tol': 0.0001}\n",
      "\n",
      "iteration 2\n",
      "Each iteration time(secs): 158.727\n",
      "iteration 1\n",
      "Each iteration time(secs): 158.391iteration 0\n",
      "Each iteration time(secs): 158.433"
     ]
    }
   ],
   "source": [
    "import time\n",
    "from sklearn.grid_search import GridSearchCV as GSCV\n",
    "from sklearn.metrics import accuracy_score\n",
    "from sklearn.linear_model import LogisticRegression\n",
    "\n",
    "# Logistic Regression multinomial\n",
    "\n",
    "clf_lr2 = LogisticRegression(\n",
    "    penalty='l2', random_state=0, multi_class='multinomial', solver='lbfgs', n_jobs=1)\n",
    "    \n",
    "best_score = None\n",
    "best_params = None\n",
    "for i in xrange(3):\n",
    "    if i < 3 or i % 10 == 0:\n",
    "\tprint \"iteration {}\".format(i)\n",
    "\tstart = time.time()\n",
    "    gs_clf = GSCV(\n",
    "\tclf_lr2,\n",
    "\t{'tol': [0.0001], 'C': [.17, .2, .23], 'max_iter': [270, 300, 350]},\n",
    "\tscoring='log_loss',\n",
    "\tcv=5,\n",
    "\tn_jobs=1)\n",
    "    gs_clf.fit(X_train, y_train)\n",
    "    _score = accuracy_score(y_test, gs_clf.predict(X_test))\n",
    "    if best_score is None or best_score < _score:\n",
    "\tbest_score = _score\n",
    "\tbest_params = {\n",
    "\t    'C': gs_clf.best_estimator_.C,\n",
    "\t    'max_iter': gs_clf.best_estimator_.max_iter,\n",
    "\t    'tol': gs_clf.best_estimator_.tol}\n",
    "    if i < 3:\n",
    "\tend = time.time()    \n",
    "\tprint \"Each iteration time(secs): {:.3f}\".format(end - start)\n",
    "\t\n",
    "print best_score, best_params"
   ]
  },
  {
   "cell_type": "raw",
   "metadata": {
    "ein.tags": [
     "worksheet-0"
    ]
   },
   "source": [
    "{'tol': [0.0001, 0.001, 0.00001], 'C': [10.0, 1.0, .1, .01], 'max_iter': [100, 50, 150]}\n",
    "iteration 0\n",
    "Each iteration time(secs): 253.191\n",
    "iteration 1\n",
    "Each iteration time(secs): 249.160\n",
    "iteration 2\n",
    "Each iteration time(secs): 248.184\n",
    "0.799807507218 {'C': 0.1, 'max_iter': 150, 'tol': 0.0001}\n",
    "\n",
    "{'tol': [0.0001, 0.0003, 0.00008], 'C': [.07, .1, .2], 'max_iter': [125, 150, 200]},\n",
    "iteration 0\n",
    "Each iteration time(secs): 252.166\n",
    "iteration 1\n",
    "Each iteration time(secs): 250.710\n",
    "iteration 2\n",
    "Each iteration time(secs): 250.147\n",
    "0.809432146295 {'C': 0.2, 'max_iter': 200, 'tol': 0.0001}\n",
    "\n",
    "{'tol': [0.0001, 0.00015, 0.00009], 'C': [.15, .2, .3], 'max_iter': [250, 300, 400]},\n",
    "iteration 0\n",
    "Each iteration time(secs): 487.091\n",
    "iteration 1\n",
    "Each iteration time(secs): 488.607\n",
    "iteration 2\n",
    "Each iteration time(secs): 486.965\n",
    "0.806544754572 {'C': 0.2, 'max_iter': 300, 'tol': 0.0001}\n",
    "\n",
    "{'tol': [0.0001], 'C': [.17, .2, .23], 'max_iter': [270, 300, 350]},\n",
    "iteration 0\n",
    "Each iteration time(secs): 158.433\n",
    "iteration 1\n",
    "Each iteration time(secs): 158.391\n",
    "iteration 2\n",
    "Each iteration time(secs): 158.727\n",
    "0.806544754572 {'C': 0.2, 'max_iter': 300, 'tol': 0.0001}"
   ]
  },
  {
   "cell_type": "code",
   "execution_count": 90,
   "metadata": {
    "autoscroll": "json-false",
    "collapsed": false,
    "ein.tags": [
     "worksheet-0"
    ]
   },
   "outputs": [],
   "source": [
    "# Retrain LogisticRegression multinomial with all training data and get accuracy on test\n",
    "\n",
    "clf_lr2 = LogisticRegression(C=0.2, max_iter=300, tol=0.0001,\n",
    "    penalty='l2', random_state=0, multi_class='multinomial', solver='lbfgs', n_jobs=1)\n",
    "clf_lr2.fit(X_train, y_train)\n",
    "y_hat_lr2 = clf_lr2.predict(X_test)\n",
    "clf_lr2_accuracy = accuracy_score(y_test.values, y_hat_lr2)"
   ]
  },
  {
   "cell_type": "code",
   "execution_count": 91,
   "metadata": {
    "autoscroll": "json-false",
    "collapsed": false,
    "ein.tags": [
     "worksheet-0"
    ]
   },
   "outputs": [
    {
     "data": {
      "text/plain": [
       "0.8065447545717036"
      ]
     },
     "execution_count": 91,
     "metadata": {},
     "output_type": "execute_result"
    }
   ],
   "source": [
    "clf_lr2_accuracy"
   ]
  },
  {
   "cell_type": "code",
   "execution_count": 92,
   "metadata": {
    "autoscroll": "json-false",
    "collapsed": false,
    "ein.tags": [
     "worksheet-0"
    ]
   },
   "outputs": [],
   "source": [
    "clf_lr2_results = pd.DataFrame({'y_hat': pd.Series(y_hat_lr2).apply(cat_name).values, 'y_true': y_test.apply(cat_name).values})"
   ]
  },
  {
   "cell_type": "code",
   "execution_count": 93,
   "metadata": {
    "autoscroll": "json-false",
    "collapsed": false,
    "ein.tags": [
     "worksheet-0"
    ]
   },
   "outputs": [
    {
     "data": {
      "text/plain": [
       "0.8065447545717036"
      ]
     },
     "execution_count": 93,
     "metadata": {},
     "output_type": "execute_result"
    }
   ],
   "source": [
    "clf_lr2_results.apply(lambda row: row.y_hat == row.y_true, axis=1).sum() / float(clf_lr2_results.shape[0])"
   ]
  },
  {
   "cell_type": "code",
   "execution_count": 94,
   "metadata": {
    "autoscroll": "json-false",
    "collapsed": false,
    "ein.tags": [
     "worksheet-0"
    ]
   },
   "outputs": [],
   "source": [
    "clf_lr2_results.to_csv('data/sklearn_lr2_test_results.txt', index=False)"
   ]
  },
  {
   "cell_type": "markdown",
   "metadata": {
    "ein.tags": [
     "worksheet-0"
    ]
   },
   "source": [
    "Run with tensorflow retrain final layer from within `tensorflow/examples/image_retraining` -> `tensorflow_retrain`\n",
    "\n",
    "```\n",
    "time python retrain.py --image_dir kfood --output_graph ./kfood_graph.pb --output_labels ./kfood_output_labels.txt --how_many_training_steps 5000 --learning_rate 0.01 --testing_percentage 25 --validation_percentage 5 --train_batch_size 200 --noflip_left_right --random_crop 0 --random_scale 0 --random_brightness 0\n",
    "```"
   ]
  },
  {
   "cell_type": "raw",
   "metadata": {
    "ein.tags": [
     "worksheet-0"
    ]
   },
   "source": [
    "Summary of results for tensorflow retraining last layer\n",
    "train_accuracy and valid_accuracy correspond only to the batch in the last training step\n",
    "I tried running random_crop random_scale and random_brightness != 0, but had to cancel those jobs because they were about to fry my laptop\n",
    "* Running on gpu install of tensorflow - doesn't make much difference\n",
    "\n",
    "\n",
    "training_steps learning_rate train_batch_size flip_left_right random_crop random_scale random_brightness valid_perc test_perc train_accuracy valid_accuracy test_accuracy runtime\n",
    "4000           0.01          100              no              0           0            0                 20         20         92.0           73.0           76.8          NA\n",
    "8000           0.01          100              no              0           0            0                 20         20         98.0           81.0           79.2          NA\n",
    "12000          0.01          100              no              0           0            0                 20         20         100.0          74.0           81.8          NA\n",
    "16000          0.01          100              no              0           0            0                 20         20         99.0           77.0           74.8          18m10.696s\n",
    "4000           0.1           100              no              0           0            0                 20         20         100.0          75.0           78.4          4m59.003s *\n",
    "8000           0.1           100              no              0           0            0                 20         20         100.0          80.0           78.4          9m34.358s *\n",
    "8000           0.05          100              no              0           0            0                 20         20         100.0          82.0           79.8          9m48.046s *\n",
    "12000          0.05          100              no              0           0            0                 20         20         100.0          80.0           75.6          14m56.545s *\n",
    "4000           0.01          200              no              0           0            0                 20         20         95.0           80.0           81.0          8m18.477s\n",
    "4500           0.01          200              no              0           0            0                 20         20         91.5           79.0           81.6          9m24.027s\n",
    "4750           0.01          200              no              0           0            0                 20         20         95.5           83.0           80.8          10m49.686s\n",
    "4775           0.01          200              no              0           0            0                 20         20         94.0           84.0           80.4          9m37.835s\n",
    "4780           0.01          200              no              0           0            0                 20         20         88.5           79.0           80.4          10m4.653s\n",
    "4790           0.01          200              no              0           0            0                 20         20         96.0           67.0           80.8          10m2.089s\n",
    "4800           0.01          200              no              0           0            0                 20         20         93.0           70.0           80.0          10m5.406s\n",
    "4810           0.01          200              no              0           0            0                 20         20         97.0           67.0           81.2          9m59.352s\n",
    "4850           0.01          200              no              0           0            0                 20         20         91.5           70.0           76.0          10m48.614s\n",
    "4900           0.01          200              no              0           0            0                 20         20         93.0           77.0           81.2          10m46.906s\n",
    "5000           0.01          200              no              0           0            0                 20         20         95.0           79.0           82.4          10m20.320s\n",
    "5500           0.01          200              no              0           0            0                 20         20         96.5           80.0           80.6          11m19.920s\n",
    "6000           0.01          200              no              0           0            0                 20         20         95.5           76.0           80.2          11m59.707s\n",
    "8000           0.01          200              no              0           0            0                 20         20         95.0           85.0           79.4          16m23.208s\n",
    "12000          0.01          200              no              0           0            0                 20         20         99.0           75.0           77.8          208m48.420s\n",
    "4000           0.01          300              no              0           0            0                 20         20         94.3           77.0           81.2          12m21.572s\n",
    "8000           0.01          300              no              0           0            0                 20         20         98.0           86.0           78.2          31m41.840s\n",
    "5000           0.02          200              no              0           0            0                 20         20         98.5           77.0           81.0          10m35.363s\n",
    "5000           0.008         200              no              0           0            0                 20         20         94.0           79.0           79.2          10m26.045s\n",
    "5000           0.01          225              no              0           0            0                 20         20         94.7           81.0           78.8          11m19.542s\n",
    "5000           0.01          180              no              0           0            0                 20         20         95.0           73.0           82.4          9m14.935s\n",
    "5000           0.01          190              no              0           0            0                 20         20         96.3           81.0           80.8          9m56.740s\n",
    "4800           0.01          225              no              0           0            0                 5          25         91.1           82.0           78.4          10m45.684s\n",
    "5000           0.01          225              no              0           0            0                 5          25         93.3           68.0           75.4          11m9.589s\n",
    "\n",
    "\n",
    "\n",
    "5000           0.01          200              no              0           0            0                 5          25         92.5           74.0           77.4          10m26.148s\n",
    "5000           0.01          175              no              0           0            0                 5          25         92.6           74.0           80.2          8m51.950s\n",
    "5500           0.01          175              no              0           0            0                 5          25         95.4           74.0           76.0          10m28.258s\n",
    "5800           0.01          175              no              0           0            0                 5          25         \n",
    "6000           0.01          175              no              0           0            0                 5          25         94.3           69.0           81.4          11m11.572sp\n",
    "6500           0.01          175              no              0           0            0                 5          25         95.4           75.0           75.6          12m32.043s\n",
    "7000           0.01          175              no              0           0            0                 5          25         96.6           76.0           79.2          13m23.146s\n",
    "5000           0.01          150              no              0           0            0                 5          25         95.3           80.0           77.8          7m46.747s\n",
    "5000           0.01          125              no              0           0            0                 5          25         98.4           77.0           78.2          6m35.836s\n",
    "5000           0.01          100              no              0           0            0                 5          25         96.0           67.0           81.2          5m25.950s\n",
    "6000           0.01          100              no              0           0            0                 5          25         96.0           78.0           78.8          6m33.281s\n",
    "7000           0.01          100              no              0           0            0                 5          25         96.0           72.0           79.6          7m39.502s\n",
    "8000           0.01          100              no              0           0            0                 5          25         97.0           78.0           79.8          8m39.124s\n",
    "10000          0.01          100              no              0           0            0                 5          25         97.0           71.0           78.6          10m49.417s\n",
    "\n",
    "\n",
    "\n",
    "5500           0.01          200              no              0           0            0                 5          25         96.5           73.0           76.8          11m38.637s\n",
    "6000           0.01          200              no              0           0            0                 5          25         96.0           66.0           79.6          13m32.454s\n",
    "7000           0.01          200              no              0           0            0                 5          25         94.5           67.0           78.6          15m12.233s\n",
    "8000           0.01          200              no              0           0            0                 5          25         96.5           75.0           78.4          17m3.484s\n",
    "10000          0.01          200              no              0           0            0                 5          25         97.5           73.0           78.0          22m6.034s\n",
    "5000           0.1           200              no              0           0            0                 5          25         100.0          65.0           76.8          11m4.966s\n",
    "4000           0.1           200              no              0           0            0                 5          25         100.0          81.0           80.4          8m47.910s\n",
    "3700           0.1           200              no              0           0            0                 5          25         100.0          74.0           76.8          9m42.065s\n",
    "3600           0.1           200              no              0           0            0                 5          25         100.0          77.0           78.8          7m37.593s\n",
    "3500           0.11          200              no              0           0            0                 5          25         100.0          83.0           78.2          7m35.430s\n",
    "3500           0.1           200              no              0           0            0                 5          25         100.0          78.0           81.6          7m19.125s\n",
    "3500           0.09          200              no              0           0            0                 5          25         100.0          74.0           78.8          7m48.905s\n",
    "3450           0.1           200              no              0           0            0                 5          25         100.0          80.0           79.2          7m58.816s\n",
    "3400           0.1           200              no              0           0            0                 5          25         100.0          76.0           82.0          9m5.169sp\n",
    "3300           0.1           200              no              0           0            0                 5          25         100.0          71.0           77.4          7m1.023s\n",
    "3000           0.1           200              no              0           0            0                 5          25         100.0          73.0           77.2          6m44.807s\n",
    "3500           0.1           225              no              0           0            0                 5          25         100.0          74.0           79.8          8m25.868s\n",
    "3500           0.1           235              no              0           0            0                 5          25         100.0          82.0           80.6          8m42.936s\n",
    "3500           0.1           245              no              0           0            0                 5          25         100.0          74.0           76.6          9m6.938s\n",
    "3500           0.1           250              no              0           0            0                 5          25         100.0          75.0           81.8          9m19.626s\n",
    "3500           0.1           255              no              0           0            0                 5          25         100.0          70.0           80.8          8m57.075s\n",
    "3500           0.1           265              no              0           0            0                 5          25         100.0          79.0           77.4          NA\n",
    "3500           0.1           275              no              0           0            0                 5          25         99.6           73.0           76.4          10m9.105s\n"
   ]
  },
  {
   "cell_type": "code",
   "execution_count": null,
   "metadata": {
    "autoscroll": "json-false",
    "collapsed": false,
    "ein.tags": [
     "worksheet-0"
    ]
   },
   "outputs": [],
   "source": [
    "# Run again using final settings, and store log, to create plot of decreasing cross entropy and increasing accuracy values"
   ]
  },
  {
   "cell_type": "code",
   "execution_count": null,
   "metadata": {
    "autoscroll": "json-false",
    "collapsed": false,
    "ein.tags": [
     "worksheet-0"
    ]
   },
   "outputs": [],
   "source": []
  },
  {
   "cell_type": "code",
   "execution_count": null,
   "metadata": {
    "autoscroll": "json-false",
    "collapsed": false,
    "ein.tags": [
     "worksheet-0"
    ]
   },
   "outputs": [],
   "source": []
  }
 ],
 "metadata": {
  "kernelspec": {
   "display_name": "Python 2",
   "language": "python",
   "name": "python2"
  },
  "language_info": {
   "codemirror_mode": {
    "name": "ipython",
    "version": 2
   },
   "file_extension": ".py",
   "mimetype": "text/x-python",
   "name": "python",
   "nbconvert_exporter": "python",
   "pygments_lexer": "ipython2",
   "version": "2.7.11"
  },
  "name": "kfood.ipynb"
 },
 "nbformat": 4,
 "nbformat_minor": 0
}
