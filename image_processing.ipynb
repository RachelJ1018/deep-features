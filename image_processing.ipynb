{
 "cells": [
  {
   "cell_type": "code",
   "execution_count": 17,
   "metadata": {
    "autoscroll": "json-false",
    "collapsed": false,
    "ein.tags": [
     "worksheet-0"
    ]
   },
   "outputs": [
    {
     "name": "stdout",
     "output_type": "stream",
     "text": [
      "The autoreload extension is already loaded. To reload it, use:\n",
      "  %reload_ext autoreload\n"
     ]
    }
   ],
   "source": [
    "%matplotlib inline\n",
    "%load_ext autoreload\n",
    "%autoreload 2\n",
    "import os\n",
    "import sys\n",
    "\n",
    "import csv\n",
    "import datetime\n",
    "import itertools\n",
    "import numpy as np\n",
    "import pandas as pd\n",
    "import random\n",
    "import re\n",
    "from collections import defaultdict\n",
    "\n",
    "import matplotlib as mpl\n",
    "import matplotlib.pyplot as plt\n",
    "import seaborn as sns\n",
    "sns.set_style(\"whitegrid\")\n",
    "sns.set_context(rc={\n",
    "       \"figure.figsize\": (16, 10),\n",
    "       \"axes.titlesize\": 14})\n",
    "\n",
    "import sklearn\n",
    "\n",
    "from IPython.display import Image, display\n",
    "from IPython.core.display import HTML\n",
    "HTML(\"<style>.container { width:100% !important; }</style>\")\n",
    "\n",
    "from os.path import expanduser\n",
    "sys.path.insert(1, '{}/datsci'.format(expanduser('~')))\n",
    "from datsci import eda\n",
    "from datsci import kaggle as kg"
   ]
  },
  {
   "cell_type": "code",
   "execution_count": 2,
   "metadata": {
    "autoscroll": "json-false",
    "collapsed": false,
    "ein.tags": [
     "worksheet-0"
    ]
   },
   "outputs": [],
   "source": [
    "from PIL import Image as PImage"
   ]
  },
  {
   "cell_type": "markdown",
   "metadata": {
    "ein.tags": [
     "worksheet-0"
    ]
   },
   "source": [
    "# Create images of various colors"
   ]
  },
  {
   "cell_type": "code",
   "execution_count": 3,
   "metadata": {
    "autoscroll": "json-false",
    "collapsed": false,
    "ein.tags": [
     "worksheet-0"
    ]
   },
   "outputs": [
    {
     "data": {
      "text/plain": [
       "<PIL.Image.Image image mode=RGB size=10x10 at 0x107880150>"
      ]
     },
     "execution_count": 3,
     "metadata": {},
     "output_type": "execute_result",
     "png": "[encoded data removed]"
    }
   ],
   "source": [
    "H, W = 10, 10\n",
    "PImage.new(\"RGB\", (H, W), \"#FF0000\")"
   ]
  },
  {
   "cell_type": "code",
   "execution_count": 11,
   "metadata": {
    "autoscroll": "json-false",
    "collapsed": false,
    "ein.tags": [
     "worksheet-0"
    ]
   },
   "outputs": [],
   "source": [
    "def create_image_dir(dirname):\n",
    "    '''Create image directories'''\n",
    "    fullpath = os.path.join(\"Images\", dirname)\n",
    "    if not os.path.exists(fullpath):\n",
    "\tos.makedirs(fullpath)\n",
    "\n",
    "def get_hex_generator():\n",
    "    '''Generate a-f'''\n",
    "    return itertools.chain(map(str, xrange(10)),\n",
    "\t\t\t   (chr(x) for x in xrange(ord('a'), ord('f') + 1)))\n",
    "\n",
    "def generate_hex_colors(skip=0):\n",
    "    '''Generate from #000000 to #ffffff, if `skip` is defined, sample every `skip` colors'''\n",
    "    all_colors = itertools.product(*[get_hex_generator() for x in xrange(6)])\n",
    "    for i, x in enumerate(all_colors):\n",
    "\tif skip and i % skip:\n",
    "\t    continue\n",
    "\tyield '#{}'.format(''.join(x))\n",
    "\n",
    "def create_solid_image(height, width, color, outfile=None):\n",
    "    '''Create solid image of given shape and color to given outfile handler'''\n",
    "    im = PImage.new(\"RGB\", (height, width), color)\n",
    "    if outfile is not None:\n",
    "\tim.save(outfile, quality=\"web_high\")\n",
    "    return im"
   ]
  },
  {
   "cell_type": "code",
   "execution_count": 5,
   "metadata": {
    "autoscroll": "json-false",
    "collapsed": false,
    "ein.tags": [
     "worksheet-0"
    ]
   },
   "outputs": [],
   "source": [
    "# Create a lot of images of different color\n",
    "\n",
    "dirname = 'solid-colors'\n",
    "create_image_dir(dirname)\n",
    "filenames = []\n",
    "\n",
    "h, w = 100, 100\n",
    "for i, c in enumerate(generate_hex_colors(skip=3000)):\n",
    "    fname = \"Images/{}/h{}w{}_{}.jpg\".format(dirname, h, w, c.replace('#', ''))\n",
    "    create_solid_image(h, w, c, outfile=fname)\n",
    "    filenames.append(fname)\n",
    "\n",
    "# Write out the filenames\n",
    "with open('Images_filenames/{}.txt'.format(dirname), 'wb') as f:\n",
    "    f.writelines(map(lambda x: x + '\\n', filenames))"
   ]
  },
  {
   "cell_type": "code",
   "execution_count": 6,
   "metadata": {
    "autoscroll": "json-false",
    "collapsed": false,
    "ein.tags": [
     "worksheet-0"
    ]
   },
   "outputs": [],
   "source": [
    "# Create a lot of square images of different size for white color\n",
    "\n",
    "dirname = 'solid-whites'\n",
    "create_image_dir(dirname)\n",
    "filenames = []\n",
    "\n",
    "c = \"#ffffff\"\n",
    "for s in xrange(101, 2500):\n",
    "    fname = \"Images/{}/h{}w{}_{}.jpg\".format(dirname, s, s, c.replace('#', ''))\n",
    "    create_solid_image(s, s, c, outfile=fname)\n",
    "    filenames.append(fname)\n",
    "\n",
    "# Write out the filenames\n",
    "with open('Images_filenames/{}.txt'.format(dirname), 'wb') as f:\n",
    "    f.writelines(map(lambda x: x + '\\n', filenames))"
   ]
  },
  {
   "cell_type": "code",
   "execution_count": 7,
   "metadata": {
    "autoscroll": "json-false",
    "collapsed": false,
    "ein.tags": [
     "worksheet-0"
    ]
   },
   "outputs": [],
   "source": [
    "# Black square images of various sizes\n",
    "\n",
    "dirname = 'solid-blacks'\n",
    "create_image_dir(dirname)\n",
    "filenames = []\n",
    "\n",
    "c = \"#000000\"\n",
    "for s in xrange(101, 2500):\n",
    "    fname = \"Images/{}/h{}w{}_{}.jpg\".format(dirname, s, s, c.replace('#', ''))\n",
    "    create_solid_image(s, s, c, outfile=fname)\n",
    "    filenames.append(fname)\n",
    "\n",
    "# Write out the filenames\n",
    "with open('Images_filenames/{}.txt'.format(dirname), 'wb') as f:\n",
    "    f.writelines(map(lambda x: x + '\\n', filenames))"
   ]
  },
  {
   "cell_type": "code",
   "execution_count": 8,
   "metadata": {
    "autoscroll": "json-false",
    "collapsed": false,
    "ein.tags": [
     "worksheet-0"
    ]
   },
   "outputs": [],
   "source": [
    "# Green square images of various sizes\n",
    "\n",
    "dirname = 'solid-greens'\n",
    "create_image_dir(dirname)\n",
    "filenames = []\n",
    "\n",
    "c = \"#00ff00\"\n",
    "for s in xrange(101, 2500):\n",
    "    fname = \"Images/{}/h{}w{}_{}.jpg\".format(dirname, s, s, c.replace('#', ''))\n",
    "    create_solid_image(s, s, c, outfile=fname)\n",
    "    filenames.append(fname)\n",
    "\n",
    "# Write out the filenames\n",
    "with open('Images_filenames/{}.txt'.format(dirname), 'wb') as f:\n",
    "    f.writelines(map(lambda x: x + '\\n', filenames))"
   ]
  },
  {
   "cell_type": "code",
   "execution_count": null,
   "metadata": {
    "autoscroll": "json-false",
    "collapsed": false,
    "ein.tags": [
     "worksheet-0"
    ]
   },
   "outputs": [],
   "source": [
    "# Different shapes, not square\n",
    "\n",
    "dirname = 'solidshapes-green'\n",
    "create_image_dir(dirname)\n",
    "filenames = []\n",
    "\n",
    "c = '#00ff00'\n",
    "\n",
    "# Varying width\n",
    "h = 100\n",
    "for w in xrange(101, 2300):\n",
    "    fname = \"Images/{}/h{}w{}_{}.jpg\".format(dirname, h, w, c.replace('#', ''))\n",
    "    create_solid_image(h, w, c, outfile=fname)\n",
    "    filenames.append(fname)\n",
    "\n",
    "# Varying height\n",
    "w = 100\n",
    "for h in xrange(101, 2300):\n",
    "    fname = \"Images/{}/h{}w{}_{}.jpg\".format(dirname, h, w, c.replace('#', ''))\n",
    "    create_solid_image(h, w, c, outfile=fname)\n",
    "    filenames.append(fname)\n",
    "\n",
    "# Write out the filenames\n",
    "with open('Images_filenames/{}.txt'.format(dirname), 'wb') as f:\n",
    "    f.writelines(map(lambda x: x + '\\n', filenames))    "
   ]
  },
  {
   "cell_type": "markdown",
   "metadata": {
    "ein.tags": [
     "worksheet-0"
    ]
   },
   "source": [
    "## Generate features for all dirname groups\n",
    "\n",
    "```bash\n",
    "dirname=solid-blacks\n",
    "python image_deep_features.py --image_files_listfile Images_filenames/$dirname.txt --output_deep_features Images_features/$dirname.df.txt\n",
    "```"
   ]
  },
  {
   "cell_type": "code",
   "execution_count": 52,
   "metadata": {
    "autoscroll": "json-false",
    "collapsed": false,
    "ein.tags": [
     "worksheet-0"
    ]
   },
   "outputs": [],
   "source": [
    "# PCA on marginal data\n",
    "\n",
    "## Format data\n",
    "hpat = re.compile(r'.*h(\\d+)w\\d+.*')\n",
    "wpat  =re.compile(r'.*h\\d+w(\\d+).*')\n",
    "cpat = re.compile(r'.*h\\d+w\\d+_([0-9a-f]{6})\\.jpg')\n",
    "\n",
    "def load_data(dirname):\n",
    "    with open('Images_filenames/{}.txt'.format(dirname), 'rU') as f:\n",
    "\tfilenames = [line.strip() for line in f]\n",
    "    df = pd.read_csv('Images_features/{}.df.txt'.format(dirname), header=None)\n",
    "    feature_cols = list(df.columns[:])\n",
    "    for i in xrange(len(feature_cols)):\n",
    "\tfeature_cols[i] = \"feature{}\".format(i)\n",
    "    df.columns = feature_cols\n",
    "    df['filepath'] = filenames\n",
    "    df['h'] = df.filepath.apply(lambda _fp: int(hpat.match(_fp).group(1)))\n",
    "    df['w'] = df.filepath.apply(lambda _fp: int(wpat.match(_fp).group(1)))\n",
    "    df['c'] = df.filepath.apply(lambda _fp: cpat.match(_fp).group(1))\n",
    "    return df, feature_cols"
   ]
  },
  {
   "cell_type": "markdown",
   "metadata": {
    "ein.tags": [
     "worksheet-0"
    ]
   },
   "source": [
    "# Colors"
   ]
  },
  {
   "cell_type": "code",
   "execution_count": 62,
   "metadata": {
    "autoscroll": "json-false",
    "collapsed": false,
    "ein.tags": [
     "worksheet-0"
    ]
   },
   "outputs": [],
   "source": [
    "df, feature_cols = load_data('solid-colors')"
   ]
  },
  {
   "cell_type": "code",
   "execution_count": 63,
   "metadata": {
    "autoscroll": "json-false",
    "collapsed": false,
    "ein.tags": [
     "worksheet-0"
    ]
   },
   "outputs": [
    {
     "data": {
      "text/plain": [
       "(5593, 2052)"
      ]
     },
     "execution_count": 63,
     "metadata": {},
     "output_type": "execute_result"
    }
   ],
   "source": [
    "df.shape"
   ]
  },
  {
   "cell_type": "code",
   "execution_count": 64,
   "metadata": {
    "autoscroll": "json-false",
    "collapsed": false,
    "ein.tags": [
     "worksheet-0"
    ]
   },
   "outputs": [
    {
     "data": {
      "text/plain": [
       "   feature2047                                 filepath    h    w       c\n0     0.144750  Images/solid-colors/h100w100_000000.jpg  100  100  000000\n1     0.176099  Images/solid-colors/h100w100_000bb8.jpg  100  100  000bb8\n2     0.225654  Images/solid-colors/h100w100_001770.jpg  100  100  001770\n3     0.255043  Images/solid-colors/h100w100_002328.jpg  100  100  002328\n4     0.213345  Images/solid-colors/h100w100_002ee0.jpg  100  100  002ee0"
      ]
     },
     "execution_count": 64,
     "metadata": {},
     "output_type": "execute_result"
    }
   ],
   "source": [
    "df[df.columns[-5:]].head()"
   ]
  },
  {
   "cell_type": "code",
   "execution_count": 68,
   "metadata": {
    "autoscroll": "json-false",
    "collapsed": false,
    "ein.tags": [
     "worksheet-0"
    ]
   },
   "outputs": [],
   "source": [
    "from sklearn.decomposition import PCA\n",
    "pca = PCA(n_components=5, whiten=True).fit(df[feature_cols])"
   ]
  },
  {
   "cell_type": "code",
   "execution_count": 66,
   "metadata": {
    "autoscroll": "json-false",
    "collapsed": false,
    "ein.tags": [
     "worksheet-0"
    ]
   },
   "outputs": [
    {
     "data": {
      "text/plain": [
       "array([[-0.01183274,  0.00106169, -0.00209195, ...,  0.01517026,\n        -0.0174829 ,  0.01523232],\n       [-0.0508863 ,  0.0004355 ,  0.01992389, ...,  0.00245636,\n         0.00311535,  0.01819104],\n       [-0.05274458,  0.00253087, -0.00456185, ..., -0.00859057,\n         0.03545388, -0.00853666],\n       [ 0.01944707,  0.00322937, -0.01220475, ..., -0.00927544,\n         0.01323637, -0.00601408],\n       [-0.0127572 ,  0.00628936,  0.00650778, ..., -0.03395036,\n         0.00917629, -0.04412621]])"
      ]
     },
     "execution_count": 66,
     "metadata": {},
     "output_type": "execute_result"
    }
   ],
   "source": [
    "pca.components_"
   ]
  },
  {
   "cell_type": "code",
   "execution_count": 67,
   "metadata": {
    "autoscroll": "json-false",
    "collapsed": false,
    "ein.tags": [
     "worksheet-0"
    ]
   },
   "outputs": [
    {
     "data": {
      "text/plain": [
       "array([ 0.27514579,  0.18777733,  0.11312552,  0.08802827,  0.07529514])"
      ]
     },
     "execution_count": 67,
     "metadata": {},
     "output_type": "execute_result"
    }
   ],
   "source": [
    "pca.explained_variance_ratio_"
   ]
  },
  {
   "cell_type": "code",
   "execution_count": 70,
   "metadata": {
    "autoscroll": "json-false",
    "collapsed": false,
    "ein.tags": [
     "worksheet-0"
    ]
   },
   "outputs": [],
   "source": [
    "df_feature_cols_scaled = sklearn.preprocessing.scale(df[feature_cols])"
   ]
  },
  {
   "cell_type": "code",
   "execution_count": 74,
   "metadata": {
    "autoscroll": "json-false",
    "collapsed": false,
    "ein.tags": [
     "worksheet-0"
    ]
   },
   "outputs": [],
   "source": [
    "pca_scaled = PCA(n_components=10, whiten=True).fit(df_feature_cols_scaled)"
   ]
  },
  {
   "cell_type": "code",
   "execution_count": 72,
   "metadata": {
    "autoscroll": "json-false",
    "collapsed": false,
    "ein.tags": [
     "worksheet-0"
    ]
   },
   "outputs": [
    {
     "data": {
      "text/plain": [
       "array([[ 0.03168516, -0.00685311, -0.03700053, ..., -0.01432242,\n         0.01055312, -0.02365171],\n       [-0.00579936, -0.00599648,  0.02101187, ..., -0.02726263,\n         0.02241021, -0.01256568],\n       [ 0.04800691, -0.02257235, -0.00638297, ...,  0.02289722,\n        -0.02459563,  0.01583467],\n       [-0.01605782, -0.03980402,  0.01413739, ...,  0.04008179,\n         0.00020987,  0.03256104],\n       [ 0.01000163,  0.0135203 , -0.02931602, ...,  0.0044705 ,\n         0.03863625,  0.00511308]])"
      ]
     },
     "execution_count": 72,
     "metadata": {},
     "output_type": "execute_result"
    }
   ],
   "source": [
    "pca_scaled.components_"
   ]
  },
  {
   "cell_type": "code",
   "execution_count": 73,
   "metadata": {
    "autoscroll": "json-false",
    "collapsed": false,
    "ein.tags": [
     "worksheet-0"
    ]
   },
   "outputs": [
    {
     "data": {
      "text/plain": [
       "array([ 0.12286456,  0.12113521,  0.09209193,  0.05913861,  0.04981343])"
      ]
     },
     "execution_count": 73,
     "metadata": {},
     "output_type": "execute_result"
    }
   ],
   "source": [
    "pca_scaled.explained_variance_ratio_"
   ]
  },
  {
   "cell_type": "code",
   "execution_count": 75,
   "metadata": {
    "autoscroll": "json-false",
    "collapsed": false,
    "ein.tags": [
     "worksheet-0"
    ]
   },
   "outputs": [
    {
     "data": {
      "text/plain": [
       "array([ 0.12286456,  0.12113521,  0.09209193,  0.05913861,  0.04981343,\n        0.04216726,  0.03588744,  0.02759877,  0.02299013,  0.02116537])"
      ]
     },
     "execution_count": 75,
     "metadata": {},
     "output_type": "execute_result"
    }
   ],
   "source": [
    "pca_scaled.explained_variance_ratio_"
   ]
  },
  {
   "cell_type": "code",
   "execution_count": null,
   "metadata": {
    "autoscroll": "json-false",
    "collapsed": false,
    "ein.tags": [
     "worksheet-0"
    ]
   },
   "outputs": [],
   "source": [
    "foo =  pd.DataFrame( pca_scaled.components_)"
   ]
  },
  {
   "cell_type": "code",
   "execution_count": 81,
   "metadata": {
    "autoscroll": "json-false",
    "collapsed": false,
    "ein.tags": [
     "worksheet-0"
    ]
   },
   "outputs": [
    {
     "data": {
      "text/plain": [
       "          0         1         2         3         4         5         6  \\\n0  0.031685 -0.006853 -0.037001  0.006251 -0.008930  0.045349  0.013358   \n1 -0.005799 -0.005996  0.021012 -0.041690 -0.027340  0.024839  0.026681   \n2  0.048007 -0.022572 -0.006383 -0.012504 -0.003535  0.032305  0.046001   \n3 -0.016058 -0.039804  0.014137 -0.020117 -0.036291  0.008196  0.004093   \n4  0.010002  0.013520 -0.029316  0.001803 -0.006594 -0.015116  0.005406   \n5 -0.007558 -0.022196  0.025172 -0.025810 -0.023321  0.004696  0.008362   \n6  0.022458  0.027974  0.029940  0.028660  0.032905 -0.011844 -0.012510   \n7 -0.014392  0.005965 -0.019621  0.013631  0.023321  0.013258  0.033376   \n8  0.018034  0.005402 -0.010094  0.009525  0.013187 -0.010086 -0.004841   \n9 -0.008522 -0.024218 -0.007096 -0.033878 -0.019306 -0.008426  0.001750   \n\n          7         8         9  \n0  0.012847  0.020677 -0.013548  \n1  0.036480 -0.015606 -0.028998  \n2 -0.032299 -0.041258  0.009015  \n3 -0.030876 -0.002148  0.005867  \n4 -0.006384 -0.001433  0.023901  \n5  0.001383 -0.042748 -0.015922  \n6  0.040727  0.045889 -0.053286  \n7  0.020473 -0.002205 -0.020614  \n8 -0.004792  0.013219  0.015153  \n9  0.005702 -0.022075 -0.007486  "
      ]
     },
     "execution_count": 81,
     "metadata": {},
     "output_type": "execute_result"
    }
   ],
   "source": [
    "foo[foo.columns[:10]]"
   ]
  },
  {
   "cell_type": "code",
   "execution_count": 84,
   "metadata": {
    "autoscroll": "json-false",
    "collapsed": false,
    "ein.tags": [
     "worksheet-0"
    ]
   },
   "outputs": [
    {
     "data": {
      "text/plain": [
       "0.59485269674660457"
      ]
     },
     "execution_count": 84,
     "metadata": {},
     "output_type": "execute_result"
    }
   ],
   "source": [
    "pca_scaled.explained_variance_ratio_.sum()"
   ]
  },
  {
   "cell_type": "code",
   "execution_count": null,
   "metadata": {
    "autoscroll": "json-false",
    "collapsed": false,
    "ein.tags": [
     "worksheet-0"
    ]
   },
   "outputs": [],
   "source": []
  },
  {
   "cell_type": "code",
   "execution_count": null,
   "metadata": {
    "autoscroll": "json-false",
    "collapsed": false,
    "ein.tags": [
     "worksheet-0"
    ]
   },
   "outputs": [],
   "source": []
  },
  {
   "cell_type": "code",
   "execution_count": null,
   "metadata": {
    "autoscroll": "json-false",
    "collapsed": false,
    "ein.tags": [
     "worksheet-0"
    ]
   },
   "outputs": [],
   "source": []
  },
  {
   "cell_type": "markdown",
   "metadata": {
    "ein.tags": [
     "worksheet-0"
    ]
   },
   "source": [
    "# White images of various square sizes"
   ]
  },
  {
   "cell_type": "code",
   "execution_count": 124,
   "metadata": {
    "autoscroll": "json-false",
    "collapsed": false,
    "ein.tags": [
     "worksheet-0"
    ]
   },
   "outputs": [
    {
     "data": {
      "text/plain": [
       "(2399, 2052)"
      ]
     },
     "execution_count": 124,
     "metadata": {},
     "output_type": "execute_result"
    }
   ],
   "source": [
    "df, feature_cols = load_data('solid-whites')\n",
    "df.shape"
   ]
  },
  {
   "cell_type": "code",
   "execution_count": 125,
   "metadata": {
    "autoscroll": "json-false",
    "collapsed": false,
    "ein.tags": [
     "worksheet-0"
    ]
   },
   "outputs": [
    {
     "data": {
      "text/plain": [
       "(4, 2048)"
      ]
     },
     "execution_count": 125,
     "metadata": {},
     "output_type": "execute_result"
    }
   ],
   "source": [
    "df[feature_cols].drop_duplicates().shape"
   ]
  },
  {
   "cell_type": "code",
   "execution_count": 91,
   "metadata": {
    "autoscroll": "json-false",
    "collapsed": false,
    "ein.tags": [
     "worksheet-0"
    ]
   },
   "outputs": [],
   "source": [
    "from sklearn.decomposition import PCA\n",
    "#df_feature_cols_scaled = sklearn.preprocessing.scale(df[feature_cols])\n",
    "pca = PCA(n_components=5, whiten=True).fit(df[feature_cols])"
   ]
  },
  {
   "cell_type": "code",
   "execution_count": 96,
   "metadata": {
    "autoscroll": "json-false",
    "collapsed": false,
    "ein.tags": [
     "worksheet-0"
    ]
   },
   "outputs": [
    {
     "data": {
      "text/plain": [
       "0.93411701149264548"
      ]
     },
     "execution_count": 96,
     "metadata": {},
     "output_type": "execute_result"
    }
   ],
   "source": [
    "sum(pca.explained_variance_ratio_[:2])"
   ]
  },
  {
   "cell_type": "code",
   "execution_count": 106,
   "metadata": {
    "autoscroll": "json-false",
    "collapsed": false,
    "ein.tags": [
     "worksheet-0"
    ]
   },
   "outputs": [],
   "source": [
    "def biplot(df):\n",
    "    # Fit on 2 components\n",
    "    pca = PCA(n_components=2, whiten=True).fit(df)\n",
    "    # Plot transformed/projected data\n",
    "    ax = pd.DataFrame(\n",
    "\tpca.transform(df),\n",
    "\tcolumns=['PC1', 'PC2']\n",
    "    ).plot(kind='scatter', x='PC1', y='PC2', figsize=(10, 8), s=0.8)\n",
    "    # Plot arrows and labels\n",
    "    for i, (pc1, pc2) in enumerate(\n",
    "\tzip(pca.components_[0], pca.components_[1])):\n",
    "\tax.arrow(0, 0, pc1, pc2, width=0.001, fc='orange', ec='orange')\n",
    "\tax.annotate(df.columns[i], (pc1, pc2), size=12)\n",
    "    return ax"
   ]
  },
  {
   "cell_type": "code",
   "execution_count": 107,
   "metadata": {
    "autoscroll": "json-false",
    "collapsed": false,
    "ein.tags": [
     "worksheet-0"
    ]
   },
   "outputs": [
    {
     "data": {
      "text/plain": [
       "<matplotlib.figure.Figure at 0x1170b8450>"
      ]
     },
     "metadata": {},
     "output_type": "display_data"
    },
    {
     "data": {
      "text/plain": [
       "(-1.0, 1.0)"
      ]
     },
     "execution_count": 107,
     "metadata": {},
     "output_type": "execute_result"
    }
   ],
   "source": [
    "ax = biplot(df[feature_cols])\n",
    "ax.set_xlim([-1.0, 1.0])\n",
    "ax.set_ylim([-1.0, 1.0])"
   ]
  },
  {
   "cell_type": "code",
   "execution_count": 108,
   "metadata": {
    "autoscroll": "json-false",
    "collapsed": false,
    "ein.tags": [
     "worksheet-0"
    ]
   },
   "outputs": [
    {
     "name": "stderr",
     "output_type": "stream",
     "text": [
      "/Users/hqmac028/.virtualenvs/mlnd/lib/python2.7/site-packages/sklearn/preprocessing/data.py:184: UserWarning: Numerical issues were encountered when scaling the data and might not be solved. The standard deviation of the data is probably very close to 0. \n",
      "  warnings.warn(\"Numerical issues were encountered \"\n"
     ]
    }
   ],
   "source": [
    "df_feature_cols_scaled = sklearn.preprocessing.scale(df[feature_cols])"
   ]
  },
  {
   "cell_type": "markdown",
   "metadata": {
    "ein.tags": [
     "worksheet-0"
    ]
   },
   "source": [
    "# Black images of various square sizes"
   ]
  },
  {
   "cell_type": "code",
   "execution_count": 126,
   "metadata": {
    "autoscroll": "json-false",
    "collapsed": false,
    "ein.tags": [
     "worksheet-0"
    ]
   },
   "outputs": [
    {
     "data": {
      "text/plain": [
       "(2399, 2052)"
      ]
     },
     "execution_count": 126,
     "metadata": {},
     "output_type": "execute_result"
    }
   ],
   "source": [
    "df, feature_cols = load_data('solid-blacks')\n",
    "df.shape"
   ]
  },
  {
   "cell_type": "code",
   "execution_count": 120,
   "metadata": {
    "autoscroll": "json-false",
    "collapsed": false,
    "ein.tags": [
     "worksheet-0"
    ]
   },
   "outputs": [],
   "source": [
    "pca = PCA(n_components=5, whiten=True).fit(df[feature_cols])"
   ]
  },
  {
   "cell_type": "code",
   "execution_count": 139,
   "metadata": {
    "autoscroll": "json-false",
    "collapsed": false,
    "ein.tags": [
     "worksheet-0"
    ]
   },
   "outputs": [
    {
     "data": {
      "text/plain": [
       "array([  1.00000000e+00,   3.70681363e-27,   2.72632089e-27,\n         2.50115646e-27,   2.12532290e-27])"
      ]
     },
     "execution_count": 139,
     "metadata": {},
     "output_type": "execute_result"
    }
   ],
   "source": [
    "pca.explained_variance_ratio_"
   ]
  },
  {
   "cell_type": "code",
   "execution_count": 121,
   "metadata": {
    "autoscroll": "json-false",
    "collapsed": false,
    "ein.tags": [
     "worksheet-0"
    ]
   },
   "outputs": [
    {
     "data": {
      "text/plain": [
       "1.0"
      ]
     },
     "execution_count": 121,
     "metadata": {},
     "output_type": "execute_result"
    }
   ],
   "source": [
    "sum(pca.explained_variance_ratio_[:2])"
   ]
  },
  {
   "cell_type": "code",
   "execution_count": 123,
   "metadata": {
    "autoscroll": "json-false",
    "collapsed": false,
    "ein.tags": [
     "worksheet-0"
    ]
   },
   "outputs": [
    {
     "data": {
      "text/plain": [
       "(1, 2048)"
      ]
     },
     "execution_count": 123,
     "metadata": {},
     "output_type": "execute_result"
    }
   ],
   "source": [
    "df[feature_cols].drop_duplicates().shape"
   ]
  },
  {
   "cell_type": "code",
   "execution_count": 127,
   "metadata": {
    "autoscroll": "json-false",
    "collapsed": false,
    "ein.tags": [
     "worksheet-0"
    ]
   },
   "outputs": [
    {
     "data": {
      "text/plain": [
       "<matplotlib.figure.Figure at 0x10d0a89d0>"
      ]
     },
     "metadata": {},
     "output_type": "display_data"
    },
    {
     "data": {
      "text/plain": [
       "(-1.0, 1.0)"
      ]
     },
     "execution_count": 127,
     "metadata": {},
     "output_type": "execute_result"
    }
   ],
   "source": [
    "ax = biplot(df[feature_cols])\n",
    "ax.set_xlim([-1.0, 1.0])\n",
    "ax.set_ylim([-1.0, 1.0])"
   ]
  },
  {
   "cell_type": "markdown",
   "metadata": {
    "ein.tags": [
     "worksheet-0"
    ]
   },
   "source": [
    "# Green"
   ]
  },
  {
   "cell_type": "code",
   "execution_count": 135,
   "metadata": {
    "autoscroll": "json-false",
    "collapsed": false,
    "ein.tags": [
     "worksheet-0"
    ]
   },
   "outputs": [
    {
     "data": {
      "text/plain": [
       "(2399, 2052)"
      ]
     },
     "execution_count": 135,
     "metadata": {},
     "output_type": "execute_result"
    }
   ],
   "source": [
    "df, feature_cols = load_data('solid-greens')\n",
    "df.shape"
   ]
  },
  {
   "cell_type": "code",
   "execution_count": 138,
   "metadata": {
    "autoscroll": "json-false",
    "collapsed": false,
    "ein.tags": [
     "worksheet-0"
    ]
   },
   "outputs": [
    {
     "data": {
      "text/plain": [
       "(4, 2048)"
      ]
     },
     "execution_count": 138,
     "metadata": {},
     "output_type": "execute_result"
    }
   ],
   "source": [
    "df[feature_cols].drop_duplicates().shape"
   ]
  },
  {
   "cell_type": "code",
   "execution_count": 141,
   "metadata": {
    "autoscroll": "json-false",
    "collapsed": false,
    "ein.tags": [
     "worksheet-0"
    ]
   },
   "outputs": [
    {
     "data": {
      "text/plain": [
       "<matplotlib.figure.Figure at 0x10fdcb210>"
      ]
     },
     "metadata": {},
     "output_type": "display_data"
    },
    {
     "data": {
      "text/plain": [
       "(-1.0, 1.0)"
      ]
     },
     "execution_count": 141,
     "metadata": {},
     "output_type": "execute_result"
    }
   ],
   "source": [
    "ax = biplot(df[feature_cols])\n",
    "ax.set_xlim([-1.0, 1.0])\n",
    "ax.set_ylim([-1.0, 1.0])"
   ]
  },
  {
   "cell_type": "code",
   "execution_count": 148,
   "metadata": {
    "autoscroll": "json-false",
    "collapsed": false,
    "ein.tags": [
     "worksheet-0"
    ]
   },
   "outputs": [
    {
     "data": {
      "text/plain": [
       "<matplotlib.figure.Figure at 0x10ded5650>"
      ]
     },
     "metadata": {},
     "output_type": "display_data"
    },
    {
     "data": {
      "text/plain": [
       "(-1.0, 1.0)"
      ]
     },
     "execution_count": 148,
     "metadata": {},
     "output_type": "execute_result"
    }
   ],
   "source": [
    "ax = biplot(pd.DataFrame(sklearn.preprocessing.scale(foo), columns=feature_cols))\n",
    "ax.set_xlim([-1.0, 1.0])\n",
    "ax.set_ylim([-1.0, 1.0])"
   ]
  },
  {
   "cell_type": "code",
   "execution_count": null,
   "metadata": {
    "autoscroll": "json-false",
    "collapsed": false,
    "ein.tags": [
     "worksheet-0"
    ]
   },
   "outputs": [],
   "source": []
  },
  {
   "cell_type": "code",
   "execution_count": null,
   "metadata": {
    "autoscroll": "json-false",
    "collapsed": false,
    "ein.tags": [
     "worksheet-0"
    ]
   },
   "outputs": [],
   "source": []
  },
  {
   "cell_type": "code",
   "execution_count": 160,
   "metadata": {
    "autoscroll": "json-false",
    "collapsed": false,
    "ein.tags": [
     "worksheet-0"
    ]
   },
   "outputs": [],
   "source": [
    "imagefile = 'Images/n02106662-German_shepherd/n02106662_22245.jpg'\n",
    "im = PImage.open(imagefile)"
   ]
  },
  {
   "cell_type": "code",
   "execution_count": 161,
   "metadata": {
    "autoscroll": "json-false",
    "collapsed": false,
    "ein.tags": [
     "worksheet-0"
    ]
   },
   "outputs": [
    {
     "data": {
      "text/plain": [
       "(2272, 1704)"
      ]
     },
     "execution_count": 161,
     "metadata": {},
     "output_type": "execute_result"
    }
   ],
   "source": [
    "im.size"
   ]
  },
  {
   "cell_type": "code",
   "execution_count": null,
   "metadata": {
    "autoscroll": "json-false",
    "collapsed": false,
    "ein.tags": [
     "worksheet-0"
    ]
   },
   "outputs": [],
   "source": []
  },
  {
   "cell_type": "code",
   "execution_count": null,
   "metadata": {
    "autoscroll": "json-false",
    "collapsed": false,
    "ein.tags": [
     "worksheet-0"
    ]
   },
   "outputs": [],
   "source": [
    "create_image_dir('husky-squaresize')"
   ]
  }
 ],
 "metadata": {},
 "nbformat": 4,
 "nbformat_minor": 0
}
