{
 "cells": [
  {
   "cell_type": "code",
   "execution_count": 1,
   "metadata": {
    "autoscroll": "json-false",
    "collapsed": false,
    "ein.tags": [
     "worksheet-0"
    ]
   },
   "outputs": [],
   "source": [
    "%matplotlib inline\n",
    "%load_ext autoreload\n",
    "%autoreload 2\n",
    "import os\n",
    "import sys\n",
    "\n",
    "import csv\n",
    "import datetime\n",
    "import itertools\n",
    "import numpy as np\n",
    "import pandas as pd\n",
    "import random\n",
    "import re\n",
    "from collections import defaultdict\n",
    "\n",
    "import matplotlib as mpl\n",
    "import matplotlib.pyplot as plt\n",
    "import seaborn as sns\n",
    "sns.set_style(\"whitegrid\")\n",
    "sns.set_context(rc={\n",
    "       \"figure.figsize\": (16, 10),\n",
    "       \"axes.titlesize\": 14})\n",
    "\n",
    "import sklearn\n",
    "\n",
    "from IPython.display import Image, display\n",
    "from IPython.core.display import HTML\n",
    "HTML(\"<style>.container { width:100% !important; }</style>\")\n",
    "\n",
    "from os.path import expanduser\n",
    "sys.path.insert(1, '{}/datsci'.format(expanduser('~')))\n",
    "from datsci import eda\n",
    "from datsci import kaggle as kg"
   ]
  },
  {
   "cell_type": "markdown",
   "metadata": {
    "ein.tags": [
     "worksheet-0"
    ]
   },
   "source": [
    "# Download using instagram - doesn't work because sandbox mode doesn't allow access outside of users list\n",
    "\n",
    "Get Instagram API access token by goign to the following link:\n",
    "\n",
    "https://api.instagram.com/oauth/authorize/?client_id=b8fcceb0210d43578cf3d6f07352d997&redirect_uri=https://github.com/jjinking/deep-features&response_type=token&scope=basic+public_content"
   ]
  },
  {
   "cell_type": "code",
   "execution_count": 3,
   "metadata": {
    "autoscroll": "json-false",
    "collapsed": false,
    "ein.tags": [
     "worksheet-0"
    ]
   },
   "outputs": [],
   "source": [
    "from instagram.client import InstagramAPI\n",
    "\n",
    "# Set env variables from .env file\n",
    "if os.path.exists('.env'):\n",
    "    with open('.env') as f:\n",
    "\tfor line in f:\n",
    "\t    var = line.strip().split('=')\n",
    "\t    if len(var) == 2:\n",
    "\t\tos.environ[var[0]] = var[1]\n",
    "\n",
    "api = InstagramAPI(access_token=os.environ['IG_ACCESS_TOKEN'],\n",
    "\t\t   client_secret=os.environ['IG_CLIENT_SECRET'])\n",
    "\n",
    "results, next_ = api.tag_recent_media(count=175, tag_name=\"animalfocus\")\n",
    "\n",
    "# while next_:\n",
    "#     r, next_ = api.tag_search(with_next_url=next_)\n",
    "#     results.extend(r)"
   ]
  },
  {
   "cell_type": "code",
   "execution_count": null,
   "metadata": {
    "autoscroll": "json-false",
    "collapsed": false,
    "ein.tags": [
     "worksheet-0"
    ]
   },
   "outputs": [],
   "source": []
  }
 ],
 "metadata": {},
 "nbformat": 4,
 "nbformat_minor": 0
}
