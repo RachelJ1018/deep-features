{
 "cells": [
  {
   "cell_type": "code",
   "execution_count": 1,
   "metadata": {
    "autoscroll": "json-false",
    "collapsed": false,
    "ein.tags": [
     "worksheet-0"
    ]
   },
   "outputs": [],
   "source": [
    "%matplotlib inline\n",
    "%load_ext autoreload\n",
    "%autoreload 2\n",
    "import os\n",
    "import sys\n",
    "\n",
    "import csv\n",
    "import datetime\n",
    "import itertools\n",
    "import numpy as np\n",
    "import pandas as pd\n",
    "import random\n",
    "from collections import defaultdict\n",
    "\n",
    "import matplotlib as mpl\n",
    "import matplotlib.pyplot as plt\n",
    "import seaborn as sns\n",
    "sns.set_style(\"whitegrid\")\n",
    "sns.set_context(rc={\n",
    "       \"figure.figsize\": (16, 10),\n",
    "       \"axes.titlesize\": 14})\n",
    "\n",
    "import sklearn\n",
    "\n",
    "from IPython.display import Image, display\n",
    "from IPython.core.display import HTML\n",
    "HTML(\"<style>.container { width:100% !important; }</style>\")\n",
    "\n",
    "from os.path import expanduser\n",
    "sys.path.insert(1, '{}/datsci'.format(expanduser('~')))\n",
    "from datsci import eda\n",
    "from datsci import kaggle as kg"
   ]
  },
  {
   "cell_type": "markdown",
   "metadata": {
    "ein.tags": [
     "worksheet-0"
    ]
   },
   "source": [
    "## Generate filename lists of ImageNetDogs\n",
    "downloaded from http://vision.stanford.edu/aditya86/ImageNetDogs/\n",
    "\n",
    "```bash\n",
    "for D in `find Images -type d -depth 1`; do find $D -type f > Images_filenames/`basename $D`.txt  ; done\n",
    "```\n",
    "\n",
    "## Generate deep features for dog images\n",
    "\n",
    "```bash\n",
    "filename=Images_filenames/n02106662-German_shepherd.txt\n",
    "time python image_deep_features.py --image_files_listfile $filename --output_deep_features Images_features/$(basename \"$filename\" .txt).df.txt\n",
    "```"
   ]
  },
  {
   "cell_type": "markdown",
   "metadata": {
    "ein.tags": [
     "worksheet-0"
    ]
   },
   "source": [
    "# Read in all the deep features for every dog image"
   ]
  },
  {
   "cell_type": "code",
   "execution_count": 2,
   "metadata": {
    "autoscroll": "json-false",
    "collapsed": false,
    "ein.tags": [
     "worksheet-0"
    ]
   },
   "outputs": [],
   "source": [
    "## Format all dogs data\n",
    "def format_all_dogs_data():\n",
    "    df = pd.read_csv('dogs_data.raw.txt', header=None)\n",
    "    colnames = list(df.columns[:])\n",
    "    colnames[0] = 'filepath'\n",
    "    for i in range(1, len(colnames)):\n",
    "\tcolnames[i] = \"feature{}\".format(colnames[i])\n",
    "    df.columns = colnames\n",
    "    df.to_csv('dogs_data.txt', index=False)    "
   ]
  },
  {
   "cell_type": "code",
   "execution_count": 3,
   "metadata": {
    "autoscroll": "json-false",
    "collapsed": false,
    "ein.tags": [
     "worksheet-0"
    ]
   },
   "outputs": [],
   "source": [
    "# Load data\n",
    "df = pd.read_csv('dogs_data.txt')\n",
    "columns_deepfeatures = df.columns[1:]\n",
    "df['image_name'] = df.filepath.apply(lambda x: os.path.splitext(os.path.basename(x))[0])\n",
    "df['category'] = df.filepath.apply(lambda x: '-'.join(x.split('/')[1].split('-')[1:]))"
   ]
  },
  {
   "cell_type": "code",
   "execution_count": 4,
   "metadata": {
    "autoscroll": "json-false",
    "collapsed": false,
    "ein.tags": [
     "worksheet-0"
    ]
   },
   "outputs": [
    {
     "data": {
      "text/plain": [
       "                                                filepath      image_name  \\\n0           Images/friends-bishonfrise/bishonfrise.1.jpg   bishonfrise.1   \n1           Images/friends-bishonfrise/bishonfrise.2.jpg   bishonfrise.2   \n2           Images/friends-bishonfrise/bishonfrise.3.jpg   bishonfrise.3   \n15549    Images/n02108000-EntleBucher/n02108000_3173.jpg  n02108000_3173   \n5656   Images/n02093647-Bedlington_terrier/n02093647_...  n02093647_3543   \n15752          Images/n02108089-boxer/n02108089_7259.jpg  n02108089_7259   \n\n                 category  \n0             bishonfrise  \n1             bishonfrise  \n2             bishonfrise  \n15549         EntleBucher  \n5656   Bedlington_terrier  \n15752               boxer  "
      ]
     },
     "execution_count": 4,
     "metadata": {},
     "output_type": "execute_result"
    }
   ],
   "source": [
    "df[[\"filepath\", \"image_name\", \"category\"]].ix[[0,1,2]+random.sample(range(df.shape[0]), 3),]"
   ]
  },
  {
   "cell_type": "code",
   "execution_count": 5,
   "metadata": {
    "autoscroll": "json-false",
    "collapsed": false,
    "ein.tags": [
     "worksheet-0"
    ]
   },
   "outputs": [],
   "source": [
    "# Midpoint of all the data\n",
    "middle_pt = df[columns_deepfeatures].mean()\n",
    "\n",
    "# Sort all the points in the df with respect to their distance from middle point\n",
    "df['dist_from_middle'] = df.apply(lambda row: np.linalg.norm(middle_pt.values - row[columns_deepfeatures].values), axis=1)\n",
    "df_sorted = df.sort_values('dist_from_middle')"
   ]
  },
  {
   "cell_type": "code",
   "execution_count": 71,
   "metadata": {
    "autoscroll": "json-false",
    "collapsed": false,
    "ein.tags": [
     "worksheet-0"
    ]
   },
   "outputs": [
    {
     "data": {
      "text/plain": [
       "<matplotlib.figure.Figure at 0x10a4bf350>"
      ]
     },
     "metadata": {},
     "output_type": "display_data"
    },
    {
     "data": {
      "text/plain": [
       "<matplotlib.axes._subplots.AxesSubplot at 0x10a169fd0>"
      ]
     },
     "execution_count": 71,
     "metadata": {},
     "output_type": "execute_result"
    }
   ],
   "source": [
    "df.sample(300, random_state=0).dist_from_middle.sort_values().plot(kind='bar', figsize=(8,6))"
   ]
  },
  {
   "cell_type": "code",
   "execution_count": 38,
   "metadata": {
    "autoscroll": "json-false",
    "collapsed": false,
    "ein.tags": [
     "worksheet-0"
    ]
   },
   "outputs": [
    {
     "data": {
      "text/plain": [
       "<IPython.core.display.Image object>"
      ]
     },
     "execution_count": 38,
     "jpeg": "[encoded data removed]",
     "metadata": {},
     "output_type": "execute_result"
    }
   ],
   "source": [
    "Image(df_sorted.iloc[10131].filepath)"
   ]
  },
  {
   "cell_type": "code",
   "execution_count": 86,
   "metadata": {
    "autoscroll": "json-false",
    "collapsed": false,
    "ein.tags": [
     "worksheet-0"
    ]
   },
   "outputs": [
    {
     "data": {
      "text/plain": [
       "<matplotlib.figure.Figure at 0x10d3c2c50>"
      ]
     },
     "metadata": {},
     "output_type": "display_data"
    }
   ],
   "source": [
    "# Transform data w tSNE and visualize\n",
    "from sklearn.manifold import TSNE\n",
    "tsne_model = TSNE(n_components=2, random_state=0)\n",
    "#df_sample = df.sample(1000, random_state=0)\n",
    "df_sample = df.head(1000)\n",
    "df_tsne = pd.DataFrame(tsne_model.fit_transform(df_sample[columns_deepfeatures]), columns=['tsne1', 'tsne2'])\n",
    "df_tsne['category'] = df_sample.category.values\n",
    "\n",
    "# Plot tsne data\n",
    "cats = df_tsne.category.unique()[:]\n",
    "cat2color = dict(zip(cats, map(lambda x: np.random.rand(3), cats)))\n",
    "ax = df_tsne.plot(kind='scatter', x='tsne1', y='tsne2', c=df_tsne.category.apply(lambda x: cat2color[x]), figsize=(8, 6), title=\"tSNE Plot of Sampled Deep Features, Colored by Category\")\n",
    "\n",
    "# Annotate bishonfrise\n",
    "#_cat = 'bishonfrise'\n",
    "_cat = 'shiba'\n",
    "for i, row in df_tsne.iterrows():\n",
    "    if row['category'] == _cat:\n",
    "\tax.annotate(_cat, (row[0], row[1]), size=9)"
   ]
  },
  {
   "cell_type": "markdown",
   "metadata": {
    "ein.tags": [
     "worksheet-0"
    ]
   },
   "source": [
    "Plot shows that new dogs will probably just map to known dogs that it looks like"
   ]
  },
  {
   "cell_type": "code",
   "execution_count": 181,
   "metadata": {
    "autoscroll": "json-false",
    "collapsed": false,
    "ein.tags": [
     "worksheet-0"
    ]
   },
   "outputs": [],
   "source": [
    "from PIL import Image as PILImage\n",
    "\n",
    "def imgshow_nearest_furthest(catname, n):\n",
    "    '''Show top n images nearest and furthest from the mean'''\n",
    "\n",
    "    df_cat = df[df.category == catname].copy(deep=True)\n",
    "    middle_pt_gs = df_cat[columns_deepfeatures].mean()\n",
    "    df_cat['dist_from_middle'] = df_cat.apply(lambda row: np.linalg.norm(middle_pt_gs.values - row[columns_deepfeatures].values), axis=1)\n",
    "    df_cat = df_cat.sort_values('dist_from_middle')\n",
    "\n",
    "    fig = plt.figure()\n",
    "    for i in range(1, n + 1):\n",
    "\tax = fig.add_subplot(1, n, i)\n",
    "\tplt.imshow(np.asarray(PILImage.open(df_cat.iloc[i].filepath, 'r')))\n",
    "\tplt.axis('off')\n",
    "\n",
    "    fig = plt.figure()\n",
    "    for i in range(1, n + 1):\n",
    "\tax = fig.add_subplot(1, n, i)\n",
    "\tplt.imshow(np.asarray(PILImage.open(df_cat.iloc[-i].filepath, 'r')))\n",
    "\tplt.axis('off')"
   ]
  },
  {
   "cell_type": "markdown",
   "metadata": {
    "ein.tags": [
     "worksheet-0"
    ]
   },
   "source": [
    "# Analyze by each category\n",
    "\n",
    "## German Shepard"
   ]
  },
  {
   "cell_type": "code",
   "execution_count": 188,
   "metadata": {
    "autoscroll": "json-false",
    "collapsed": false,
    "ein.tags": [
     "worksheet-0"
    ]
   },
   "outputs": [
    {
     "data": {
      "text/plain": [
       "<IPython.core.display.Image object>"
      ]
     },
     "execution_count": 188,
     "jpeg": "[encoded data removed]",
     "metadata": {},
     "output_type": "execute_result"
    }
   ],
   "source": [
    "Image(df_gs.iloc[-7].filepath)"
   ]
  },
  {
   "cell_type": "code",
   "execution_count": 182,
   "metadata": {
    "autoscroll": "json-false",
    "collapsed": false,
    "ein.tags": [
     "worksheet-0"
    ]
   },
   "outputs": [
    {
     "data": {
      "text/plain": [
       "<matplotlib.figure.Figure at 0x10a243a10>"
      ]
     },
     "metadata": {},
     "output_type": "display_data"
    },
    {
     "data": {
      "text/plain": [
       "<matplotlib.figure.Figure at 0x10cfe6d50>"
      ]
     },
     "metadata": {},
     "output_type": "display_data"
    }
   ],
   "source": [
    "imgshow_nearest_furthest('German_shepherd', 7)"
   ]
  },
  {
   "cell_type": "markdown",
   "metadata": {
    "ein.tags": [
     "worksheet-0"
    ]
   },
   "source": [
    "## Great Dane"
   ]
  },
  {
   "cell_type": "code",
   "execution_count": 183,
   "metadata": {
    "autoscroll": "json-false",
    "collapsed": false,
    "ein.tags": [
     "worksheet-0"
    ]
   },
   "outputs": [
    {
     "data": {
      "text/plain": [
       "<matplotlib.figure.Figure at 0x112d0aa90>"
      ]
     },
     "metadata": {},
     "output_type": "display_data"
    },
    {
     "data": {
      "text/plain": [
       "<matplotlib.figure.Figure at 0x10dbf0290>"
      ]
     },
     "metadata": {},
     "output_type": "display_data"
    }
   ],
   "source": [
    "imgshow_nearest_furthest('Great_Dane', 7)"
   ]
  },
  {
   "cell_type": "markdown",
   "metadata": {
    "ein.tags": [
     "worksheet-0"
    ]
   },
   "source": [
    "## Yorkshire Terrier"
   ]
  },
  {
   "cell_type": "code",
   "execution_count": 184,
   "metadata": {
    "autoscroll": "json-false",
    "collapsed": false,
    "ein.tags": [
     "worksheet-0"
    ]
   },
   "outputs": [
    {
     "data": {
      "text/plain": [
       "<matplotlib.figure.Figure at 0x112c13e50>"
      ]
     },
     "metadata": {},
     "output_type": "display_data"
    },
    {
     "data": {
      "text/plain": [
       "<matplotlib.figure.Figure at 0x10cd6e250>"
      ]
     },
     "metadata": {},
     "output_type": "display_data"
    }
   ],
   "source": [
    "imgshow_nearest_furthest('Yorkshire_terrier', 7)"
   ]
  },
  {
   "cell_type": "markdown",
   "metadata": {
    "ein.tags": [
     "worksheet-0"
    ]
   },
   "source": [
    "## Siberian Husky"
   ]
  },
  {
   "cell_type": "code",
   "execution_count": 189,
   "metadata": {
    "autoscroll": "json-false",
    "collapsed": false,
    "ein.tags": [
     "worksheet-0"
    ]
   },
   "outputs": [
    {
     "data": {
      "text/plain": [
       "<matplotlib.figure.Figure at 0x1134bc690>"
      ]
     },
     "metadata": {},
     "output_type": "display_data"
    },
    {
     "data": {
      "text/plain": [
       "<matplotlib.figure.Figure at 0x10fb42a50>"
      ]
     },
     "metadata": {},
     "output_type": "display_data"
    }
   ],
   "source": [
    "imgshow_nearest_furthest('Siberian_husky', 7)"
   ]
  },
  {
   "cell_type": "markdown",
   "metadata": {
    "ein.tags": [
     "worksheet-0"
    ]
   },
   "source": [
    "## Toy Poodle"
   ]
  },
  {
   "cell_type": "code",
   "execution_count": 185,
   "metadata": {
    "autoscroll": "json-false",
    "collapsed": false,
    "ein.tags": [
     "worksheet-0"
    ]
   },
   "outputs": [
    {
     "data": {
      "text/plain": [
       "<matplotlib.figure.Figure at 0x111abc290>"
      ]
     },
     "metadata": {},
     "output_type": "display_data"
    },
    {
     "data": {
      "text/plain": [
       "<matplotlib.figure.Figure at 0x112a29c90>"
      ]
     },
     "metadata": {},
     "output_type": "display_data"
    }
   ],
   "source": [
    "imgshow_nearest_furthest('toy_poodle', 7)"
   ]
  },
  {
   "cell_type": "code",
   "execution_count": 186,
   "metadata": {
    "autoscroll": "json-false",
    "collapsed": false,
    "ein.tags": [
     "worksheet-0"
    ]
   },
   "outputs": [
    {
     "data": {
      "text/plain": [
       "<matplotlib.figure.Figure at 0x111cbb5d0>"
      ]
     },
     "metadata": {},
     "output_type": "display_data"
    },
    {
     "data": {
      "text/plain": [
       "<matplotlib.figure.Figure at 0x1103f0590>"
      ]
     },
     "metadata": {},
     "output_type": "display_data"
    }
   ],
   "source": [
    "imgshow_nearest_furthest('shiba', 7)"
   ]
  },
  {
   "cell_type": "code",
   "execution_count": 187,
   "metadata": {
    "autoscroll": "json-false",
    "collapsed": false,
    "ein.tags": [
     "worksheet-0"
    ]
   },
   "outputs": [
    {
     "data": {
      "text/plain": [
       "<matplotlib.figure.Figure at 0x10ef50cd0>"
      ]
     },
     "metadata": {},
     "output_type": "display_data"
    },
    {
     "data": {
      "text/plain": [
       "<matplotlib.figure.Figure at 0x1103c0550>"
      ]
     },
     "metadata": {},
     "output_type": "display_data"
    }
   ],
   "source": [
    "imgshow_nearest_furthest('bishonfrise', 2)"
   ]
  },
  {
   "cell_type": "code",
   "execution_count": null,
   "metadata": {
    "autoscroll": "json-false",
    "collapsed": false,
    "ein.tags": [
     "worksheet-0"
    ]
   },
   "outputs": [],
   "source": []
  }
 ],
 "metadata": {},
 "nbformat": 4,
 "nbformat_minor": 0
}
